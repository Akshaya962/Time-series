{
 "cells": [
  {
   "cell_type": "code",
   "execution_count": 1,
   "metadata": {
    "id": "SWKr4u8Q_tqn"
   },
   "outputs": [],
   "source": [
    "import numpy as np\n",
    "import pandas as pd\n",
    "import statsmodels.api as sm\n",
    "from statsmodels.graphics.tsaplots import plot_acf, plot_pacf"
   ]
  },
  {
   "cell_type": "code",
   "execution_count": 2,
   "metadata": {
    "id": "UWJTgNuw_tqp"
   },
   "outputs": [],
   "source": [
    "import matplotlib.pyplot as plt\n",
    "%matplotlib inline"
   ]
  },
  {
   "cell_type": "code",
   "execution_count": 3,
   "metadata": {
    "id": "-_z-zR5U_tqp"
   },
   "outputs": [],
   "source": [
    "df = pd.read_csv('monthly-milk-production-pounds-p.csv')"
   ]
  },
  {
   "cell_type": "code",
   "execution_count": 4,
   "metadata": {
    "colab": {
     "base_uri": "https://localhost:8080/",
     "height": 206
    },
    "id": "9gENAAdkoaYZ",
    "outputId": "9268dcad-08dc-4c09-9460-a2c048107298"
   },
   "outputs": [
    {
     "data": {
      "text/html": [
       "\n",
       "  <div id=\"df-c0695e74-e99a-4286-b2f7-497f50190b1f\">\n",
       "    <div class=\"colab-df-container\">\n",
       "      <div>\n",
       "<style scoped>\n",
       "    .dataframe tbody tr th:only-of-type {\n",
       "        vertical-align: middle;\n",
       "    }\n",
       "\n",
       "    .dataframe tbody tr th {\n",
       "        vertical-align: top;\n",
       "    }\n",
       "\n",
       "    .dataframe thead th {\n",
       "        text-align: right;\n",
       "    }\n",
       "</style>\n",
       "<table border=\"1\" class=\"dataframe\">\n",
       "  <thead>\n",
       "    <tr style=\"text-align: right;\">\n",
       "      <th></th>\n",
       "      <th>Month</th>\n",
       "      <th>Monthly milk production: pounds per cow. Jan 62 ? Dec 75</th>\n",
       "    </tr>\n",
       "  </thead>\n",
       "  <tbody>\n",
       "    <tr>\n",
       "      <th>0</th>\n",
       "      <td>1962-01</td>\n",
       "      <td>589.0</td>\n",
       "    </tr>\n",
       "    <tr>\n",
       "      <th>1</th>\n",
       "      <td>1962-02</td>\n",
       "      <td>561.0</td>\n",
       "    </tr>\n",
       "    <tr>\n",
       "      <th>2</th>\n",
       "      <td>1962-03</td>\n",
       "      <td>640.0</td>\n",
       "    </tr>\n",
       "    <tr>\n",
       "      <th>3</th>\n",
       "      <td>1962-04</td>\n",
       "      <td>656.0</td>\n",
       "    </tr>\n",
       "    <tr>\n",
       "      <th>4</th>\n",
       "      <td>1962-05</td>\n",
       "      <td>727.0</td>\n",
       "    </tr>\n",
       "  </tbody>\n",
       "</table>\n",
       "</div>\n",
       "      <button class=\"colab-df-convert\" onclick=\"convertToInteractive('df-c0695e74-e99a-4286-b2f7-497f50190b1f')\"\n",
       "              title=\"Convert this dataframe to an interactive table.\"\n",
       "              style=\"display:none;\">\n",
       "        \n",
       "  <svg xmlns=\"http://www.w3.org/2000/svg\" height=\"24px\"viewBox=\"0 0 24 24\"\n",
       "       width=\"24px\">\n",
       "    <path d=\"M0 0h24v24H0V0z\" fill=\"none\"/>\n",
       "    <path d=\"M18.56 5.44l.94 2.06.94-2.06 2.06-.94-2.06-.94-.94-2.06-.94 2.06-2.06.94zm-11 1L8.5 8.5l.94-2.06 2.06-.94-2.06-.94L8.5 2.5l-.94 2.06-2.06.94zm10 10l.94 2.06.94-2.06 2.06-.94-2.06-.94-.94-2.06-.94 2.06-2.06.94z\"/><path d=\"M17.41 7.96l-1.37-1.37c-.4-.4-.92-.59-1.43-.59-.52 0-1.04.2-1.43.59L10.3 9.45l-7.72 7.72c-.78.78-.78 2.05 0 2.83L4 21.41c.39.39.9.59 1.41.59.51 0 1.02-.2 1.41-.59l7.78-7.78 2.81-2.81c.8-.78.8-2.07 0-2.86zM5.41 20L4 18.59l7.72-7.72 1.47 1.35L5.41 20z\"/>\n",
       "  </svg>\n",
       "      </button>\n",
       "      \n",
       "  <style>\n",
       "    .colab-df-container {\n",
       "      display:flex;\n",
       "      flex-wrap:wrap;\n",
       "      gap: 12px;\n",
       "    }\n",
       "\n",
       "    .colab-df-convert {\n",
       "      background-color: #E8F0FE;\n",
       "      border: none;\n",
       "      border-radius: 50%;\n",
       "      cursor: pointer;\n",
       "      display: none;\n",
       "      fill: #1967D2;\n",
       "      height: 32px;\n",
       "      padding: 0 0 0 0;\n",
       "      width: 32px;\n",
       "    }\n",
       "\n",
       "    .colab-df-convert:hover {\n",
       "      background-color: #E2EBFA;\n",
       "      box-shadow: 0px 1px 2px rgba(60, 64, 67, 0.3), 0px 1px 3px 1px rgba(60, 64, 67, 0.15);\n",
       "      fill: #174EA6;\n",
       "    }\n",
       "\n",
       "    [theme=dark] .colab-df-convert {\n",
       "      background-color: #3B4455;\n",
       "      fill: #D2E3FC;\n",
       "    }\n",
       "\n",
       "    [theme=dark] .colab-df-convert:hover {\n",
       "      background-color: #434B5C;\n",
       "      box-shadow: 0px 1px 3px 1px rgba(0, 0, 0, 0.15);\n",
       "      filter: drop-shadow(0px 1px 2px rgba(0, 0, 0, 0.3));\n",
       "      fill: #FFFFFF;\n",
       "    }\n",
       "  </style>\n",
       "\n",
       "      <script>\n",
       "        const buttonEl =\n",
       "          document.querySelector('#df-c0695e74-e99a-4286-b2f7-497f50190b1f button.colab-df-convert');\n",
       "        buttonEl.style.display =\n",
       "          google.colab.kernel.accessAllowed ? 'block' : 'none';\n",
       "\n",
       "        async function convertToInteractive(key) {\n",
       "          const element = document.querySelector('#df-c0695e74-e99a-4286-b2f7-497f50190b1f');\n",
       "          const dataTable =\n",
       "            await google.colab.kernel.invokeFunction('convertToInteractive',\n",
       "                                                     [key], {});\n",
       "          if (!dataTable) return;\n",
       "\n",
       "          const docLinkHtml = 'Like what you see? Visit the ' +\n",
       "            '<a target=\"_blank\" href=https://colab.research.google.com/notebooks/data_table.ipynb>data table notebook</a>'\n",
       "            + ' to learn more about interactive tables.';\n",
       "          element.innerHTML = '';\n",
       "          dataTable['output_type'] = 'display_data';\n",
       "          await google.colab.output.renderOutput(dataTable, element);\n",
       "          const docLink = document.createElement('div');\n",
       "          docLink.innerHTML = docLinkHtml;\n",
       "          element.appendChild(docLink);\n",
       "        }\n",
       "      </script>\n",
       "    </div>\n",
       "  </div>\n",
       "  "
      ],
      "text/plain": [
       "     Month  Monthly milk production: pounds per cow. Jan 62 ? Dec 75\n",
       "0  1962-01                                              589.0       \n",
       "1  1962-02                                              561.0       \n",
       "2  1962-03                                              640.0       \n",
       "3  1962-04                                              656.0       \n",
       "4  1962-05                                              727.0       "
      ]
     },
     "execution_count": 4,
     "metadata": {},
     "output_type": "execute_result"
    }
   ],
   "source": [
    "df.head()"
   ]
  },
  {
   "cell_type": "code",
   "execution_count": 5,
   "metadata": {
    "colab": {
     "base_uri": "https://localhost:8080/",
     "height": 285
    },
    "id": "mmaMTAvA_pbX",
    "outputId": "70eaf8a5-60f6-4851-ee8e-57d2d1d0c416"
   },
   "outputs": [
    {
     "data": {
      "text/html": [
       "\n",
       "  <div id=\"df-c020fea3-b62e-4149-8a72-618133288151\">\n",
       "    <div class=\"colab-df-container\">\n",
       "      <div>\n",
       "<style scoped>\n",
       "    .dataframe tbody tr th:only-of-type {\n",
       "        vertical-align: middle;\n",
       "    }\n",
       "\n",
       "    .dataframe tbody tr th {\n",
       "        vertical-align: top;\n",
       "    }\n",
       "\n",
       "    .dataframe thead th {\n",
       "        text-align: right;\n",
       "    }\n",
       "</style>\n",
       "<table border=\"1\" class=\"dataframe\">\n",
       "  <thead>\n",
       "    <tr style=\"text-align: right;\">\n",
       "      <th></th>\n",
       "      <th>Month</th>\n",
       "      <th>Monthly milk production: pounds per cow. Jan 62 ? Dec 75</th>\n",
       "    </tr>\n",
       "  </thead>\n",
       "  <tbody>\n",
       "    <tr>\n",
       "      <th>164</th>\n",
       "      <td>1975-09</td>\n",
       "      <td>817.0</td>\n",
       "    </tr>\n",
       "    <tr>\n",
       "      <th>165</th>\n",
       "      <td>1975-10</td>\n",
       "      <td>827.0</td>\n",
       "    </tr>\n",
       "    <tr>\n",
       "      <th>166</th>\n",
       "      <td>1975-11</td>\n",
       "      <td>797.0</td>\n",
       "    </tr>\n",
       "    <tr>\n",
       "      <th>167</th>\n",
       "      <td>1975-12</td>\n",
       "      <td>843.0</td>\n",
       "    </tr>\n",
       "    <tr>\n",
       "      <th>168</th>\n",
       "      <td>Monthly milk production: pounds per cow. Jan 6...</td>\n",
       "      <td>NaN</td>\n",
       "    </tr>\n",
       "  </tbody>\n",
       "</table>\n",
       "</div>\n",
       "      <button class=\"colab-df-convert\" onclick=\"convertToInteractive('df-c020fea3-b62e-4149-8a72-618133288151')\"\n",
       "              title=\"Convert this dataframe to an interactive table.\"\n",
       "              style=\"display:none;\">\n",
       "        \n",
       "  <svg xmlns=\"http://www.w3.org/2000/svg\" height=\"24px\"viewBox=\"0 0 24 24\"\n",
       "       width=\"24px\">\n",
       "    <path d=\"M0 0h24v24H0V0z\" fill=\"none\"/>\n",
       "    <path d=\"M18.56 5.44l.94 2.06.94-2.06 2.06-.94-2.06-.94-.94-2.06-.94 2.06-2.06.94zm-11 1L8.5 8.5l.94-2.06 2.06-.94-2.06-.94L8.5 2.5l-.94 2.06-2.06.94zm10 10l.94 2.06.94-2.06 2.06-.94-2.06-.94-.94-2.06-.94 2.06-2.06.94z\"/><path d=\"M17.41 7.96l-1.37-1.37c-.4-.4-.92-.59-1.43-.59-.52 0-1.04.2-1.43.59L10.3 9.45l-7.72 7.72c-.78.78-.78 2.05 0 2.83L4 21.41c.39.39.9.59 1.41.59.51 0 1.02-.2 1.41-.59l7.78-7.78 2.81-2.81c.8-.78.8-2.07 0-2.86zM5.41 20L4 18.59l7.72-7.72 1.47 1.35L5.41 20z\"/>\n",
       "  </svg>\n",
       "      </button>\n",
       "      \n",
       "  <style>\n",
       "    .colab-df-container {\n",
       "      display:flex;\n",
       "      flex-wrap:wrap;\n",
       "      gap: 12px;\n",
       "    }\n",
       "\n",
       "    .colab-df-convert {\n",
       "      background-color: #E8F0FE;\n",
       "      border: none;\n",
       "      border-radius: 50%;\n",
       "      cursor: pointer;\n",
       "      display: none;\n",
       "      fill: #1967D2;\n",
       "      height: 32px;\n",
       "      padding: 0 0 0 0;\n",
       "      width: 32px;\n",
       "    }\n",
       "\n",
       "    .colab-df-convert:hover {\n",
       "      background-color: #E2EBFA;\n",
       "      box-shadow: 0px 1px 2px rgba(60, 64, 67, 0.3), 0px 1px 3px 1px rgba(60, 64, 67, 0.15);\n",
       "      fill: #174EA6;\n",
       "    }\n",
       "\n",
       "    [theme=dark] .colab-df-convert {\n",
       "      background-color: #3B4455;\n",
       "      fill: #D2E3FC;\n",
       "    }\n",
       "\n",
       "    [theme=dark] .colab-df-convert:hover {\n",
       "      background-color: #434B5C;\n",
       "      box-shadow: 0px 1px 3px 1px rgba(0, 0, 0, 0.15);\n",
       "      filter: drop-shadow(0px 1px 2px rgba(0, 0, 0, 0.3));\n",
       "      fill: #FFFFFF;\n",
       "    }\n",
       "  </style>\n",
       "\n",
       "      <script>\n",
       "        const buttonEl =\n",
       "          document.querySelector('#df-c020fea3-b62e-4149-8a72-618133288151 button.colab-df-convert');\n",
       "        buttonEl.style.display =\n",
       "          google.colab.kernel.accessAllowed ? 'block' : 'none';\n",
       "\n",
       "        async function convertToInteractive(key) {\n",
       "          const element = document.querySelector('#df-c020fea3-b62e-4149-8a72-618133288151');\n",
       "          const dataTable =\n",
       "            await google.colab.kernel.invokeFunction('convertToInteractive',\n",
       "                                                     [key], {});\n",
       "          if (!dataTable) return;\n",
       "\n",
       "          const docLinkHtml = 'Like what you see? Visit the ' +\n",
       "            '<a target=\"_blank\" href=https://colab.research.google.com/notebooks/data_table.ipynb>data table notebook</a>'\n",
       "            + ' to learn more about interactive tables.';\n",
       "          element.innerHTML = '';\n",
       "          dataTable['output_type'] = 'display_data';\n",
       "          await google.colab.output.renderOutput(dataTable, element);\n",
       "          const docLink = document.createElement('div');\n",
       "          docLink.innerHTML = docLinkHtml;\n",
       "          element.appendChild(docLink);\n",
       "        }\n",
       "      </script>\n",
       "    </div>\n",
       "  </div>\n",
       "  "
      ],
      "text/plain": [
       "                                                 Month  \\\n",
       "164                                            1975-09   \n",
       "165                                            1975-10   \n",
       "166                                            1975-11   \n",
       "167                                            1975-12   \n",
       "168  Monthly milk production: pounds per cow. Jan 6...   \n",
       "\n",
       "     Monthly milk production: pounds per cow. Jan 62 ? Dec 75  \n",
       "164                                              817.0         \n",
       "165                                              827.0         \n",
       "166                                              797.0         \n",
       "167                                              843.0         \n",
       "168                                                NaN         "
      ]
     },
     "execution_count": 5,
     "metadata": {},
     "output_type": "execute_result"
    }
   ],
   "source": [
    "df.tail()"
   ]
  },
  {
   "cell_type": "markdown",
   "metadata": {
    "id": "mQkw2UXvotjI"
   },
   "source": []
  },
  {
   "cell_type": "code",
   "execution_count": 6,
   "metadata": {
    "id": "H2ATwpzIocoE"
   },
   "outputs": [],
   "source": [
    "df.rename(columns ={'Monthly milk production: pounds per cow. Jan 62 ? Dec 75': 'Milk produced'}, inplace=True)"
   ]
  },
  {
   "cell_type": "code",
   "execution_count": 7,
   "metadata": {
    "colab": {
     "base_uri": "https://localhost:8080/",
     "height": 206
    },
    "id": "q7RC2A6Z_tqp",
    "outputId": "dee0fb78-accc-48d9-f6b9-ffb059c245ed"
   },
   "outputs": [
    {
     "data": {
      "text/html": [
       "\n",
       "  <div id=\"df-48f77da7-ad03-418c-bacc-a54c6f8f2335\">\n",
       "    <div class=\"colab-df-container\">\n",
       "      <div>\n",
       "<style scoped>\n",
       "    .dataframe tbody tr th:only-of-type {\n",
       "        vertical-align: middle;\n",
       "    }\n",
       "\n",
       "    .dataframe tbody tr th {\n",
       "        vertical-align: top;\n",
       "    }\n",
       "\n",
       "    .dataframe thead th {\n",
       "        text-align: right;\n",
       "    }\n",
       "</style>\n",
       "<table border=\"1\" class=\"dataframe\">\n",
       "  <thead>\n",
       "    <tr style=\"text-align: right;\">\n",
       "      <th></th>\n",
       "      <th>Month</th>\n",
       "      <th>Milk produced</th>\n",
       "    </tr>\n",
       "  </thead>\n",
       "  <tbody>\n",
       "    <tr>\n",
       "      <th>0</th>\n",
       "      <td>1962-01</td>\n",
       "      <td>589.0</td>\n",
       "    </tr>\n",
       "    <tr>\n",
       "      <th>1</th>\n",
       "      <td>1962-02</td>\n",
       "      <td>561.0</td>\n",
       "    </tr>\n",
       "    <tr>\n",
       "      <th>2</th>\n",
       "      <td>1962-03</td>\n",
       "      <td>640.0</td>\n",
       "    </tr>\n",
       "    <tr>\n",
       "      <th>3</th>\n",
       "      <td>1962-04</td>\n",
       "      <td>656.0</td>\n",
       "    </tr>\n",
       "    <tr>\n",
       "      <th>4</th>\n",
       "      <td>1962-05</td>\n",
       "      <td>727.0</td>\n",
       "    </tr>\n",
       "  </tbody>\n",
       "</table>\n",
       "</div>\n",
       "      <button class=\"colab-df-convert\" onclick=\"convertToInteractive('df-48f77da7-ad03-418c-bacc-a54c6f8f2335')\"\n",
       "              title=\"Convert this dataframe to an interactive table.\"\n",
       "              style=\"display:none;\">\n",
       "        \n",
       "  <svg xmlns=\"http://www.w3.org/2000/svg\" height=\"24px\"viewBox=\"0 0 24 24\"\n",
       "       width=\"24px\">\n",
       "    <path d=\"M0 0h24v24H0V0z\" fill=\"none\"/>\n",
       "    <path d=\"M18.56 5.44l.94 2.06.94-2.06 2.06-.94-2.06-.94-.94-2.06-.94 2.06-2.06.94zm-11 1L8.5 8.5l.94-2.06 2.06-.94-2.06-.94L8.5 2.5l-.94 2.06-2.06.94zm10 10l.94 2.06.94-2.06 2.06-.94-2.06-.94-.94-2.06-.94 2.06-2.06.94z\"/><path d=\"M17.41 7.96l-1.37-1.37c-.4-.4-.92-.59-1.43-.59-.52 0-1.04.2-1.43.59L10.3 9.45l-7.72 7.72c-.78.78-.78 2.05 0 2.83L4 21.41c.39.39.9.59 1.41.59.51 0 1.02-.2 1.41-.59l7.78-7.78 2.81-2.81c.8-.78.8-2.07 0-2.86zM5.41 20L4 18.59l7.72-7.72 1.47 1.35L5.41 20z\"/>\n",
       "  </svg>\n",
       "      </button>\n",
       "      \n",
       "  <style>\n",
       "    .colab-df-container {\n",
       "      display:flex;\n",
       "      flex-wrap:wrap;\n",
       "      gap: 12px;\n",
       "    }\n",
       "\n",
       "    .colab-df-convert {\n",
       "      background-color: #E8F0FE;\n",
       "      border: none;\n",
       "      border-radius: 50%;\n",
       "      cursor: pointer;\n",
       "      display: none;\n",
       "      fill: #1967D2;\n",
       "      height: 32px;\n",
       "      padding: 0 0 0 0;\n",
       "      width: 32px;\n",
       "    }\n",
       "\n",
       "    .colab-df-convert:hover {\n",
       "      background-color: #E2EBFA;\n",
       "      box-shadow: 0px 1px 2px rgba(60, 64, 67, 0.3), 0px 1px 3px 1px rgba(60, 64, 67, 0.15);\n",
       "      fill: #174EA6;\n",
       "    }\n",
       "\n",
       "    [theme=dark] .colab-df-convert {\n",
       "      background-color: #3B4455;\n",
       "      fill: #D2E3FC;\n",
       "    }\n",
       "\n",
       "    [theme=dark] .colab-df-convert:hover {\n",
       "      background-color: #434B5C;\n",
       "      box-shadow: 0px 1px 3px 1px rgba(0, 0, 0, 0.15);\n",
       "      filter: drop-shadow(0px 1px 2px rgba(0, 0, 0, 0.3));\n",
       "      fill: #FFFFFF;\n",
       "    }\n",
       "  </style>\n",
       "\n",
       "      <script>\n",
       "        const buttonEl =\n",
       "          document.querySelector('#df-48f77da7-ad03-418c-bacc-a54c6f8f2335 button.colab-df-convert');\n",
       "        buttonEl.style.display =\n",
       "          google.colab.kernel.accessAllowed ? 'block' : 'none';\n",
       "\n",
       "        async function convertToInteractive(key) {\n",
       "          const element = document.querySelector('#df-48f77da7-ad03-418c-bacc-a54c6f8f2335');\n",
       "          const dataTable =\n",
       "            await google.colab.kernel.invokeFunction('convertToInteractive',\n",
       "                                                     [key], {});\n",
       "          if (!dataTable) return;\n",
       "\n",
       "          const docLinkHtml = 'Like what you see? Visit the ' +\n",
       "            '<a target=\"_blank\" href=https://colab.research.google.com/notebooks/data_table.ipynb>data table notebook</a>'\n",
       "            + ' to learn more about interactive tables.';\n",
       "          element.innerHTML = '';\n",
       "          dataTable['output_type'] = 'display_data';\n",
       "          await google.colab.output.renderOutput(dataTable, element);\n",
       "          const docLink = document.createElement('div');\n",
       "          docLink.innerHTML = docLinkHtml;\n",
       "          element.appendChild(docLink);\n",
       "        }\n",
       "      </script>\n",
       "    </div>\n",
       "  </div>\n",
       "  "
      ],
      "text/plain": [
       "     Month  Milk produced\n",
       "0  1962-01          589.0\n",
       "1  1962-02          561.0\n",
       "2  1962-03          640.0\n",
       "3  1962-04          656.0\n",
       "4  1962-05          727.0"
      ]
     },
     "execution_count": 7,
     "metadata": {},
     "output_type": "execute_result"
    }
   ],
   "source": [
    "df.head()"
   ]
  },
  {
   "cell_type": "code",
   "execution_count": 8,
   "metadata": {
    "colab": {
     "base_uri": "https://localhost:8080/",
     "height": 206
    },
    "id": "vsZF-Hla_tqq",
    "outputId": "5543960b-fb6b-46be-d2d5-63bd6a7bdfca"
   },
   "outputs": [
    {
     "data": {
      "text/html": [
       "\n",
       "  <div id=\"df-61dedc2b-272d-4961-966a-ec803ed1a52b\">\n",
       "    <div class=\"colab-df-container\">\n",
       "      <div>\n",
       "<style scoped>\n",
       "    .dataframe tbody tr th:only-of-type {\n",
       "        vertical-align: middle;\n",
       "    }\n",
       "\n",
       "    .dataframe tbody tr th {\n",
       "        vertical-align: top;\n",
       "    }\n",
       "\n",
       "    .dataframe thead th {\n",
       "        text-align: right;\n",
       "    }\n",
       "</style>\n",
       "<table border=\"1\" class=\"dataframe\">\n",
       "  <thead>\n",
       "    <tr style=\"text-align: right;\">\n",
       "      <th></th>\n",
       "      <th>Month</th>\n",
       "      <th>Milk produced</th>\n",
       "    </tr>\n",
       "  </thead>\n",
       "  <tbody>\n",
       "    <tr>\n",
       "      <th>164</th>\n",
       "      <td>1975-09</td>\n",
       "      <td>817.0</td>\n",
       "    </tr>\n",
       "    <tr>\n",
       "      <th>165</th>\n",
       "      <td>1975-10</td>\n",
       "      <td>827.0</td>\n",
       "    </tr>\n",
       "    <tr>\n",
       "      <th>166</th>\n",
       "      <td>1975-11</td>\n",
       "      <td>797.0</td>\n",
       "    </tr>\n",
       "    <tr>\n",
       "      <th>167</th>\n",
       "      <td>1975-12</td>\n",
       "      <td>843.0</td>\n",
       "    </tr>\n",
       "    <tr>\n",
       "      <th>168</th>\n",
       "      <td>Monthly milk production: pounds per cow. Jan 6...</td>\n",
       "      <td>NaN</td>\n",
       "    </tr>\n",
       "  </tbody>\n",
       "</table>\n",
       "</div>\n",
       "      <button class=\"colab-df-convert\" onclick=\"convertToInteractive('df-61dedc2b-272d-4961-966a-ec803ed1a52b')\"\n",
       "              title=\"Convert this dataframe to an interactive table.\"\n",
       "              style=\"display:none;\">\n",
       "        \n",
       "  <svg xmlns=\"http://www.w3.org/2000/svg\" height=\"24px\"viewBox=\"0 0 24 24\"\n",
       "       width=\"24px\">\n",
       "    <path d=\"M0 0h24v24H0V0z\" fill=\"none\"/>\n",
       "    <path d=\"M18.56 5.44l.94 2.06.94-2.06 2.06-.94-2.06-.94-.94-2.06-.94 2.06-2.06.94zm-11 1L8.5 8.5l.94-2.06 2.06-.94-2.06-.94L8.5 2.5l-.94 2.06-2.06.94zm10 10l.94 2.06.94-2.06 2.06-.94-2.06-.94-.94-2.06-.94 2.06-2.06.94z\"/><path d=\"M17.41 7.96l-1.37-1.37c-.4-.4-.92-.59-1.43-.59-.52 0-1.04.2-1.43.59L10.3 9.45l-7.72 7.72c-.78.78-.78 2.05 0 2.83L4 21.41c.39.39.9.59 1.41.59.51 0 1.02-.2 1.41-.59l7.78-7.78 2.81-2.81c.8-.78.8-2.07 0-2.86zM5.41 20L4 18.59l7.72-7.72 1.47 1.35L5.41 20z\"/>\n",
       "  </svg>\n",
       "      </button>\n",
       "      \n",
       "  <style>\n",
       "    .colab-df-container {\n",
       "      display:flex;\n",
       "      flex-wrap:wrap;\n",
       "      gap: 12px;\n",
       "    }\n",
       "\n",
       "    .colab-df-convert {\n",
       "      background-color: #E8F0FE;\n",
       "      border: none;\n",
       "      border-radius: 50%;\n",
       "      cursor: pointer;\n",
       "      display: none;\n",
       "      fill: #1967D2;\n",
       "      height: 32px;\n",
       "      padding: 0 0 0 0;\n",
       "      width: 32px;\n",
       "    }\n",
       "\n",
       "    .colab-df-convert:hover {\n",
       "      background-color: #E2EBFA;\n",
       "      box-shadow: 0px 1px 2px rgba(60, 64, 67, 0.3), 0px 1px 3px 1px rgba(60, 64, 67, 0.15);\n",
       "      fill: #174EA6;\n",
       "    }\n",
       "\n",
       "    [theme=dark] .colab-df-convert {\n",
       "      background-color: #3B4455;\n",
       "      fill: #D2E3FC;\n",
       "    }\n",
       "\n",
       "    [theme=dark] .colab-df-convert:hover {\n",
       "      background-color: #434B5C;\n",
       "      box-shadow: 0px 1px 3px 1px rgba(0, 0, 0, 0.15);\n",
       "      filter: drop-shadow(0px 1px 2px rgba(0, 0, 0, 0.3));\n",
       "      fill: #FFFFFF;\n",
       "    }\n",
       "  </style>\n",
       "\n",
       "      <script>\n",
       "        const buttonEl =\n",
       "          document.querySelector('#df-61dedc2b-272d-4961-966a-ec803ed1a52b button.colab-df-convert');\n",
       "        buttonEl.style.display =\n",
       "          google.colab.kernel.accessAllowed ? 'block' : 'none';\n",
       "\n",
       "        async function convertToInteractive(key) {\n",
       "          const element = document.querySelector('#df-61dedc2b-272d-4961-966a-ec803ed1a52b');\n",
       "          const dataTable =\n",
       "            await google.colab.kernel.invokeFunction('convertToInteractive',\n",
       "                                                     [key], {});\n",
       "          if (!dataTable) return;\n",
       "\n",
       "          const docLinkHtml = 'Like what you see? Visit the ' +\n",
       "            '<a target=\"_blank\" href=https://colab.research.google.com/notebooks/data_table.ipynb>data table notebook</a>'\n",
       "            + ' to learn more about interactive tables.';\n",
       "          element.innerHTML = '';\n",
       "          dataTable['output_type'] = 'display_data';\n",
       "          await google.colab.output.renderOutput(dataTable, element);\n",
       "          const docLink = document.createElement('div');\n",
       "          docLink.innerHTML = docLinkHtml;\n",
       "          element.appendChild(docLink);\n",
       "        }\n",
       "      </script>\n",
       "    </div>\n",
       "  </div>\n",
       "  "
      ],
      "text/plain": [
       "                                                 Month  Milk produced\n",
       "164                                            1975-09          817.0\n",
       "165                                            1975-10          827.0\n",
       "166                                            1975-11          797.0\n",
       "167                                            1975-12          843.0\n",
       "168  Monthly milk production: pounds per cow. Jan 6...            NaN"
      ]
     },
     "execution_count": 8,
     "metadata": {},
     "output_type": "execute_result"
    }
   ],
   "source": [
    "df.tail()"
   ]
  },
  {
   "cell_type": "code",
   "execution_count": 9,
   "metadata": {
    "id": "fkEe7hZF_tqr"
   },
   "outputs": [],
   "source": [
    "df.drop(168,axis = 0,inplace = True)"
   ]
  },
  {
   "cell_type": "code",
   "execution_count": 10,
   "metadata": {
    "id": "Ed82QXuD_tqr"
   },
   "outputs": [],
   "source": [
    "df['Month'] = pd.to_datetime(df['Month'])"
   ]
  },
  {
   "cell_type": "code",
   "execution_count": 12,
   "metadata": {
    "colab": {
     "base_uri": "https://localhost:8080/",
     "height": 206
    },
    "id": "t07bi6VrAMRG",
    "outputId": "43ecd601-6029-4cd3-e226-bda8dc7d9d80"
   },
   "outputs": [
    {
     "data": {
      "text/html": [
       "\n",
       "  <div id=\"df-853ae0ff-1525-4dfe-bb4d-6702b40fba77\">\n",
       "    <div class=\"colab-df-container\">\n",
       "      <div>\n",
       "<style scoped>\n",
       "    .dataframe tbody tr th:only-of-type {\n",
       "        vertical-align: middle;\n",
       "    }\n",
       "\n",
       "    .dataframe tbody tr th {\n",
       "        vertical-align: top;\n",
       "    }\n",
       "\n",
       "    .dataframe thead th {\n",
       "        text-align: right;\n",
       "    }\n",
       "</style>\n",
       "<table border=\"1\" class=\"dataframe\">\n",
       "  <thead>\n",
       "    <tr style=\"text-align: right;\">\n",
       "      <th></th>\n",
       "      <th>Month</th>\n",
       "      <th>Milk produced</th>\n",
       "    </tr>\n",
       "  </thead>\n",
       "  <tbody>\n",
       "    <tr>\n",
       "      <th>0</th>\n",
       "      <td>1962-01-01</td>\n",
       "      <td>589.0</td>\n",
       "    </tr>\n",
       "    <tr>\n",
       "      <th>1</th>\n",
       "      <td>1962-02-01</td>\n",
       "      <td>561.0</td>\n",
       "    </tr>\n",
       "    <tr>\n",
       "      <th>2</th>\n",
       "      <td>1962-03-01</td>\n",
       "      <td>640.0</td>\n",
       "    </tr>\n",
       "    <tr>\n",
       "      <th>3</th>\n",
       "      <td>1962-04-01</td>\n",
       "      <td>656.0</td>\n",
       "    </tr>\n",
       "    <tr>\n",
       "      <th>4</th>\n",
       "      <td>1962-05-01</td>\n",
       "      <td>727.0</td>\n",
       "    </tr>\n",
       "  </tbody>\n",
       "</table>\n",
       "</div>\n",
       "      <button class=\"colab-df-convert\" onclick=\"convertToInteractive('df-853ae0ff-1525-4dfe-bb4d-6702b40fba77')\"\n",
       "              title=\"Convert this dataframe to an interactive table.\"\n",
       "              style=\"display:none;\">\n",
       "        \n",
       "  <svg xmlns=\"http://www.w3.org/2000/svg\" height=\"24px\"viewBox=\"0 0 24 24\"\n",
       "       width=\"24px\">\n",
       "    <path d=\"M0 0h24v24H0V0z\" fill=\"none\"/>\n",
       "    <path d=\"M18.56 5.44l.94 2.06.94-2.06 2.06-.94-2.06-.94-.94-2.06-.94 2.06-2.06.94zm-11 1L8.5 8.5l.94-2.06 2.06-.94-2.06-.94L8.5 2.5l-.94 2.06-2.06.94zm10 10l.94 2.06.94-2.06 2.06-.94-2.06-.94-.94-2.06-.94 2.06-2.06.94z\"/><path d=\"M17.41 7.96l-1.37-1.37c-.4-.4-.92-.59-1.43-.59-.52 0-1.04.2-1.43.59L10.3 9.45l-7.72 7.72c-.78.78-.78 2.05 0 2.83L4 21.41c.39.39.9.59 1.41.59.51 0 1.02-.2 1.41-.59l7.78-7.78 2.81-2.81c.8-.78.8-2.07 0-2.86zM5.41 20L4 18.59l7.72-7.72 1.47 1.35L5.41 20z\"/>\n",
       "  </svg>\n",
       "      </button>\n",
       "      \n",
       "  <style>\n",
       "    .colab-df-container {\n",
       "      display:flex;\n",
       "      flex-wrap:wrap;\n",
       "      gap: 12px;\n",
       "    }\n",
       "\n",
       "    .colab-df-convert {\n",
       "      background-color: #E8F0FE;\n",
       "      border: none;\n",
       "      border-radius: 50%;\n",
       "      cursor: pointer;\n",
       "      display: none;\n",
       "      fill: #1967D2;\n",
       "      height: 32px;\n",
       "      padding: 0 0 0 0;\n",
       "      width: 32px;\n",
       "    }\n",
       "\n",
       "    .colab-df-convert:hover {\n",
       "      background-color: #E2EBFA;\n",
       "      box-shadow: 0px 1px 2px rgba(60, 64, 67, 0.3), 0px 1px 3px 1px rgba(60, 64, 67, 0.15);\n",
       "      fill: #174EA6;\n",
       "    }\n",
       "\n",
       "    [theme=dark] .colab-df-convert {\n",
       "      background-color: #3B4455;\n",
       "      fill: #D2E3FC;\n",
       "    }\n",
       "\n",
       "    [theme=dark] .colab-df-convert:hover {\n",
       "      background-color: #434B5C;\n",
       "      box-shadow: 0px 1px 3px 1px rgba(0, 0, 0, 0.15);\n",
       "      filter: drop-shadow(0px 1px 2px rgba(0, 0, 0, 0.3));\n",
       "      fill: #FFFFFF;\n",
       "    }\n",
       "  </style>\n",
       "\n",
       "      <script>\n",
       "        const buttonEl =\n",
       "          document.querySelector('#df-853ae0ff-1525-4dfe-bb4d-6702b40fba77 button.colab-df-convert');\n",
       "        buttonEl.style.display =\n",
       "          google.colab.kernel.accessAllowed ? 'block' : 'none';\n",
       "\n",
       "        async function convertToInteractive(key) {\n",
       "          const element = document.querySelector('#df-853ae0ff-1525-4dfe-bb4d-6702b40fba77');\n",
       "          const dataTable =\n",
       "            await google.colab.kernel.invokeFunction('convertToInteractive',\n",
       "                                                     [key], {});\n",
       "          if (!dataTable) return;\n",
       "\n",
       "          const docLinkHtml = 'Like what you see? Visit the ' +\n",
       "            '<a target=\"_blank\" href=https://colab.research.google.com/notebooks/data_table.ipynb>data table notebook</a>'\n",
       "            + ' to learn more about interactive tables.';\n",
       "          element.innerHTML = '';\n",
       "          dataTable['output_type'] = 'display_data';\n",
       "          await google.colab.output.renderOutput(dataTable, element);\n",
       "          const docLink = document.createElement('div');\n",
       "          docLink.innerHTML = docLinkHtml;\n",
       "          element.appendChild(docLink);\n",
       "        }\n",
       "      </script>\n",
       "    </div>\n",
       "  </div>\n",
       "  "
      ],
      "text/plain": [
       "       Month  Milk produced\n",
       "0 1962-01-01          589.0\n",
       "1 1962-02-01          561.0\n",
       "2 1962-03-01          640.0\n",
       "3 1962-04-01          656.0\n",
       "4 1962-05-01          727.0"
      ]
     },
     "execution_count": 12,
     "metadata": {},
     "output_type": "execute_result"
    }
   ],
   "source": [
    "df.head()"
   ]
  },
  {
   "cell_type": "code",
   "execution_count": 13,
   "metadata": {
    "colab": {
     "base_uri": "https://localhost:8080/"
    },
    "id": "QhTlm7D8AUss",
    "outputId": "3af2df5a-71ce-40ee-929e-d3589a40121c"
   },
   "outputs": [
    {
     "data": {
      "text/plain": [
       "Month            datetime64[ns]\n",
       "Milk produced           float64\n",
       "dtype: object"
      ]
     },
     "execution_count": 13,
     "metadata": {},
     "output_type": "execute_result"
    }
   ],
   "source": [
    "df.dtypes"
   ]
  },
  {
   "cell_type": "code",
   "execution_count": 14,
   "metadata": {
    "id": "j_GceRzK_tqr"
   },
   "outputs": [],
   "source": [
    "df.set_index('Month',inplace=True)"
   ]
  },
  {
   "cell_type": "code",
   "execution_count": 15,
   "metadata": {
    "colab": {
     "base_uri": "https://localhost:8080/"
    },
    "id": "W8Om8v6W_tqs",
    "outputId": "f7f2ba03-5ba8-44e6-a3c0-ed2813b6cbbf"
   },
   "outputs": [
    {
     "data": {
      "text/plain": [
       "(168, 1)"
      ]
     },
     "execution_count": 15,
     "metadata": {},
     "output_type": "execute_result"
    }
   ],
   "source": [
    "df.shape"
   ]
  },
  {
   "cell_type": "code",
   "execution_count": 16,
   "metadata": {
    "colab": {
     "base_uri": "https://localhost:8080/",
     "height": 237
    },
    "id": "Ha5E-Vf7_tqs",
    "outputId": "5da0068e-06d1-4253-8383-b629e0487365"
   },
   "outputs": [
    {
     "data": {
      "text/html": [
       "\n",
       "  <div id=\"df-b5a2458a-8118-49d4-a8a4-6554ff2a981c\">\n",
       "    <div class=\"colab-df-container\">\n",
       "      <div>\n",
       "<style scoped>\n",
       "    .dataframe tbody tr th:only-of-type {\n",
       "        vertical-align: middle;\n",
       "    }\n",
       "\n",
       "    .dataframe tbody tr th {\n",
       "        vertical-align: top;\n",
       "    }\n",
       "\n",
       "    .dataframe thead th {\n",
       "        text-align: right;\n",
       "    }\n",
       "</style>\n",
       "<table border=\"1\" class=\"dataframe\">\n",
       "  <thead>\n",
       "    <tr style=\"text-align: right;\">\n",
       "      <th></th>\n",
       "      <th>Milk produced</th>\n",
       "    </tr>\n",
       "    <tr>\n",
       "      <th>Month</th>\n",
       "      <th></th>\n",
       "    </tr>\n",
       "  </thead>\n",
       "  <tbody>\n",
       "    <tr>\n",
       "      <th>1962-01-01</th>\n",
       "      <td>589.0</td>\n",
       "    </tr>\n",
       "    <tr>\n",
       "      <th>1962-02-01</th>\n",
       "      <td>561.0</td>\n",
       "    </tr>\n",
       "    <tr>\n",
       "      <th>1962-03-01</th>\n",
       "      <td>640.0</td>\n",
       "    </tr>\n",
       "    <tr>\n",
       "      <th>1962-04-01</th>\n",
       "      <td>656.0</td>\n",
       "    </tr>\n",
       "    <tr>\n",
       "      <th>1962-05-01</th>\n",
       "      <td>727.0</td>\n",
       "    </tr>\n",
       "  </tbody>\n",
       "</table>\n",
       "</div>\n",
       "      <button class=\"colab-df-convert\" onclick=\"convertToInteractive('df-b5a2458a-8118-49d4-a8a4-6554ff2a981c')\"\n",
       "              title=\"Convert this dataframe to an interactive table.\"\n",
       "              style=\"display:none;\">\n",
       "        \n",
       "  <svg xmlns=\"http://www.w3.org/2000/svg\" height=\"24px\"viewBox=\"0 0 24 24\"\n",
       "       width=\"24px\">\n",
       "    <path d=\"M0 0h24v24H0V0z\" fill=\"none\"/>\n",
       "    <path d=\"M18.56 5.44l.94 2.06.94-2.06 2.06-.94-2.06-.94-.94-2.06-.94 2.06-2.06.94zm-11 1L8.5 8.5l.94-2.06 2.06-.94-2.06-.94L8.5 2.5l-.94 2.06-2.06.94zm10 10l.94 2.06.94-2.06 2.06-.94-2.06-.94-.94-2.06-.94 2.06-2.06.94z\"/><path d=\"M17.41 7.96l-1.37-1.37c-.4-.4-.92-.59-1.43-.59-.52 0-1.04.2-1.43.59L10.3 9.45l-7.72 7.72c-.78.78-.78 2.05 0 2.83L4 21.41c.39.39.9.59 1.41.59.51 0 1.02-.2 1.41-.59l7.78-7.78 2.81-2.81c.8-.78.8-2.07 0-2.86zM5.41 20L4 18.59l7.72-7.72 1.47 1.35L5.41 20z\"/>\n",
       "  </svg>\n",
       "      </button>\n",
       "      \n",
       "  <style>\n",
       "    .colab-df-container {\n",
       "      display:flex;\n",
       "      flex-wrap:wrap;\n",
       "      gap: 12px;\n",
       "    }\n",
       "\n",
       "    .colab-df-convert {\n",
       "      background-color: #E8F0FE;\n",
       "      border: none;\n",
       "      border-radius: 50%;\n",
       "      cursor: pointer;\n",
       "      display: none;\n",
       "      fill: #1967D2;\n",
       "      height: 32px;\n",
       "      padding: 0 0 0 0;\n",
       "      width: 32px;\n",
       "    }\n",
       "\n",
       "    .colab-df-convert:hover {\n",
       "      background-color: #E2EBFA;\n",
       "      box-shadow: 0px 1px 2px rgba(60, 64, 67, 0.3), 0px 1px 3px 1px rgba(60, 64, 67, 0.15);\n",
       "      fill: #174EA6;\n",
       "    }\n",
       "\n",
       "    [theme=dark] .colab-df-convert {\n",
       "      background-color: #3B4455;\n",
       "      fill: #D2E3FC;\n",
       "    }\n",
       "\n",
       "    [theme=dark] .colab-df-convert:hover {\n",
       "      background-color: #434B5C;\n",
       "      box-shadow: 0px 1px 3px 1px rgba(0, 0, 0, 0.15);\n",
       "      filter: drop-shadow(0px 1px 2px rgba(0, 0, 0, 0.3));\n",
       "      fill: #FFFFFF;\n",
       "    }\n",
       "  </style>\n",
       "\n",
       "      <script>\n",
       "        const buttonEl =\n",
       "          document.querySelector('#df-b5a2458a-8118-49d4-a8a4-6554ff2a981c button.colab-df-convert');\n",
       "        buttonEl.style.display =\n",
       "          google.colab.kernel.accessAllowed ? 'block' : 'none';\n",
       "\n",
       "        async function convertToInteractive(key) {\n",
       "          const element = document.querySelector('#df-b5a2458a-8118-49d4-a8a4-6554ff2a981c');\n",
       "          const dataTable =\n",
       "            await google.colab.kernel.invokeFunction('convertToInteractive',\n",
       "                                                     [key], {});\n",
       "          if (!dataTable) return;\n",
       "\n",
       "          const docLinkHtml = 'Like what you see? Visit the ' +\n",
       "            '<a target=\"_blank\" href=https://colab.research.google.com/notebooks/data_table.ipynb>data table notebook</a>'\n",
       "            + ' to learn more about interactive tables.';\n",
       "          element.innerHTML = '';\n",
       "          dataTable['output_type'] = 'display_data';\n",
       "          await google.colab.output.renderOutput(dataTable, element);\n",
       "          const docLink = document.createElement('div');\n",
       "          docLink.innerHTML = docLinkHtml;\n",
       "          element.appendChild(docLink);\n",
       "        }\n",
       "      </script>\n",
       "    </div>\n",
       "  </div>\n",
       "  "
      ],
      "text/plain": [
       "            Milk produced\n",
       "Month                    \n",
       "1962-01-01          589.0\n",
       "1962-02-01          561.0\n",
       "1962-03-01          640.0\n",
       "1962-04-01          656.0\n",
       "1962-05-01          727.0"
      ]
     },
     "execution_count": 16,
     "metadata": {},
     "output_type": "execute_result"
    }
   ],
   "source": [
    "df.head()"
   ]
  },
  {
   "cell_type": "code",
   "execution_count": 17,
   "metadata": {
    "colab": {
     "base_uri": "https://localhost:8080/",
     "height": 81
    },
    "id": "fGdBGhvB_tqs",
    "outputId": "a4d9c965-62bc-48c2-8b15-c0e84525248a"
   },
   "outputs": [
    {
     "data": {
      "text/html": [
       "\n",
       "  <div id=\"df-2a634d9c-dcfd-4648-9699-3c27668cbe09\">\n",
       "    <div class=\"colab-df-container\">\n",
       "      <div>\n",
       "<style scoped>\n",
       "    .dataframe tbody tr th:only-of-type {\n",
       "        vertical-align: middle;\n",
       "    }\n",
       "\n",
       "    .dataframe tbody tr th {\n",
       "        vertical-align: top;\n",
       "    }\n",
       "\n",
       "    .dataframe thead th {\n",
       "        text-align: right;\n",
       "    }\n",
       "</style>\n",
       "<table border=\"1\" class=\"dataframe\">\n",
       "  <thead>\n",
       "    <tr style=\"text-align: right;\">\n",
       "      <th></th>\n",
       "      <th>count</th>\n",
       "      <th>mean</th>\n",
       "      <th>std</th>\n",
       "      <th>min</th>\n",
       "      <th>25%</th>\n",
       "      <th>50%</th>\n",
       "      <th>75%</th>\n",
       "      <th>max</th>\n",
       "    </tr>\n",
       "  </thead>\n",
       "  <tbody>\n",
       "    <tr>\n",
       "      <th>Milk produced</th>\n",
       "      <td>168.0</td>\n",
       "      <td>754.708333</td>\n",
       "      <td>102.204524</td>\n",
       "      <td>553.0</td>\n",
       "      <td>677.75</td>\n",
       "      <td>761.0</td>\n",
       "      <td>824.5</td>\n",
       "      <td>969.0</td>\n",
       "    </tr>\n",
       "  </tbody>\n",
       "</table>\n",
       "</div>\n",
       "      <button class=\"colab-df-convert\" onclick=\"convertToInteractive('df-2a634d9c-dcfd-4648-9699-3c27668cbe09')\"\n",
       "              title=\"Convert this dataframe to an interactive table.\"\n",
       "              style=\"display:none;\">\n",
       "        \n",
       "  <svg xmlns=\"http://www.w3.org/2000/svg\" height=\"24px\"viewBox=\"0 0 24 24\"\n",
       "       width=\"24px\">\n",
       "    <path d=\"M0 0h24v24H0V0z\" fill=\"none\"/>\n",
       "    <path d=\"M18.56 5.44l.94 2.06.94-2.06 2.06-.94-2.06-.94-.94-2.06-.94 2.06-2.06.94zm-11 1L8.5 8.5l.94-2.06 2.06-.94-2.06-.94L8.5 2.5l-.94 2.06-2.06.94zm10 10l.94 2.06.94-2.06 2.06-.94-2.06-.94-.94-2.06-.94 2.06-2.06.94z\"/><path d=\"M17.41 7.96l-1.37-1.37c-.4-.4-.92-.59-1.43-.59-.52 0-1.04.2-1.43.59L10.3 9.45l-7.72 7.72c-.78.78-.78 2.05 0 2.83L4 21.41c.39.39.9.59 1.41.59.51 0 1.02-.2 1.41-.59l7.78-7.78 2.81-2.81c.8-.78.8-2.07 0-2.86zM5.41 20L4 18.59l7.72-7.72 1.47 1.35L5.41 20z\"/>\n",
       "  </svg>\n",
       "      </button>\n",
       "      \n",
       "  <style>\n",
       "    .colab-df-container {\n",
       "      display:flex;\n",
       "      flex-wrap:wrap;\n",
       "      gap: 12px;\n",
       "    }\n",
       "\n",
       "    .colab-df-convert {\n",
       "      background-color: #E8F0FE;\n",
       "      border: none;\n",
       "      border-radius: 50%;\n",
       "      cursor: pointer;\n",
       "      display: none;\n",
       "      fill: #1967D2;\n",
       "      height: 32px;\n",
       "      padding: 0 0 0 0;\n",
       "      width: 32px;\n",
       "    }\n",
       "\n",
       "    .colab-df-convert:hover {\n",
       "      background-color: #E2EBFA;\n",
       "      box-shadow: 0px 1px 2px rgba(60, 64, 67, 0.3), 0px 1px 3px 1px rgba(60, 64, 67, 0.15);\n",
       "      fill: #174EA6;\n",
       "    }\n",
       "\n",
       "    [theme=dark] .colab-df-convert {\n",
       "      background-color: #3B4455;\n",
       "      fill: #D2E3FC;\n",
       "    }\n",
       "\n",
       "    [theme=dark] .colab-df-convert:hover {\n",
       "      background-color: #434B5C;\n",
       "      box-shadow: 0px 1px 3px 1px rgba(0, 0, 0, 0.15);\n",
       "      filter: drop-shadow(0px 1px 2px rgba(0, 0, 0, 0.3));\n",
       "      fill: #FFFFFF;\n",
       "    }\n",
       "  </style>\n",
       "\n",
       "      <script>\n",
       "        const buttonEl =\n",
       "          document.querySelector('#df-2a634d9c-dcfd-4648-9699-3c27668cbe09 button.colab-df-convert');\n",
       "        buttonEl.style.display =\n",
       "          google.colab.kernel.accessAllowed ? 'block' : 'none';\n",
       "\n",
       "        async function convertToInteractive(key) {\n",
       "          const element = document.querySelector('#df-2a634d9c-dcfd-4648-9699-3c27668cbe09');\n",
       "          const dataTable =\n",
       "            await google.colab.kernel.invokeFunction('convertToInteractive',\n",
       "                                                     [key], {});\n",
       "          if (!dataTable) return;\n",
       "\n",
       "          const docLinkHtml = 'Like what you see? Visit the ' +\n",
       "            '<a target=\"_blank\" href=https://colab.research.google.com/notebooks/data_table.ipynb>data table notebook</a>'\n",
       "            + ' to learn more about interactive tables.';\n",
       "          element.innerHTML = '';\n",
       "          dataTable['output_type'] = 'display_data';\n",
       "          await google.colab.output.renderOutput(dataTable, element);\n",
       "          const docLink = document.createElement('div');\n",
       "          docLink.innerHTML = docLinkHtml;\n",
       "          element.appendChild(docLink);\n",
       "        }\n",
       "      </script>\n",
       "    </div>\n",
       "  </div>\n",
       "  "
      ],
      "text/plain": [
       "               count        mean         std    min     25%    50%    75%  \\\n",
       "Milk produced  168.0  754.708333  102.204524  553.0  677.75  761.0  824.5   \n",
       "\n",
       "                 max  \n",
       "Milk produced  969.0  "
      ]
     },
     "execution_count": 17,
     "metadata": {},
     "output_type": "execute_result"
    }
   ],
   "source": [
    "df.describe().transpose()"
   ]
  },
  {
   "cell_type": "code",
   "execution_count": 18,
   "metadata": {
    "colab": {
     "base_uri": "https://localhost:8080/",
     "height": 610
    },
    "id": "NO6kjh66_tqt",
    "outputId": "5f379d19-324c-49d8-b5da-65c86e537e34"
   },
   "outputs": [
    {
     "data": {
      "text/plain": [
       "[<matplotlib.lines.Line2D at 0x7efcf79e2ac0>]"
      ]
     },
     "execution_count": 18,
     "metadata": {},
     "output_type": "execute_result"
    },
    {
     "data": {
      "image/png": "[encoded data removed]",
      "text/plain": [
       "<Figure size 720x720 with 1 Axes>"
      ]
     },
     "metadata": {
      "needs_background": "light"
     },
     "output_type": "display_data"
    }
   ],
   "source": [
    "plt.figure(figsize=(10,10))\n",
    "plt.plot(df['Milk produced'])"
   ]
  },
  {
   "cell_type": "code",
   "execution_count": 20,
   "metadata": {
    "id": "To1oveLh_tqt"
   },
   "outputs": [],
   "source": [
    "timeseries = df['Milk produced']"
   ]
  },
  {
   "cell_type": "code",
   "execution_count": 21,
   "metadata": {
    "colab": {
     "base_uri": "https://localhost:8080/"
    },
    "id": "j-a92z7D_tqt",
    "outputId": "c5db2b1c-b191-474d-db83-e8e2f5bf5f86"
   },
   "outputs": [
    {
     "data": {
      "text/plain": [
       "pandas.core.series.Series"
      ]
     },
     "execution_count": 21,
     "metadata": {},
     "output_type": "execute_result"
    }
   ],
   "source": [
    "type(timeseries)"
   ]
  },
  {
   "cell_type": "code",
   "execution_count": 24,
   "metadata": {
    "colab": {
     "base_uri": "https://localhost:8080/",
     "height": 297
    },
    "id": "EoqlMQ0B_tqt",
    "outputId": "08506b93-7462-4d0f-f1b9-edbd699a5cba"
   },
   "outputs": [
    {
     "data": {
      "text/plain": [
       "<matplotlib.axes._subplots.AxesSubplot at 0x7efcf69b94c0>"
      ]
     },
     "execution_count": 24,
     "metadata": {},
     "output_type": "execute_result"
    },
    {
     "data": {
      "image/png": "[encoded data removed]",
      "text/plain": [
       "<Figure size 432x288 with 1 Axes>"
      ]
     },
     "metadata": {
      "needs_background": "light"
     },
     "output_type": "display_data"
    }
   ],
   "source": [
    "timeseries.rolling(12).mean().plot(label='12 Month Rolling Mean')"
   ]
  },
  {
   "cell_type": "code",
   "execution_count": null,
   "metadata": {
    "colab": {
     "base_uri": "https://localhost:8080/",
     "height": 297
    },
    "id": "NwH5r0A7_tqt",
    "outputId": "ac66fba5-6e9a-4a90-fc80-3c05591f5774"
   },
   "outputs": [
    {
     "data": {
      "text/plain": [
       "<matplotlib.axes._subplots.AxesSubplot at 0x7fcbfb6a3a30>"
      ]
     },
     "execution_count": 19,
     "metadata": {},
     "output_type": "execute_result"
    },
    {
     "data": {
      "image/png": "[encoded data removed]",
      "text/plain": [
       "<Figure size 432x288 with 1 Axes>"
      ]
     },
     "metadata": {},
     "output_type": "display_data"
    }
   ],
   "source": [
    "timeseries.rolling(12).std().plot(label='12 Month Rolling Std')"
   ]
  },
  {
   "cell_type": "code",
   "execution_count": null,
   "metadata": {
    "colab": {
     "base_uri": "https://localhost:8080/",
     "height": 297
    },
    "id": "VGmHFvj-_tqu",
    "outputId": "69de1db8-c90f-4a68-8f91-51eecae6e18c"
   },
   "outputs": [
    {
     "data": {
      "text/plain": [
       "<matplotlib.legend.Legend at 0x7fcbfb658f10>"
      ]
     },
     "execution_count": 20,
     "metadata": {},
     "output_type": "execute_result"
    },
    {
     "data": {
      "image/png": "[encoded data removed]",
      "text/plain": [
       "<Figure size 432x288 with 1 Axes>"
      ]
     },
     "metadata": {},
     "output_type": "display_data"
    }
   ],
   "source": [
    "timeseries.rolling(12).mean().plot(label = '12 Month Rolling Mean')\n",
    "timeseries.plot()\n",
    "plt.legend()"
   ]
  },
  {
   "cell_type": "code",
   "execution_count": 25,
   "metadata": {
    "id": "zG8ndXZX_tqu"
   },
   "outputs": [],
   "source": [
    "from statsmodels.tsa.seasonal import seasonal_decompose #### classical decomposition"
   ]
  },
  {
   "cell_type": "code",
   "execution_count": 26,
   "metadata": {
    "colab": {
     "base_uri": "https://localhost:8080/"
    },
    "id": "8DdN6JHd_tqu",
    "outputId": "ad13beb7-ad3b-4bae-c00a-63804aaccfdf"
   },
   "outputs": [
    {
     "name": "stderr",
     "output_type": "stream",
     "text": [
      "<ipython-input-26-fb1c3419a71a>:1: FutureWarning: the 'freq'' keyword is deprecated, use 'period' instead\n",
      "  decomposition = seasonal_decompose(df['Milk produced'], freq=12)\n"
     ]
    }
   ],
   "source": [
    "decomposition = seasonal_decompose(df['Milk produced'], freq=12)  "
   ]
  },
  {
   "cell_type": "code",
   "execution_count": 27,
   "metadata": {
    "colab": {
     "base_uri": "https://localhost:8080/",
     "height": 380
    },
    "id": "CLqjoE-x_tqu",
    "outputId": "e09c8f91-e0f6-4b9c-d481-cf0624fa7d80"
   },
   "outputs": [
    {
     "data": {
      "text/plain": [
       "<Figure size 432x288 with 0 Axes>"
      ]
     },
     "metadata": {},
     "output_type": "display_data"
    },
    {
     "data": {
      "image/png": "[encoded data removed]",
      "text/plain": [
       "<Figure size 1080x576 with 4 Axes>"
      ]
     },
     "metadata": {
      "needs_background": "light"
     },
     "output_type": "display_data"
    }
   ],
   "source": [
    "fig = plt.figure()  \n",
    "fig = decomposition.plot()  \n",
    "fig.set_size_inches(15, 8)"
   ]
  },
  {
   "cell_type": "code",
   "execution_count": null,
   "metadata": {
    "colab": {
     "base_uri": "https://localhost:8080/",
     "height": 237
    },
    "id": "4p3lZUXE_tqv",
    "outputId": "476d8393-b076-4baa-8c53-9bf97c38c296"
   },
   "outputs": [
    {
     "data": {
      "text/html": [
       "\n",
       "  <div id=\"df-d4ed3c60-5559-416f-a727-5b9ab3dacbae\">\n",
       "    <div class=\"colab-df-container\">\n",
       "      <div>\n",
       "<style scoped>\n",
       "    .dataframe tbody tr th:only-of-type {\n",
       "        vertical-align: middle;\n",
       "    }\n",
       "\n",
       "    .dataframe tbody tr th {\n",
       "        vertical-align: top;\n",
       "    }\n",
       "\n",
       "    .dataframe thead th {\n",
       "        text-align: right;\n",
       "    }\n",
       "</style>\n",
       "<table border=\"1\" class=\"dataframe\">\n",
       "  <thead>\n",
       "    <tr style=\"text-align: right;\">\n",
       "      <th></th>\n",
       "      <th>Milk produced</th>\n",
       "    </tr>\n",
       "    <tr>\n",
       "      <th>Month</th>\n",
       "      <th></th>\n",
       "    </tr>\n",
       "  </thead>\n",
       "  <tbody>\n",
       "    <tr>\n",
       "      <th>1962-01-01</th>\n",
       "      <td>589.0</td>\n",
       "    </tr>\n",
       "    <tr>\n",
       "      <th>1962-02-01</th>\n",
       "      <td>561.0</td>\n",
       "    </tr>\n",
       "    <tr>\n",
       "      <th>1962-03-01</th>\n",
       "      <td>640.0</td>\n",
       "    </tr>\n",
       "    <tr>\n",
       "      <th>1962-04-01</th>\n",
       "      <td>656.0</td>\n",
       "    </tr>\n",
       "    <tr>\n",
       "      <th>1962-05-01</th>\n",
       "      <td>727.0</td>\n",
       "    </tr>\n",
       "  </tbody>\n",
       "</table>\n",
       "</div>\n",
       "      <button class=\"colab-df-convert\" onclick=\"convertToInteractive('df-d4ed3c60-5559-416f-a727-5b9ab3dacbae')\"\n",
       "              title=\"Convert this dataframe to an interactive table.\"\n",
       "              style=\"display:none;\">\n",
       "        \n",
       "  <svg xmlns=\"http://www.w3.org/2000/svg\" height=\"24px\"viewBox=\"0 0 24 24\"\n",
       "       width=\"24px\">\n",
       "    <path d=\"M0 0h24v24H0V0z\" fill=\"none\"/>\n",
       "    <path d=\"M18.56 5.44l.94 2.06.94-2.06 2.06-.94-2.06-.94-.94-2.06-.94 2.06-2.06.94zm-11 1L8.5 8.5l.94-2.06 2.06-.94-2.06-.94L8.5 2.5l-.94 2.06-2.06.94zm10 10l.94 2.06.94-2.06 2.06-.94-2.06-.94-.94-2.06-.94 2.06-2.06.94z\"/><path d=\"M17.41 7.96l-1.37-1.37c-.4-.4-.92-.59-1.43-.59-.52 0-1.04.2-1.43.59L10.3 9.45l-7.72 7.72c-.78.78-.78 2.05 0 2.83L4 21.41c.39.39.9.59 1.41.59.51 0 1.02-.2 1.41-.59l7.78-7.78 2.81-2.81c.8-.78.8-2.07 0-2.86zM5.41 20L4 18.59l7.72-7.72 1.47 1.35L5.41 20z\"/>\n",
       "  </svg>\n",
       "      </button>\n",
       "      \n",
       "  <style>\n",
       "    .colab-df-container {\n",
       "      display:flex;\n",
       "      flex-wrap:wrap;\n",
       "      gap: 12px;\n",
       "    }\n",
       "\n",
       "    .colab-df-convert {\n",
       "      background-color: #E8F0FE;\n",
       "      border: none;\n",
       "      border-radius: 50%;\n",
       "      cursor: pointer;\n",
       "      display: none;\n",
       "      fill: #1967D2;\n",
       "      height: 32px;\n",
       "      padding: 0 0 0 0;\n",
       "      width: 32px;\n",
       "    }\n",
       "\n",
       "    .colab-df-convert:hover {\n",
       "      background-color: #E2EBFA;\n",
       "      box-shadow: 0px 1px 2px rgba(60, 64, 67, 0.3), 0px 1px 3px 1px rgba(60, 64, 67, 0.15);\n",
       "      fill: #174EA6;\n",
       "    }\n",
       "\n",
       "    [theme=dark] .colab-df-convert {\n",
       "      background-color: #3B4455;\n",
       "      fill: #D2E3FC;\n",
       "    }\n",
       "\n",
       "    [theme=dark] .colab-df-convert:hover {\n",
       "      background-color: #434B5C;\n",
       "      box-shadow: 0px 1px 3px 1px rgba(0, 0, 0, 0.15);\n",
       "      filter: drop-shadow(0px 1px 2px rgba(0, 0, 0, 0.3));\n",
       "      fill: #FFFFFF;\n",
       "    }\n",
       "  </style>\n",
       "\n",
       "      <script>\n",
       "        const buttonEl =\n",
       "          document.querySelector('#df-d4ed3c60-5559-416f-a727-5b9ab3dacbae button.colab-df-convert');\n",
       "        buttonEl.style.display =\n",
       "          google.colab.kernel.accessAllowed ? 'block' : 'none';\n",
       "\n",
       "        async function convertToInteractive(key) {\n",
       "          const element = document.querySelector('#df-d4ed3c60-5559-416f-a727-5b9ab3dacbae');\n",
       "          const dataTable =\n",
       "            await google.colab.kernel.invokeFunction('convertToInteractive',\n",
       "                                                     [key], {});\n",
       "          if (!dataTable) return;\n",
       "\n",
       "          const docLinkHtml = 'Like what you see? Visit the ' +\n",
       "            '<a target=\"_blank\" href=https://colab.research.google.com/notebooks/data_table.ipynb>data table notebook</a>'\n",
       "            + ' to learn more about interactive tables.';\n",
       "          element.innerHTML = '';\n",
       "          dataTable['output_type'] = 'display_data';\n",
       "          await google.colab.output.renderOutput(dataTable, element);\n",
       "          const docLink = document.createElement('div');\n",
       "          docLink.innerHTML = docLinkHtml;\n",
       "          element.appendChild(docLink);\n",
       "        }\n",
       "      </script>\n",
       "    </div>\n",
       "  </div>\n",
       "  "
      ],
      "text/plain": [
       "            Milk produced\n",
       "Month                    \n",
       "1962-01-01          589.0\n",
       "1962-02-01          561.0\n",
       "1962-03-01          640.0\n",
       "1962-04-01          656.0\n",
       "1962-05-01          727.0"
      ]
     },
     "execution_count": 24,
     "metadata": {},
     "output_type": "execute_result"
    }
   ],
   "source": [
    "df.head()"
   ]
  },
  {
   "cell_type": "code",
   "execution_count": 28,
   "metadata": {
    "id": "_KbDVQCp_tqv"
   },
   "outputs": [],
   "source": [
    "from statsmodels.tsa.stattools import adfuller ### This function does the dickey fuller"
   ]
  },
  {
   "cell_type": "code",
   "execution_count": 29,
   "metadata": {
    "id": "fAMRswgtPMDZ"
   },
   "outputs": [],
   "source": [
    "def adf_check(time_series):\n",
    "    \"\"\"\n",
    "    Pass in a time series, returns ADF report\n",
    "    \"\"\"\n",
    "    result = adfuller(time_series)\n",
    "    print('Augmented Dickey-Fuller Test:')\n",
    "    labels = ['ADF Test Statistic',\n",
    "              'p-value',\n",
    "              '#Lags Used',\n",
    "              'Number of Observations Used']\n",
    "\n",
    "    for value,label in zip(result,labels):\n",
    "        print(label+' : '+str(value) )\n",
    "    \n",
    "    if result[1] < 0.05:\n",
    "        print(\"strong evidence against the null hypothesis, reject the null hypothesis. Data has no unit root and is stationary\")\n",
    "    else:\n",
    "        print(\"weak evidence against null hypothesis, time series has a unit root, indicating it is non-stationary \")"
   ]
  },
  {
   "cell_type": "code",
   "execution_count": 30,
   "metadata": {
    "colab": {
     "base_uri": "https://localhost:8080/"
    },
    "id": "tSUt1YdF_tqv",
    "outputId": "6abbf3d7-0917-4481-c365-9d5120a8f58c"
   },
   "outputs": [
    {
     "name": "stdout",
     "output_type": "stream",
     "text": [
      "Augmented Dickey-Fuller Test:\n",
      "ADF Test Statistic : -1.3038115874221308\n",
      "p-value : 0.6274267086030311\n",
      "#Lags Used : 13\n",
      "Number of Observations Used : 154\n",
      "weak evidence against null hypothesis, time series has a unit root, indicating it is non-stationary \n"
     ]
    }
   ],
   "source": [
    "result = adf_check(timeseries)"
   ]
  },
  {
   "cell_type": "code",
   "execution_count": 31,
   "metadata": {
    "colab": {
     "base_uri": "https://localhost:8080/"
    },
    "id": "_dkVjDjVfmXv",
    "outputId": "b26da4ed-e1e9-462f-db31-a56705c73b3a"
   },
   "outputs": [
    {
     "data": {
      "text/plain": [
       "Month\n",
       "1962-01-01    589.0\n",
       "1962-02-01    561.0\n",
       "1962-03-01    640.0\n",
       "1962-04-01    656.0\n",
       "1962-05-01    727.0\n",
       "              ...  \n",
       "1975-08-01    858.0\n",
       "1975-09-01    817.0\n",
       "1975-10-01    827.0\n",
       "1975-11-01    797.0\n",
       "1975-12-01    843.0\n",
       "Name: Milk produced, Length: 168, dtype: float64"
      ]
     },
     "execution_count": 31,
     "metadata": {},
     "output_type": "execute_result"
    }
   ],
   "source": [
    "df['Milk produced'] #### yt"
   ]
  },
  {
   "cell_type": "code",
   "execution_count": 32,
   "metadata": {
    "colab": {
     "base_uri": "https://localhost:8080/"
    },
    "id": "sohcB4xEsxWS",
    "outputId": "0dd62d94-6d6c-4d7d-e51d-89dd1a93ce55"
   },
   "outputs": [
    {
     "data": {
      "text/plain": [
       "Month\n",
       "1962-01-01      NaN\n",
       "1962-02-01    589.0\n",
       "1962-03-01    561.0\n",
       "1962-04-01    640.0\n",
       "1962-05-01    656.0\n",
       "              ...  \n",
       "1975-08-01    896.0\n",
       "1975-09-01    858.0\n",
       "1975-10-01    817.0\n",
       "1975-11-01    827.0\n",
       "1975-12-01    797.0\n",
       "Name: Milk produced, Length: 168, dtype: float64"
      ]
     },
     "execution_count": 32,
     "metadata": {},
     "output_type": "execute_result"
    }
   ],
   "source": [
    "df['Milk produced'].shift(1) #### yt-1"
   ]
  },
  {
   "cell_type": "code",
   "execution_count": 33,
   "metadata": {
    "colab": {
     "base_uri": "https://localhost:8080/",
     "height": 301
    },
    "id": "KOW0TZKGWDoB",
    "outputId": "1115fd83-9ff2-4170-8e04-83b517c768d5"
   },
   "outputs": [
    {
     "data": {
      "text/plain": [
       "<matplotlib.axes._subplots.AxesSubplot at 0x7efcf370a430>"
      ]
     },
     "execution_count": 33,
     "metadata": {},
     "output_type": "execute_result"
    },
    {
     "data": {
      "image/png": "[encoded data removed]",
      "text/plain": [
       "<Figure size 432x288 with 1 Axes>"
      ]
     },
     "metadata": {
      "needs_background": "light"
     },
     "output_type": "display_data"
    }
   ],
   "source": [
    "  #### First order normal differencing\n",
    "\n",
    "seasonality_removed = df['Milk produced'] - df['Milk produced'].shift(12) #### First order seasonal differencing\n",
    "\n",
    "trend_seasonality_removed = seasonality_removed - seasonality_removed.shift(1) #### first order normal differencing\n",
    "\n",
    "trend_seasonality_removed = trend_seasonality_removed.dropna()\n",
    "\n",
    "trend_seasonality_removed.plot()"
   ]
  },
  {
   "cell_type": "code",
   "execution_count": 34,
   "metadata": {
    "colab": {
     "base_uri": "https://localhost:8080/"
    },
    "id": "Y-eUd8Hytusn",
    "outputId": "cec855dd-a72a-4165-b0a4-39c6a5d04e76"
   },
   "outputs": [
    {
     "name": "stdout",
     "output_type": "stream",
     "text": [
      "Augmented Dickey-Fuller Test:\n",
      "ADF Test Statistic : -5.038002274921981\n",
      "p-value : 1.865423431878848e-05\n",
      "#Lags Used : 11\n",
      "Number of Observations Used : 143\n",
      "strong evidence against the null hypothesis, reject the null hypothesis. Data has no unit root and is stationary\n",
      "None\n"
     ]
    }
   ],
   "source": [
    "print(adf_check(trend_seasonality_removed)) ### first order seasonal differencing and first order trend differencing"
   ]
  },
  {
   "cell_type": "code",
   "execution_count": 35,
   "metadata": {
    "colab": {
     "base_uri": "https://localhost:8080/",
     "height": 519
    },
    "id": "1vaXe1UWW4nn",
    "outputId": "1cb8efcb-1e0d-4901-9ee1-a7e5aa0c2e5d"
   },
   "outputs": [
    {
     "data": {
      "image/png": "[encoded data removed]",
      "text/plain": [
       "<Figure size 864x576 with 2 Axes>"
      ]
     },
     "metadata": {
      "needs_background": "light"
     },
     "output_type": "display_data"
    }
   ],
   "source": [
    "fig = plt.figure(figsize = (12,8))\n",
    "ax1 = fig.add_subplot(211)\n",
    "fig = plot_acf(trend_seasonality_removed,lags = 40,ax = ax1)\n",
    "ax2 = fig.add_subplot(212)\n",
    "fig = plot_pacf(trend_seasonality_removed,lags = 40, ax = ax2)"
   ]
  },
  {
   "cell_type": "code",
   "execution_count": 50,
   "metadata": {
    "colab": {
     "base_uri": "https://localhost:8080/"
    },
    "id": "ua3GIY_D_tq0",
    "outputId": "e90b54df-1360-4221-b4d5-c6413d053b8e"
   },
   "outputs": [
    {
     "name": "stderr",
     "output_type": "stream",
     "text": [
      "/usr/local/lib/python3.8/dist-packages/statsmodels/tsa/base/tsa_model.py:524: ValueWarning: No frequency information was provided, so inferred frequency MS will be used.\n",
      "  warnings.warn('No frequency information was'\n",
      "/usr/local/lib/python3.8/dist-packages/statsmodels/tsa/base/tsa_model.py:524: ValueWarning: No frequency information was provided, so inferred frequency MS will be used.\n",
      "  warnings.warn('No frequency information was'\n"
     ]
    }
   ],
   "source": [
    "model = sm.tsa.statespace.SARIMAX(df['Milk produced'],\n",
    "                                  order = (1,1,0),\n",
    "                                  seasonal_order = (1,1,0,12), \n",
    "                                  enforce_stationarity=False, \n",
    "                                  enforce_invertibility=False)"
   ]
  },
  {
   "cell_type": "code",
   "execution_count": 49,
   "metadata": {
    "colab": {
     "base_uri": "https://localhost:8080/"
    },
    "id": "zA_U2PdZ_tq0",
    "outputId": "784204de-e565-461d-fafd-5a0ad4f87c2e"
   },
   "outputs": [
    {
     "name": "stdout",
     "output_type": "stream",
     "text": [
      "                                     SARIMAX Results                                      \n",
      "==========================================================================================\n",
      "Dep. Variable:                      Milk produced   No. Observations:                  168\n",
      "Model:             SARIMAX(1, 1, 0)x(1, 1, 0, 12)   Log Likelihood                -490.509\n",
      "Date:                            Thu, 23 Feb 2023   AIC                            987.018\n",
      "Time:                                    16:36:18   BIC                            995.885\n",
      "Sample:                                01-01-1962   HQIC                           990.621\n",
      "                                     - 12-01-1975                                         \n",
      "Covariance Type:                              opg                                         \n",
      "==============================================================================\n",
      "                 coef    std err          z      P>|z|      [0.025      0.975]\n",
      "------------------------------------------------------------------------------\n",
      "ar.L1         -0.2809      0.069     -4.073      0.000      -0.416      -0.146\n",
      "ar.S.L12      -0.4643      0.052     -8.997      0.000      -0.565      -0.363\n",
      "sigma2        58.5978      4.846     12.092      0.000      49.100      68.096\n",
      "===================================================================================\n",
      "Ljung-Box (L1) (Q):                   0.01   Jarque-Bera (JB):                36.34\n",
      "Prob(Q):                              0.92   Prob(JB):                         0.00\n",
      "Heteroskedasticity (H):               1.16   Skew:                             0.56\n",
      "Prob(H) (two-sided):                  0.62   Kurtosis:                         5.21\n",
      "===================================================================================\n",
      "\n",
      "Warnings:\n",
      "[1] Covariance matrix calculated using the outer product of gradients (complex-step).\n"
     ]
    }
   ],
   "source": [
    "results = model.fit()\n",
    "print(results.summary())"
   ]
  },
  {
   "cell_type": "code",
   "execution_count": 41,
   "metadata": {
    "colab": {
     "base_uri": "https://localhost:8080/",
     "height": 281
    },
    "id": "FuP92Fywo4bt",
    "outputId": "e120d12a-e46e-47ce-923a-6690160fb59f"
   },
   "outputs": [
    {
     "data": {
      "image/png": "[encoded data removed]",
      "text/plain": [
       "<Figure size 432x288 with 1 Axes>"
      ]
     },
     "metadata": {
      "needs_background": "light"
     },
     "output_type": "display_data"
    }
   ],
   "source": [
    "plot_acf(results.resid)\n",
    "plt.show()"
   ]
  },
  {
   "cell_type": "code",
   "execution_count": 43,
   "metadata": {
    "colab": {
     "base_uri": "https://localhost:8080/",
     "height": 281
    },
    "id": "9B-nwqDTHzTP",
    "outputId": "2decae68-e1b1-495b-9b9e-e3e064561827"
   },
   "outputs": [
    {
     "data": {
      "image/png": "[encoded data removed]",
      "text/plain": [
       "<Figure size 432x288 with 1 Axes>"
      ]
     },
     "metadata": {
      "needs_background": "light"
     },
     "output_type": "display_data"
    }
   ],
   "source": [
    "plot_pacf(results.resid)\n",
    "plt.show()"
   ]
  },
  {
   "cell_type": "code",
   "execution_count": null,
   "metadata": {
    "colab": {
     "base_uri": "https://localhost:8080/",
     "height": 607
    },
    "id": "xiXlGpbIc42X",
    "outputId": "90f6912d-746e-43ea-a0ac-85edf71b4314"
   },
   "outputs": [
    {
     "name": "stdout",
     "output_type": "stream",
     "text": [
      "Looking in indexes: https://pypi.org/simple, https://us-python.pkg.dev/colab-wheels/public/simple/\n",
      "Collecting pmdarima\n",
      "  Downloading pmdarima-2.0.2-cp38-cp38-manylinux_2_17_x86_64.manylinux2014_x86_64.manylinux_2_28_x86_64.whl (1.9 MB)\n",
      "\u001b[2K     \u001b[90m━━━━━━━━━━━━━━━━━━━━━━━━━━━━━━━━━━━━━━━━\u001b[0m \u001b[32m1.9/1.9 MB\u001b[0m \u001b[31m18.1 MB/s\u001b[0m eta \u001b[36m0:00:00\u001b[0m\n",
      "\u001b[?25hRequirement already satisfied: scipy>=1.3.2 in /usr/local/lib/python3.8/dist-packages (from pmdarima) (1.7.3)\n",
      "Requirement already satisfied: joblib>=0.11 in /usr/local/lib/python3.8/dist-packages (from pmdarima) (1.2.0)\n",
      "Requirement already satisfied: numpy>=1.21.2 in /usr/local/lib/python3.8/dist-packages (from pmdarima) (1.22.4)\n",
      "Collecting statsmodels>=0.13.2\n",
      "  Downloading statsmodels-0.13.5-cp38-cp38-manylinux_2_17_x86_64.manylinux2014_x86_64.whl (9.9 MB)\n",
      "\u001b[2K     \u001b[90m━━━━━━━━━━━━━━━━━━━━━━━━━━━━━━━━━━━━━━━━\u001b[0m \u001b[32m9.9/9.9 MB\u001b[0m \u001b[31m42.1 MB/s\u001b[0m eta \u001b[36m0:00:00\u001b[0m\n",
      "\u001b[?25hRequirement already satisfied: setuptools!=50.0.0,>=38.6.0 in /usr/local/lib/python3.8/dist-packages (from pmdarima) (57.4.0)\n",
      "Requirement already satisfied: Cython!=0.29.18,!=0.29.31,>=0.29 in /usr/local/lib/python3.8/dist-packages (from pmdarima) (0.29.33)\n",
      "Requirement already satisfied: pandas>=0.19 in /usr/local/lib/python3.8/dist-packages (from pmdarima) (1.3.5)\n",
      "Requirement already satisfied: urllib3 in /usr/local/lib/python3.8/dist-packages (from pmdarima) (1.24.3)\n",
      "Requirement already satisfied: scikit-learn>=0.22 in /usr/local/lib/python3.8/dist-packages (from pmdarima) (1.0.2)\n",
      "Requirement already satisfied: python-dateutil>=2.7.3 in /usr/local/lib/python3.8/dist-packages (from pandas>=0.19->pmdarima) (2.8.2)\n",
      "Requirement already satisfied: pytz>=2017.3 in /usr/local/lib/python3.8/dist-packages (from pandas>=0.19->pmdarima) (2022.7.1)\n",
      "Requirement already satisfied: threadpoolctl>=2.0.0 in /usr/local/lib/python3.8/dist-packages (from scikit-learn>=0.22->pmdarima) (3.1.0)\n",
      "Requirement already satisfied: patsy>=0.5.2 in /usr/local/lib/python3.8/dist-packages (from statsmodels>=0.13.2->pmdarima) (0.5.3)\n",
      "Requirement already satisfied: packaging>=21.3 in /usr/local/lib/python3.8/dist-packages (from statsmodels>=0.13.2->pmdarima) (23.0)\n",
      "Requirement already satisfied: six in /usr/local/lib/python3.8/dist-packages (from patsy>=0.5.2->statsmodels>=0.13.2->pmdarima) (1.15.0)\n",
      "Installing collected packages: statsmodels, pmdarima\n",
      "  Attempting uninstall: statsmodels\n",
      "    Found existing installation: statsmodels 0.12.2\n",
      "    Uninstalling statsmodels-0.12.2:\n",
      "      Successfully uninstalled statsmodels-0.12.2\n",
      "Successfully installed pmdarima-2.0.2 statsmodels-0.13.5\n"
     ]
    },
    {
     "data": {
      "application/vnd.colab-display-data+json": {
       "pip_warning": {
        "packages": [
         "statsmodels"
        ]
       }
      }
     },
     "metadata": {},
     "output_type": "display_data"
    }
   ],
   "source": [
    "!pip install pmdarima"
   ]
  },
  {
   "cell_type": "code",
   "execution_count": null,
   "metadata": {
    "colab": {
     "base_uri": "https://localhost:8080/"
    },
    "id": "y02oPBfAc8Na",
    "outputId": "cd94bb38-70fc-4003-c9b1-cad12f9d7495"
   },
   "outputs": [
    {
     "name": "stdout",
     "output_type": "stream",
     "text": [
      " ARIMA(0,1,0)(0,1,0)[12]             : AIC=1119.969, Time=0.07 sec\n",
      " ARIMA(0,1,0)(0,1,1)[12]             : AIC=1072.280, Time=0.18 sec\n",
      " ARIMA(0,1,0)(0,1,2)[12]             : AIC=1074.086, Time=1.11 sec\n",
      " ARIMA(0,1,0)(1,1,0)[12]             : AIC=1089.113, Time=0.36 sec\n",
      " ARIMA(0,1,0)(1,1,1)[12]             : AIC=1074.131, Time=0.75 sec\n",
      " ARIMA(0,1,0)(1,1,2)[12]             : AIC=inf, Time=5.80 sec\n",
      " ARIMA(0,1,0)(2,1,0)[12]             : AIC=1080.886, Time=0.65 sec\n",
      " ARIMA(0,1,0)(2,1,1)[12]             : AIC=1075.400, Time=0.99 sec\n",
      " ARIMA(0,1,0)(2,1,2)[12]             : AIC=inf, Time=3.47 sec\n",
      " ARIMA(0,1,1)(0,1,0)[12]             : AIC=1114.995, Time=0.08 sec\n",
      " ARIMA(0,1,1)(0,1,1)[12]             : AIC=1066.296, Time=0.33 sec\n",
      " ARIMA(0,1,1)(0,1,2)[12]             : AIC=1067.976, Time=0.87 sec\n",
      " ARIMA(0,1,1)(1,1,0)[12]             : AIC=1082.123, Time=0.18 sec\n",
      " ARIMA(0,1,1)(1,1,1)[12]             : AIC=1068.030, Time=0.50 sec\n",
      " ARIMA(0,1,1)(1,1,2)[12]             : AIC=inf, Time=4.94 sec\n",
      " ARIMA(0,1,1)(2,1,0)[12]             : AIC=1074.910, Time=0.46 sec\n",
      " ARIMA(0,1,1)(2,1,1)[12]             : AIC=1069.716, Time=1.16 sec\n",
      " ARIMA(0,1,1)(2,1,2)[12]             : AIC=inf, Time=3.68 sec\n",
      " ARIMA(0,1,2)(0,1,0)[12]             : AIC=1116.428, Time=0.11 sec\n",
      " ARIMA(0,1,2)(0,1,1)[12]             : AIC=1067.796, Time=0.39 sec\n",
      " ARIMA(0,1,2)(0,1,2)[12]             : AIC=1069.427, Time=1.06 sec\n",
      " ARIMA(0,1,2)(1,1,0)[12]             : AIC=1082.733, Time=0.24 sec\n",
      " ARIMA(0,1,2)(1,1,1)[12]             : AIC=1069.483, Time=0.59 sec\n",
      " ARIMA(0,1,2)(1,1,2)[12]             : AIC=inf, Time=2.67 sec\n",
      " ARIMA(0,1,2)(2,1,0)[12]             : AIC=1076.181, Time=1.13 sec\n",
      " ARIMA(0,1,2)(2,1,1)[12]             : AIC=1071.246, Time=2.98 sec\n",
      " ARIMA(0,1,3)(0,1,0)[12]             : AIC=1117.357, Time=0.19 sec\n",
      " ARIMA(0,1,3)(0,1,1)[12]             : AIC=1068.814, Time=0.56 sec\n",
      " ARIMA(0,1,3)(0,1,2)[12]             : AIC=1070.441, Time=1.23 sec\n",
      " ARIMA(0,1,3)(1,1,0)[12]             : AIC=1083.588, Time=0.26 sec\n",
      " ARIMA(0,1,3)(1,1,1)[12]             : AIC=1070.495, Time=0.73 sec\n",
      " ARIMA(0,1,3)(2,1,0)[12]             : AIC=1077.419, Time=0.62 sec\n",
      " ARIMA(0,1,4)(0,1,0)[12]             : AIC=1114.709, Time=0.21 sec\n",
      " ARIMA(0,1,4)(0,1,1)[12]             : AIC=1067.754, Time=0.75 sec\n",
      " ARIMA(0,1,4)(1,1,0)[12]             : AIC=1082.906, Time=0.34 sec\n",
      " ARIMA(0,1,5)(0,1,0)[12]             : AIC=1115.087, Time=0.30 sec\n",
      " ARIMA(1,1,0)(0,1,0)[12]             : AIC=1114.845, Time=0.07 sec\n",
      " ARIMA(1,1,0)(0,1,1)[12]             : AIC=1066.207, Time=0.29 sec\n",
      " ARIMA(1,1,0)(0,1,2)[12]             : AIC=1067.857, Time=0.70 sec\n",
      " ARIMA(1,1,0)(1,1,0)[12]             : AIC=1081.584, Time=0.18 sec\n",
      " ARIMA(1,1,0)(1,1,1)[12]             : AIC=1067.913, Time=0.41 sec\n",
      " ARIMA(1,1,0)(1,1,2)[12]             : AIC=inf, Time=2.23 sec\n",
      " ARIMA(1,1,0)(2,1,0)[12]             : AIC=1074.641, Time=0.44 sec\n",
      " ARIMA(1,1,0)(2,1,1)[12]             : AIC=1069.634, Time=1.96 sec\n",
      " ARIMA(1,1,0)(2,1,2)[12]             : AIC=inf, Time=4.43 sec\n",
      " ARIMA(1,1,1)(0,1,0)[12]             : AIC=1116.764, Time=0.11 sec\n",
      " ARIMA(1,1,1)(0,1,1)[12]             : AIC=1068.064, Time=0.46 sec\n",
      " ARIMA(1,1,1)(0,1,2)[12]             : AIC=1069.720, Time=1.14 sec\n",
      " ARIMA(1,1,1)(1,1,0)[12]             : AIC=1083.524, Time=0.26 sec\n",
      " ARIMA(1,1,1)(1,1,1)[12]             : AIC=1069.775, Time=0.71 sec\n",
      " ARIMA(1,1,1)(1,1,2)[12]             : AIC=inf, Time=3.19 sec\n",
      " ARIMA(1,1,1)(2,1,0)[12]             : AIC=1076.564, Time=0.56 sec\n",
      " ARIMA(1,1,1)(2,1,1)[12]             : AIC=1071.497, Time=1.64 sec\n",
      " ARIMA(1,1,2)(0,1,0)[12]             : AIC=1118.245, Time=0.15 sec\n",
      " ARIMA(1,1,2)(0,1,1)[12]             : AIC=1069.617, Time=0.87 sec\n",
      " ARIMA(1,1,2)(0,1,2)[12]             : AIC=1071.236, Time=2.76 sec\n",
      " ARIMA(1,1,2)(1,1,0)[12]             : AIC=1084.415, Time=0.63 sec\n",
      " ARIMA(1,1,2)(1,1,1)[12]             : AIC=1071.293, Time=1.24 sec\n",
      " ARIMA(1,1,2)(2,1,0)[12]             : AIC=1078.015, Time=0.85 sec\n",
      " ARIMA(1,1,3)(0,1,0)[12]             : AIC=1112.656, Time=0.50 sec\n",
      " ARIMA(1,1,3)(0,1,1)[12]             : AIC=1067.982, Time=1.42 sec\n",
      " ARIMA(1,1,3)(1,1,0)[12]             : AIC=1081.713, Time=2.36 sec\n",
      " ARIMA(1,1,4)(0,1,0)[12]             : AIC=inf, Time=1.12 sec\n",
      " ARIMA(2,1,0)(0,1,0)[12]             : AIC=1116.675, Time=0.11 sec\n",
      " ARIMA(2,1,0)(0,1,1)[12]             : AIC=1067.922, Time=0.37 sec\n",
      " ARIMA(2,1,0)(0,1,2)[12]             : AIC=1069.584, Time=0.93 sec\n",
      " ARIMA(2,1,0)(1,1,0)[12]             : AIC=1083.457, Time=0.23 sec\n",
      " ARIMA(2,1,0)(1,1,1)[12]             : AIC=1069.637, Time=0.57 sec\n",
      " ARIMA(2,1,0)(1,1,2)[12]             : AIC=inf, Time=3.88 sec\n",
      " ARIMA(2,1,0)(2,1,0)[12]             : AIC=1076.489, Time=1.38 sec\n",
      " ARIMA(2,1,0)(2,1,1)[12]             : AIC=1071.362, Time=1.60 sec\n",
      " ARIMA(2,1,1)(0,1,0)[12]             : AIC=1111.754, Time=0.48 sec\n",
      " ARIMA(2,1,1)(0,1,1)[12]             : AIC=1066.696, Time=1.25 sec\n",
      " ARIMA(2,1,1)(0,1,2)[12]             : AIC=1068.427, Time=2.98 sec\n",
      " ARIMA(2,1,1)(1,1,0)[12]             : AIC=1081.058, Time=1.15 sec\n",
      " ARIMA(2,1,1)(1,1,1)[12]             : AIC=1068.472, Time=1.84 sec\n",
      " ARIMA(2,1,1)(2,1,0)[12]             : AIC=1074.803, Time=4.48 sec\n",
      " ARIMA(2,1,2)(0,1,0)[12]             : AIC=1105.373, Time=0.92 sec\n",
      " ARIMA(2,1,2)(0,1,1)[12]             : AIC=1068.467, Time=1.98 sec\n",
      " ARIMA(2,1,2)(1,1,0)[12]             : AIC=1083.558, Time=1.06 sec\n",
      " ARIMA(2,1,3)(0,1,0)[12]             : AIC=1112.668, Time=1.36 sec\n",
      " ARIMA(3,1,0)(0,1,0)[12]             : AIC=1116.393, Time=0.12 sec\n",
      " ARIMA(3,1,0)(0,1,1)[12]             : AIC=1067.804, Time=0.49 sec\n",
      " ARIMA(3,1,0)(0,1,2)[12]             : AIC=1069.431, Time=1.21 sec\n",
      " ARIMA(3,1,0)(1,1,0)[12]             : AIC=1082.420, Time=0.28 sec\n",
      " ARIMA(3,1,0)(1,1,1)[12]             : AIC=1069.483, Time=0.66 sec\n",
      " ARIMA(3,1,0)(2,1,0)[12]             : AIC=1076.388, Time=0.61 sec\n",
      " ARIMA(3,1,1)(0,1,0)[12]             : AIC=1118.259, Time=0.24 sec\n",
      " ARIMA(3,1,1)(0,1,1)[12]             : AIC=1068.938, Time=1.20 sec\n",
      " ARIMA(3,1,1)(1,1,0)[12]             : AIC=1084.139, Time=0.62 sec\n",
      " ARIMA(3,1,2)(0,1,0)[12]             : AIC=1106.881, Time=1.50 sec\n",
      " ARIMA(4,1,0)(0,1,0)[12]             : AIC=1117.996, Time=0.37 sec\n",
      " ARIMA(4,1,0)(0,1,1)[12]             : AIC=1069.310, Time=1.14 sec\n",
      " ARIMA(4,1,0)(1,1,0)[12]             : AIC=1084.089, Time=0.77 sec\n",
      " ARIMA(4,1,1)(0,1,0)[12]             : AIC=inf, Time=1.49 sec\n",
      " ARIMA(5,1,0)(0,1,0)[12]             : AIC=1117.173, Time=0.17 sec\n",
      "\n",
      "Best model:  ARIMA(1,1,0)(0,1,1)[12]          \n",
      "Total fit time: 108.284 seconds\n"
     ]
    }
   ],
   "source": [
    "from pmdarima.arima import auto_arima\n",
    "\n",
    "arima_ = auto_arima(y=df['Milk produced'], start_p=3, d=1, \n",
    "                   start_q=3, max_p=7, max_d=2, max_q=7,\n",
    "                   start_P=0, D=1, start_Q=0, max_P=2, max_D=2, max_Q=2, m=12, seasonal=True, n_fits=1000,\n",
    "                   supress_warnings=False, trace=True, stepwise=False)"
   ]
  },
  {
   "cell_type": "code",
   "execution_count": null,
   "metadata": {
    "colab": {
     "base_uri": "https://localhost:8080/",
     "height": 427
    },
    "id": "bZ4rv_tNhb-P",
    "outputId": "8d5a277c-c233-4b84-93fa-aca0956610d2"
   },
   "outputs": [
    {
     "data": {
      "text/html": [
       "<table class=\"simpletable\">\n",
       "<caption>SARIMAX Results</caption>\n",
       "<tr>\n",
       "  <th>Dep. Variable:</th>                   <td>y</td>                <th>  No. Observations:  </th>    <td>168</td>  \n",
       "</tr>\n",
       "<tr>\n",
       "  <th>Model:</th>           <td>SARIMAX(1, 1, 0)x(0, 1, [1], 12)</td> <th>  Log Likelihood     </th> <td>-530.104</td>\n",
       "</tr>\n",
       "<tr>\n",
       "  <th>Date:</th>                    <td>Wed, 22 Feb 2023</td>         <th>  AIC                </th> <td>1066.207</td>\n",
       "</tr>\n",
       "<tr>\n",
       "  <th>Time:</th>                        <td>19:12:41</td>             <th>  BIC                </th> <td>1075.337</td>\n",
       "</tr>\n",
       "<tr>\n",
       "  <th>Sample:</th>                     <td>01-01-1962</td>            <th>  HQIC               </th> <td>1069.916</td>\n",
       "</tr>\n",
       "<tr>\n",
       "  <th></th>                           <td>- 12-01-1975</td>           <th>                     </th>     <td> </td>   \n",
       "</tr>\n",
       "<tr>\n",
       "  <th>Covariance Type:</th>                <td>opg</td>               <th>                     </th>     <td> </td>   \n",
       "</tr>\n",
       "</table>\n",
       "<table class=\"simpletable\">\n",
       "<tr>\n",
       "      <td></td>        <th>coef</th>     <th>std err</th>      <th>z</th>      <th>P>|z|</th>  <th>[0.025</th>    <th>0.975]</th>  \n",
       "</tr>\n",
       "<tr>\n",
       "  <th>ar.L1</th>    <td>   -0.2253</td> <td>    0.077</td> <td>   -2.925</td> <td> 0.003</td> <td>   -0.376</td> <td>   -0.074</td>\n",
       "</tr>\n",
       "<tr>\n",
       "  <th>ma.S.L12</th> <td>   -0.6190</td> <td>    0.070</td> <td>   -8.825</td> <td> 0.000</td> <td>   -0.757</td> <td>   -0.482</td>\n",
       "</tr>\n",
       "<tr>\n",
       "  <th>sigma2</th>   <td>   52.6908</td> <td>    4.897</td> <td>   10.759</td> <td> 0.000</td> <td>   43.093</td> <td>   62.289</td>\n",
       "</tr>\n",
       "</table>\n",
       "<table class=\"simpletable\">\n",
       "<tr>\n",
       "  <th>Ljung-Box (L1) (Q):</th>     <td>0.01</td> <th>  Jarque-Bera (JB):  </th> <td>35.11</td>\n",
       "</tr>\n",
       "<tr>\n",
       "  <th>Prob(Q):</th>                <td>0.91</td> <th>  Prob(JB):          </th> <td>0.00</td> \n",
       "</tr>\n",
       "<tr>\n",
       "  <th>Heteroskedasticity (H):</th> <td>0.82</td> <th>  Skew:              </th> <td>0.74</td> \n",
       "</tr>\n",
       "<tr>\n",
       "  <th>Prob(H) (two-sided):</th>    <td>0.49</td> <th>  Kurtosis:          </th> <td>4.80</td> \n",
       "</tr>\n",
       "</table><br/><br/>Warnings:<br/>[1] Covariance matrix calculated using the outer product of gradients (complex-step)."
      ],
      "text/plain": [
       "<class 'statsmodels.iolib.summary.Summary'>\n",
       "\"\"\"\n",
       "                                      SARIMAX Results                                       \n",
       "============================================================================================\n",
       "Dep. Variable:                                    y   No. Observations:                  168\n",
       "Model:             SARIMAX(1, 1, 0)x(0, 1, [1], 12)   Log Likelihood                -530.104\n",
       "Date:                              Wed, 22 Feb 2023   AIC                           1066.207\n",
       "Time:                                      19:12:41   BIC                           1075.337\n",
       "Sample:                                  01-01-1962   HQIC                          1069.916\n",
       "                                       - 12-01-1975                                         \n",
       "Covariance Type:                                opg                                         \n",
       "==============================================================================\n",
       "                 coef    std err          z      P>|z|      [0.025      0.975]\n",
       "------------------------------------------------------------------------------\n",
       "ar.L1         -0.2253      0.077     -2.925      0.003      -0.376      -0.074\n",
       "ma.S.L12      -0.6190      0.070     -8.825      0.000      -0.757      -0.482\n",
       "sigma2        52.6908      4.897     10.759      0.000      43.093      62.289\n",
       "===================================================================================\n",
       "Ljung-Box (L1) (Q):                   0.01   Jarque-Bera (JB):                35.11\n",
       "Prob(Q):                              0.91   Prob(JB):                         0.00\n",
       "Heteroskedasticity (H):               0.82   Skew:                             0.74\n",
       "Prob(H) (two-sided):                  0.49   Kurtosis:                         4.80\n",
       "===================================================================================\n",
       "\n",
       "Warnings:\n",
       "[1] Covariance matrix calculated using the outer product of gradients (complex-step).\n",
       "\"\"\""
      ]
     },
     "execution_count": 68,
     "metadata": {},
     "output_type": "execute_result"
    }
   ],
   "source": [
    "arima_.summary()"
   ]
  },
  {
   "cell_type": "code",
   "execution_count": 51,
   "metadata": {
    "id": "tcuR646SJs-Q"
   },
   "outputs": [],
   "source": [
    "p = range(0,3)\n",
    "\n",
    "d = range(0,2)\n",
    "\n",
    "q = range(0,3)"
   ]
  },
  {
   "cell_type": "code",
   "execution_count": 54,
   "metadata": {
    "colab": {
     "base_uri": "https://localhost:8080/"
    },
    "id": "JHQHVz6tJ0-N",
    "outputId": "d8b0c512-8dfe-463f-be7f-90b53711ad57"
   },
   "outputs": [
    {
     "data": {
      "text/plain": [
       "[(0, 0, 0),\n",
       " (0, 0, 1),\n",
       " (0, 0, 2),\n",
       " (0, 1, 0),\n",
       " (0, 1, 1),\n",
       " (0, 1, 2),\n",
       " (1, 0, 0),\n",
       " (1, 0, 1),\n",
       " (1, 0, 2),\n",
       " (1, 1, 0),\n",
       " (1, 1, 1),\n",
       " (1, 1, 2),\n",
       " (2, 0, 0),\n",
       " (2, 0, 1),\n",
       " (2, 0, 2),\n",
       " (2, 1, 0),\n",
       " (2, 1, 1),\n",
       " (2, 1, 2)]"
      ]
     },
     "execution_count": 54,
     "metadata": {},
     "output_type": "execute_result"
    }
   ],
   "source": [
    "import itertools\n",
    "\n",
    "list(itertools.product(p, d, q))"
   ]
  },
  {
   "cell_type": "code",
   "execution_count": 55,
   "metadata": {
    "colab": {
     "base_uri": "https://localhost:8080/"
    },
    "id": "g_BdCWFrKJgw",
    "outputId": "a9062c14-6bc5-41d2-9636-01bb203481f3"
   },
   "outputs": [
    {
     "data": {
      "text/plain": [
       "[(0, 1, 0),\n",
       " (0, 1, 1),\n",
       " (0, 1, 2),\n",
       " (1, 1, 0),\n",
       " (1, 1, 1),\n",
       " (1, 1, 2),\n",
       " (2, 1, 0),\n",
       " (2, 1, 1),\n",
       " (2, 1, 2)]"
      ]
     },
     "execution_count": 55,
     "metadata": {},
     "output_type": "execute_result"
    }
   ],
   "source": [
    "list(itertools.product(range(0,3), range(1,2), range(0,3)))"
   ]
  },
  {
   "cell_type": "code",
   "execution_count": null,
   "metadata": {
    "colab": {
     "background_save": true,
     "base_uri": "https://localhost:8080/"
    },
    "id": "3PMZazQblNkk",
    "outputId": "97f4293b-52ed-4f30-cb14-3445e73bc522"
   },
   "outputs": [
    {
     "name": "stdout",
     "output_type": "stream",
     "text": [
      "Examples of parameter combinations for Seasonal ARIMA...\n",
      "SARIMAX: (0, 1, 1) x (0, 1, 1, 12)\n",
      "SARIMAX: (0, 1, 1) x (0, 1, 2, 12)\n",
      "SARIMAX: (0, 1, 2) x (1, 1, 0, 12)\n",
      "SARIMAX: (0, 1, 2) x (1, 1, 1, 12)\n",
      "ARIMA(0, 1, 0)x(0, 1, 0, 12)12 - AIC:1113.3016402514772\n",
      "ARIMA(0, 1, 0)x(0, 1, 1, 12)12 - AIC:980.377254004642\n",
      "ARIMA(0, 1, 0)x(0, 1, 2, 12)12 - AIC:899.9807422705869\n",
      "ARIMA(0, 1, 0)x(1, 1, 0, 12)12 - AIC:1010.162769102404\n",
      "ARIMA(0, 1, 0)x(1, 1, 1, 12)12 - AIC:983.6057147894915\n",
      "ARIMA(0, 1, 0)x(1, 1, 2, 12)12 - AIC:900.6874122190266\n",
      "ARIMA(0, 1, 0)x(2, 1, 0, 12)12 - AIC:917.0873067317734\n",
      "ARIMA(0, 1, 0)x(2, 1, 1, 12)12 - AIC:918.5227054905025\n",
      "ARIMA(0, 1, 0)x(2, 1, 2, 12)12 - AIC:902.6841592294231\n",
      "ARIMA(0, 1, 1)x(0, 1, 0, 12)12 - AIC:1101.5458031052915\n",
      "ARIMA(0, 1, 1)x(0, 1, 1, 12)12 - AIC:965.6194210435326\n",
      "ARIMA(0, 1, 1)x(0, 1, 2, 12)12 - AIC:887.9110136125054\n",
      "ARIMA(0, 1, 1)x(1, 1, 0, 12)12 - AIC:1001.0530217668479\n",
      "ARIMA(0, 1, 1)x(1, 1, 1, 12)12 - AIC:968.0689536698894\n",
      "ARIMA(0, 1, 1)x(1, 1, 2, 12)12 - AIC:889.066216985574\n",
      "ARIMA(0, 1, 1)x(2, 1, 0, 12)12 - AIC:910.1744160575545\n",
      "ARIMA(0, 1, 1)x(2, 1, 1, 12)12 - AIC:911.5381546514886\n",
      "ARIMA(0, 1, 1)x(2, 1, 2, 12)12 - AIC:891.0625258671637\n",
      "ARIMA(0, 1, 2)x(0, 1, 0, 12)12 - AIC:1096.3748152691255\n",
      "ARIMA(0, 1, 2)x(0, 1, 1, 12)12 - AIC:959.4378651735167\n",
      "ARIMA(0, 1, 2)x(0, 1, 2, 12)12 - AIC:883.5688566263258\n",
      "ARIMA(0, 1, 2)x(1, 1, 0, 12)12 - AIC:1000.1038509668599\n",
      "ARIMA(0, 1, 2)x(1, 1, 1, 12)12 - AIC:962.5900752922593\n",
      "ARIMA(0, 1, 2)x(1, 1, 2, 12)12 - AIC:884.8900670769067\n",
      "ARIMA(0, 1, 2)x(2, 1, 0, 12)12 - AIC:909.9045491406514\n",
      "ARIMA(0, 1, 2)x(2, 1, 1, 12)12 - AIC:911.3464446408098\n",
      "ARIMA(0, 1, 2)x(2, 1, 2, 12)12 - AIC:887.538103304765\n",
      "ARIMA(0, 1, 3)x(0, 1, 0, 12)12 - AIC:1091.114177517721\n",
      "ARIMA(0, 1, 3)x(0, 1, 1, 12)12 - AIC:953.130684530404\n",
      "ARIMA(0, 1, 3)x(0, 1, 2, 12)12 - AIC:877.1577006084606\n",
      "ARIMA(0, 1, 3)x(1, 1, 0, 12)12 - AIC:1000.5049594729127\n",
      "ARIMA(0, 1, 3)x(1, 1, 1, 12)12 - AIC:955.8258231347072\n",
      "ARIMA(0, 1, 3)x(1, 1, 2, 12)12 - AIC:878.2426543937557\n",
      "ARIMA(0, 1, 3)x(2, 1, 0, 12)12 - AIC:910.5085477798411\n",
      "ARIMA(0, 1, 3)x(2, 1, 1, 12)12 - AIC:911.9342228797325\n",
      "ARIMA(0, 1, 3)x(2, 1, 2, 12)12 - AIC:880.2403842244246\n",
      "ARIMA(0, 1, 4)x(0, 1, 0, 12)12 - AIC:1082.3284198452452\n",
      "ARIMA(0, 1, 4)x(0, 1, 1, 12)12 - AIC:946.3752834355791\n",
      "ARIMA(0, 1, 4)x(0, 1, 2, 12)12 - AIC:871.4258168905282\n",
      "ARIMA(0, 1, 4)x(1, 1, 0, 12)12 - AIC:1000.747871271303\n",
      "ARIMA(0, 1, 4)x(1, 1, 1, 12)12 - AIC:948.0874706637397\n",
      "ARIMA(0, 1, 4)x(1, 1, 2, 12)12 - AIC:872.7506054208559\n",
      "ARIMA(0, 1, 4)x(2, 1, 0, 12)12 - AIC:910.9697068656569\n",
      "ARIMA(0, 1, 4)x(2, 1, 1, 12)12 - AIC:911.9911801001865\n",
      "ARIMA(0, 1, 4)x(2, 1, 2, 12)12 - AIC:874.7395204648901\n",
      "ARIMA(0, 2, 0)x(0, 1, 0, 12)12 - AIC:1241.619773206352\n",
      "ARIMA(0, 2, 0)x(0, 1, 1, 12)12 - AIC:1101.3414044071483\n",
      "ARIMA(0, 2, 0)x(0, 1, 2, 12)12 - AIC:1012.2006195262923\n",
      "ARIMA(0, 2, 0)x(1, 1, 0, 12)12 - AIC:1134.561876864459\n",
      "ARIMA(0, 2, 0)x(1, 1, 1, 12)12 - AIC:1103.3413040167814\n",
      "ARIMA(0, 2, 0)x(1, 1, 2, 12)12 - AIC:1013.8937217479016\n",
      "ARIMA(0, 2, 0)x(2, 1, 0, 12)12 - AIC:1029.8657463591683\n",
      "ARIMA(0, 2, 0)x(2, 1, 1, 12)12 - AIC:1029.0647978985999\n",
      "ARIMA(0, 2, 0)x(2, 1, 2, 12)12 - AIC:1008.4892851104221\n",
      "ARIMA(0, 2, 1)x(0, 1, 0, 12)12 - AIC:1105.9255224647134\n",
      "ARIMA(0, 2, 1)x(0, 1, 1, 12)12 - AIC:972.0288725938024\n",
      "ARIMA(0, 2, 1)x(0, 1, 2, 12)12 - AIC:892.0970936045787\n",
      "ARIMA(0, 2, 1)x(1, 1, 0, 12)12 - AIC:1011.024150093012\n",
      "ARIMA(0, 2, 1)x(1, 1, 1, 12)12 - AIC:974.0259317225253\n",
      "ARIMA(0, 2, 1)x(1, 1, 2, 12)12 - AIC:892.4803817761463\n",
      "ARIMA(0, 2, 1)x(2, 1, 0, 12)12 - AIC:918.0005716611761\n",
      "ARIMA(0, 2, 1)x(2, 1, 1, 12)12 - AIC:919.702793878891\n",
      "ARIMA(0, 2, 1)x(2, 1, 2, 12)12 - AIC:894.4803588721279\n",
      "ARIMA(0, 2, 2)x(0, 1, 0, 12)12 - AIC:1094.6921486308647\n",
      "ARIMA(0, 2, 2)x(0, 1, 1, 12)12 - AIC:959.4030446761159\n",
      "ARIMA(0, 2, 2)x(0, 1, 2, 12)12 - AIC:883.0325565825683\n",
      "ARIMA(0, 2, 2)x(1, 1, 0, 12)12 - AIC:1002.5804535756897\n",
      "ARIMA(0, 2, 2)x(1, 1, 1, 12)12 - AIC:962.4054978887798\n",
      "ARIMA(0, 2, 2)x(1, 1, 2, 12)12 - AIC:881.3779208080492\n",
      "ARIMA(0, 2, 2)x(2, 1, 0, 12)12 - AIC:911.6780003227293\n",
      "ARIMA(0, 2, 2)x(2, 1, 1, 12)12 - AIC:913.3321052803145\n",
      "ARIMA(0, 2, 2)x(2, 1, 2, 12)12 - AIC:883.3775166173975\n",
      "ARIMA(0, 2, 3)x(0, 1, 0, 12)12 - AIC:1089.551486955866\n",
      "ARIMA(0, 2, 3)x(0, 1, 1, 12)12 - AIC:952.2475514084001\n",
      "ARIMA(0, 2, 3)x(0, 1, 2, 12)12 - AIC:877.166984122166\n",
      "ARIMA(0, 2, 3)x(1, 1, 0, 12)12 - AIC:1001.4006778972807\n",
      "ARIMA(0, 2, 3)x(1, 1, 1, 12)12 - AIC:954.2465165484392\n",
      "ARIMA(0, 2, 3)x(1, 1, 2, 12)12 - AIC:876.8607070083191\n",
      "ARIMA(0, 2, 3)x(2, 1, 0, 12)12 - AIC:911.2022140430402\n",
      "ARIMA(0, 2, 3)x(2, 1, 1, 12)12 - AIC:912.9178329432423\n",
      "ARIMA(0, 2, 3)x(2, 1, 2, 12)12 - AIC:881.11824870685\n",
      "ARIMA(0, 2, 4)x(0, 1, 0, 12)12 - AIC:1084.0113235143258\n",
      "ARIMA(0, 2, 4)x(0, 1, 1, 12)12 - AIC:946.6129779892277\n",
      "ARIMA(0, 2, 4)x(0, 1, 2, 12)12 - AIC:870.7885752500107\n",
      "ARIMA(0, 2, 4)x(1, 1, 0, 12)12 - AIC:1001.5398458373018\n",
      "ARIMA(0, 2, 4)x(1, 1, 1, 12)12 - AIC:948.6114515254063\n",
      "ARIMA(0, 2, 4)x(1, 1, 2, 12)12 - AIC:870.9683012645962\n",
      "ARIMA(0, 2, 4)x(2, 1, 0, 12)12 - AIC:911.5430489887578\n",
      "ARIMA(0, 2, 4)x(2, 1, 1, 12)12 - AIC:900.5489726060357\n",
      "ARIMA(0, 2, 4)x(2, 1, 2, 12)12 - AIC:874.596063263454\n",
      "ARIMA(1, 1, 0)x(0, 1, 0, 12)12 - AIC:1108.1769471695648\n",
      "ARIMA(1, 1, 0)x(0, 1, 1, 12)12 - AIC:972.2623440983456\n",
      "ARIMA(1, 1, 0)x(0, 1, 2, 12)12 - AIC:891.9195811416005\n",
      "ARIMA(1, 1, 0)x(1, 1, 0, 12)12 - AIC:987.0177756734961\n",
      "ARIMA(1, 1, 0)x(1, 1, 1, 12)12 - AIC:974.2305741240796\n",
      "ARIMA(1, 1, 0)x(1, 1, 2, 12)12 - AIC:895.5590481949046\n",
      "ARIMA(1, 1, 0)x(2, 1, 0, 12)12 - AIC:899.9140832128179\n",
      "ARIMA(1, 1, 0)x(2, 1, 1, 12)12 - AIC:899.3753373476443\n",
      "ARIMA(1, 1, 0)x(2, 1, 2, 12)12 - AIC:897.5576944242887\n",
      "ARIMA(1, 1, 1)x(0, 1, 0, 12)12 - AIC:1103.330399012778\n",
      "ARIMA(1, 1, 1)x(0, 1, 1, 12)12 - AIC:967.1343101901185\n",
      "ARIMA(1, 1, 1)x(0, 1, 2, 12)12 - AIC:889.5783770669279\n",
      "ARIMA(1, 1, 1)x(1, 1, 0, 12)12 - AIC:988.953911736871\n",
      "ARIMA(1, 1, 1)x(1, 1, 1, 12)12 - AIC:969.7768486423124\n",
      "ARIMA(1, 1, 1)x(1, 1, 2, 12)12 - AIC:890.9341362311488\n",
      "ARIMA(1, 1, 1)x(2, 1, 0, 12)12 - AIC:901.8940414564972\n",
      "ARIMA(1, 1, 1)x(2, 1, 1, 12)12 - AIC:901.3279035420369\n",
      "ARIMA(1, 1, 1)x(2, 1, 2, 12)12 - AIC:892.929674912859\n",
      "ARIMA(1, 1, 2)x(0, 1, 0, 12)12 - AIC:1098.1880569035502\n",
      "ARIMA(1, 1, 2)x(0, 1, 1, 12)12 - AIC:961.1002328000943\n",
      "ARIMA(1, 1, 2)x(0, 1, 2, 12)12 - AIC:884.9230120502368\n",
      "ARIMA(1, 1, 2)x(1, 1, 0, 12)12 - AIC:988.6393227110955\n",
      "ARIMA(1, 1, 2)x(1, 1, 1, 12)12 - AIC:962.8080762665431\n",
      "ARIMA(1, 1, 2)x(1, 1, 2, 12)12 - AIC:886.1969902705479\n",
      "ARIMA(1, 1, 2)x(2, 1, 0, 12)12 - AIC:902.0129928033957\n",
      "ARIMA(1, 1, 2)x(2, 1, 1, 12)12 - AIC:901.5582322751504\n",
      "ARIMA(1, 1, 2)x(2, 1, 2, 12)12 - AIC:888.1969554317882\n",
      "ARIMA(1, 1, 3)x(0, 1, 0, 12)12 - AIC:1087.594395674434\n",
      "ARIMA(1, 1, 3)x(0, 1, 1, 12)12 - AIC:953.0973305223459\n",
      "ARIMA(1, 1, 3)x(0, 1, 2, 12)12 - AIC:877.4936613434686\n",
      "ARIMA(1, 1, 3)x(1, 1, 0, 12)12 - AIC:987.5855993350617\n",
      "ARIMA(1, 1, 3)x(1, 1, 1, 12)12 - AIC:956.0654897242706\n",
      "ARIMA(1, 1, 3)x(1, 1, 2, 12)12 - AIC:878.0837941783977\n",
      "ARIMA(1, 1, 3)x(2, 1, 0, 12)12 - AIC:900.5959040844068\n",
      "ARIMA(1, 1, 3)x(2, 1, 1, 12)12 - AIC:899.3496154469656\n",
      "ARIMA(1, 1, 3)x(2, 1, 2, 12)12 - AIC:880.083520353015\n",
      "ARIMA(1, 1, 4)x(0, 1, 0, 12)12 - AIC:1078.8457253155555\n",
      "ARIMA(1, 1, 4)x(0, 1, 1, 12)12 - AIC:948.3351802300676\n",
      "ARIMA(1, 1, 4)x(0, 1, 2, 12)12 - AIC:873.2388711202616\n",
      "ARIMA(1, 1, 4)x(1, 1, 0, 12)12 - AIC:989.5708951175653\n",
      "ARIMA(1, 1, 4)x(1, 1, 1, 12)12 - AIC:949.721448476829\n",
      "ARIMA(1, 1, 4)x(1, 1, 2, 12)12 - AIC:874.1349442714303\n",
      "ARIMA(1, 1, 4)x(2, 1, 0, 12)12 - AIC:903.3012973473408\n",
      "ARIMA(1, 1, 4)x(2, 1, 1, 12)12 - AIC:901.613830640481\n",
      "ARIMA(1, 1, 4)x(2, 1, 2, 12)12 - AIC:876.2160567744734\n",
      "ARIMA(1, 2, 0)x(0, 1, 0, 12)12 - AIC:1176.9216726236682\n",
      "ARIMA(1, 2, 0)x(0, 1, 1, 12)12 - AIC:1037.3049855955176\n",
      "ARIMA(1, 2, 0)x(0, 1, 2, 12)12 - AIC:950.4050500653801\n",
      "ARIMA(1, 2, 0)x(1, 1, 0, 12)12 - AIC:1052.544183548111\n",
      "ARIMA(1, 2, 0)x(1, 1, 1, 12)12 - AIC:1039.2894716833591\n",
      "ARIMA(1, 2, 0)x(1, 1, 2, 12)12 - AIC:955.4663547430898\n",
      "ARIMA(1, 2, 0)x(2, 1, 0, 12)12 - AIC:957.2039134278667\n",
      "ARIMA(1, 2, 0)x(2, 1, 1, 12)12 - AIC:956.5469205158449\n",
      "ARIMA(1, 2, 0)x(2, 1, 2, 12)12 - AIC:957.7988041075164\n",
      "ARIMA(1, 2, 1)x(0, 1, 0, 12)12 - AIC:1101.1219776993858\n",
      "ARIMA(1, 2, 1)x(0, 1, 1, 12)12 - AIC:965.7543525371566\n",
      "ARIMA(1, 2, 1)x(0, 1, 2, 12)12 - AIC:885.4655359421502\n",
      "ARIMA(1, 2, 1)x(1, 1, 0, 12)12 - AIC:987.2993434683124\n",
      "ARIMA(1, 2, 1)x(1, 1, 1, 12)12 - AIC:968.7800778375359\n",
      "ARIMA(1, 2, 1)x(1, 1, 2, 12)12 - AIC:888.4779178844577\n",
      "ARIMA(1, 2, 1)x(2, 1, 0, 12)12 - AIC:900.0285454763191\n",
      "ARIMA(1, 2, 1)x(2, 1, 1, 12)12 - AIC:899.8422356524895\n",
      "ARIMA(1, 2, 1)x(2, 1, 2, 12)12 - AIC:890.4786606564755\n",
      "ARIMA(1, 2, 2)x(0, 1, 0, 12)12 - AIC:1096.4174741486022\n",
      "ARIMA(1, 2, 2)x(0, 1, 1, 12)12 - AIC:960.7824607720621\n",
      "ARIMA(1, 2, 2)x(0, 1, 2, 12)12 - AIC:884.5618064044232\n",
      "ARIMA(1, 2, 2)x(1, 1, 0, 12)12 - AIC:989.264602062193\n",
      "ARIMA(1, 2, 2)x(1, 1, 1, 12)12 - AIC:963.3929989015754\n",
      "ARIMA(1, 2, 2)x(1, 1, 2, 12)12 - AIC:883.1757142161282\n",
      "ARIMA(1, 2, 2)x(2, 1, 0, 12)12 - AIC:902.0224114503485\n",
      "ARIMA(1, 2, 2)x(2, 1, 1, 12)12 - AIC:896.1320788640808\n",
      "ARIMA(1, 2, 2)x(2, 1, 2, 12)12 - AIC:889.305043705518\n",
      "ARIMA(1, 2, 3)x(0, 1, 0, 12)12 - AIC:1091.3291005119786\n",
      "ARIMA(1, 2, 3)x(0, 1, 1, 12)12 - AIC:953.8231848175084\n",
      "ARIMA(1, 2, 3)x(0, 1, 2, 12)12 - AIC:878.5542071296863\n",
      "ARIMA(1, 2, 3)x(1, 1, 0, 12)12 - AIC:988.749772797484\n",
      "ARIMA(1, 2, 3)x(1, 1, 1, 12)12 - AIC:955.8222158372681\n",
      "ARIMA(1, 2, 3)x(1, 1, 2, 12)12 - AIC:878.1925971567516\n",
      "ARIMA(1, 2, 3)x(2, 1, 0, 12)12 - AIC:901.8994275808313\n",
      "ARIMA(1, 2, 3)x(2, 1, 1, 12)12 - AIC:901.8935378976712\n",
      "ARIMA(1, 2, 3)x(2, 1, 2, 12)12 - AIC:882.3974406244783\n",
      "ARIMA(1, 2, 4)x(0, 1, 0, 12)12 - AIC:1080.370778750231\n",
      "ARIMA(1, 2, 4)x(0, 1, 1, 12)12 - AIC:946.5546626517015\n",
      "ARIMA(1, 2, 4)x(0, 1, 2, 12)12 - AIC:871.0106891479176\n",
      "ARIMA(1, 2, 4)x(1, 1, 0, 12)12 - AIC:987.6717248013865\n",
      "ARIMA(1, 2, 4)x(1, 1, 1, 12)12 - AIC:948.7643855668326\n",
      "ARIMA(1, 2, 4)x(1, 1, 2, 12)12 - AIC:870.7105692691028\n",
      "ARIMA(1, 2, 4)x(2, 1, 0, 12)12 - AIC:900.500013642449\n",
      "ARIMA(1, 2, 4)x(2, 1, 1, 12)12 - AIC:895.1539288927473\n",
      "ARIMA(1, 2, 4)x(2, 1, 2, 12)12 - AIC:872.7135300276615\n",
      "ARIMA(2, 1, 0)x(0, 1, 0, 12)12 - AIC:1103.240895854\n",
      "ARIMA(2, 1, 0)x(0, 1, 1, 12)12 - AIC:973.9332268765559\n",
      "ARIMA(2, 1, 0)x(0, 1, 2, 12)12 - AIC:893.8358830092288\n",
      "ARIMA(2, 1, 0)x(1, 1, 0, 12)12 - AIC:982.0070487418852\n",
      "ARIMA(2, 1, 0)x(1, 1, 1, 12)12 - AIC:969.5782509841447\n",
      "ARIMA(2, 1, 0)x(1, 1, 2, 12)12 - AIC:897.0210673804274\n",
      "ARIMA(2, 1, 0)x(2, 1, 0, 12)12 - AIC:895.3396837077312\n",
      "ARIMA(2, 1, 0)x(2, 1, 1, 12)12 - AIC:894.1346153535994\n",
      "ARIMA(2, 1, 0)x(2, 1, 2, 12)12 - AIC:893.2769231063365\n",
      "ARIMA(2, 1, 1)x(0, 1, 0, 12)12 - AIC:1100.6017062347669\n",
      "ARIMA(2, 1, 1)x(0, 1, 1, 12)12 - AIC:966.6121215094697\n",
      "ARIMA(2, 1, 1)x(0, 1, 2, 12)12 - AIC:888.0319221487157\n",
      "ARIMA(2, 1, 1)x(1, 1, 0, 12)12 - AIC:981.7766369106648\n",
      "ARIMA(2, 1, 1)x(1, 1, 1, 12)12 - AIC:968.482523653407\n",
      "ARIMA(2, 1, 1)x(1, 1, 2, 12)12 - AIC:890.5558434021352\n",
      "ARIMA(2, 1, 1)x(2, 1, 0, 12)12 - AIC:894.6896937352305\n",
      "ARIMA(2, 1, 1)x(2, 1, 1, 12)12 - AIC:892.6136921433347\n",
      "ARIMA(2, 1, 1)x(2, 1, 2, 12)12 - AIC:893.7386820462907\n",
      "ARIMA(2, 1, 2)x(0, 1, 0, 12)12 - AIC:1089.136248809361\n",
      "ARIMA(2, 1, 2)x(0, 1, 1, 12)12 - AIC:954.2338067547507\n",
      "ARIMA(2, 1, 2)x(0, 1, 2, 12)12 - AIC:876.108407645567\n",
      "ARIMA(2, 1, 2)x(1, 1, 0, 12)12 - AIC:976.5523715649945\n",
      "ARIMA(2, 1, 2)x(1, 1, 1, 12)12 - AIC:955.5723800770643\n",
      "ARIMA(2, 1, 2)x(1, 1, 2, 12)12 - AIC:878.3672481611089\n",
      "ARIMA(2, 1, 2)x(2, 1, 0, 12)12 - AIC:896.2337769476478\n",
      "ARIMA(2, 1, 2)x(2, 1, 1, 12)12 - AIC:890.7553778784909\n",
      "ARIMA(2, 1, 2)x(2, 1, 2, 12)12 - AIC:882.6129052144419\n",
      "ARIMA(2, 1, 3)x(0, 1, 0, 12)12 - AIC:1083.5827861547164\n",
      "ARIMA(2, 1, 3)x(0, 1, 1, 12)12 - AIC:946.493789413857\n",
      "ARIMA(2, 1, 3)x(0, 1, 2, 12)12 - AIC:870.7726294757216\n",
      "ARIMA(2, 1, 3)x(1, 1, 0, 12)12 - AIC:977.7517212547004\n",
      "ARIMA(2, 1, 3)x(1, 1, 1, 12)12 - AIC:948.4446547810974\n",
      "ARIMA(2, 1, 3)x(1, 1, 2, 12)12 - AIC:873.2433055654708\n",
      "ARIMA(2, 1, 3)x(2, 1, 0, 12)12 - AIC:895.1606487435967\n",
      "ARIMA(2, 1, 3)x(2, 1, 1, 12)12 - AIC:884.2261946490944\n",
      "ARIMA(2, 1, 3)x(2, 1, 2, 12)12 - AIC:875.6147559794169\n",
      "ARIMA(2, 1, 4)x(0, 1, 0, 12)12 - AIC:1080.82594289713\n",
      "ARIMA(2, 1, 4)x(0, 1, 1, 12)12 - AIC:943.0878661260904\n",
      "ARIMA(2, 1, 4)x(0, 1, 2, 12)12 - AIC:867.4220978355556\n",
      "ARIMA(2, 1, 4)x(1, 1, 0, 12)12 - AIC:978.8648574641993\n",
      "ARIMA(2, 1, 4)x(1, 1, 1, 12)12 - AIC:944.7389089980647\n",
      "ARIMA(2, 1, 4)x(1, 1, 2, 12)12 - AIC:869.357578893122\n",
      "ARIMA(2, 1, 4)x(2, 1, 0, 12)12 - AIC:895.945516113464\n",
      "ARIMA(2, 1, 4)x(2, 1, 1, 12)12 - AIC:886.1075760703161\n",
      "ARIMA(2, 1, 4)x(2, 1, 2, 12)12 - AIC:871.7531678083018\n",
      "ARIMA(2, 2, 0)x(0, 1, 0, 12)12 - AIC:1133.6133085212377\n",
      "ARIMA(2, 2, 0)x(0, 1, 1, 12)12 - AIC:1002.5978881528163\n",
      "ARIMA(2, 2, 0)x(0, 1, 2, 12)12 - AIC:914.7461712022441\n",
      "ARIMA(2, 2, 0)x(1, 1, 0, 12)12 - AIC:1006.0470277276384\n",
      "ARIMA(2, 2, 0)x(1, 1, 1, 12)12 - AIC:994.9255616337173\n",
      "ARIMA(2, 2, 0)x(1, 1, 2, 12)12 - AIC:920.3829460667544\n",
      "ARIMA(2, 2, 0)x(2, 1, 0, 12)12 - AIC:916.555068510186\n",
      "ARIMA(2, 2, 0)x(2, 1, 1, 12)12 - AIC:911.3365435663825\n",
      "ARIMA(2, 2, 0)x(2, 1, 2, 12)12 - AIC:915.5239054530732\n",
      "ARIMA(2, 2, 1)x(0, 1, 0, 12)12 - AIC:1103.005108271808\n",
      "ARIMA(2, 2, 1)x(0, 1, 1, 12)12 - AIC:967.6052607216706\n",
      "ARIMA(2, 2, 1)x(0, 1, 2, 12)12 - AIC:887.3684487984102\n",
      "ARIMA(2, 2, 1)x(1, 1, 0, 12)12 - AIC:981.8902889538598\n",
      "ARIMA(2, 2, 1)x(1, 1, 1, 12)12 - AIC:969.6047380575667\n",
      "ARIMA(2, 2, 1)x(1, 1, 2, 12)12 - AIC:889.9889598813334\n",
      "ARIMA(2, 2, 1)x(2, 1, 0, 12)12 - AIC:895.6471769202788\n",
      "ARIMA(2, 2, 1)x(2, 1, 1, 12)12 - AIC:895.2709335215748\n",
      "ARIMA(2, 2, 1)x(2, 1, 2, 12)12 - AIC:891.9956541880586\n",
      "ARIMA(2, 2, 2)x(0, 1, 0, 12)12 - AIC:1092.7736938270118\n",
      "ARIMA(2, 2, 2)x(0, 1, 1, 12)12 - AIC:960.0268201189368\n",
      "ARIMA(2, 2, 2)x(0, 1, 2, 12)12 - AIC:881.368563246252\n",
      "ARIMA(2, 2, 2)x(1, 1, 0, 12)12 - AIC:981.3798983362437\n",
      "ARIMA(2, 2, 2)x(1, 1, 1, 12)12 - AIC:962.3818792971358\n",
      "ARIMA(2, 2, 2)x(1, 1, 2, 12)12 - AIC:882.7256023239844\n",
      "ARIMA(2, 2, 2)x(2, 1, 0, 12)12 - AIC:894.5133756839934\n",
      "ARIMA(2, 2, 2)x(2, 1, 1, 12)12 - AIC:893.7971327461557\n",
      "ARIMA(2, 2, 2)x(2, 1, 2, 12)12 - AIC:884.7263309872304\n",
      "ARIMA(2, 2, 3)x(0, 1, 0, 12)12 - AIC:1081.23896194459\n",
      "ARIMA(2, 2, 3)x(0, 1, 1, 12)12 - AIC:947.2723318371162\n",
      "ARIMA(2, 2, 3)x(0, 1, 2, 12)12 - AIC:869.9932338516919\n",
      "ARIMA(2, 2, 3)x(1, 1, 0, 12)12 - AIC:976.3638184644076\n",
      "ARIMA(2, 2, 3)x(1, 1, 1, 12)12 - AIC:951.3933877291865\n",
      "ARIMA(2, 2, 3)x(1, 1, 2, 12)12 - AIC:870.1976028023204\n",
      "ARIMA(2, 2, 3)x(2, 1, 0, 12)12 - AIC:893.2223157946465\n",
      "ARIMA(2, 2, 3)x(2, 1, 1, 12)12 - AIC:893.0199820305716\n",
      "ARIMA(2, 2, 3)x(2, 1, 2, 12)12 - AIC:876.2499096245391\n",
      "ARIMA(2, 2, 4)x(0, 1, 0, 12)12 - AIC:1075.7898198909243\n",
      "ARIMA(2, 2, 4)x(0, 1, 1, 12)12 - AIC:940.2917872874797\n",
      "ARIMA(2, 2, 4)x(0, 1, 2, 12)12 - AIC:865.2521797813571\n",
      "ARIMA(2, 2, 4)x(1, 1, 0, 12)12 - AIC:982.1428920983004\n",
      "ARIMA(2, 2, 4)x(1, 1, 1, 12)12 - AIC:950.9990998556843\n",
      "ARIMA(2, 2, 4)x(1, 1, 2, 12)12 - AIC:871.6546808088011\n",
      "ARIMA(2, 2, 4)x(2, 1, 0, 12)12 - AIC:896.0511206555386\n",
      "ARIMA(2, 2, 4)x(2, 1, 1, 12)12 - AIC:886.7712599192885\n",
      "ARIMA(2, 2, 4)x(2, 1, 2, 12)12 - AIC:875.8053819369735\n",
      "ARIMA(3, 1, 0)x(0, 1, 0, 12)12 - AIC:1096.3802414337354\n",
      "ARIMA(3, 1, 0)x(0, 1, 1, 12)12 - AIC:974.3181251355287\n",
      "ARIMA(3, 1, 0)x(0, 1, 2, 12)12 - AIC:891.8368232286825\n",
      "ARIMA(3, 1, 0)x(1, 1, 0, 12)12 - AIC:973.8012233819948\n",
      "ARIMA(3, 1, 0)x(1, 1, 1, 12)12 - AIC:961.041641757597\n",
      "ARIMA(3, 1, 0)x(1, 1, 2, 12)12 - AIC:897.0541617141487\n",
      "ARIMA(3, 1, 0)x(2, 1, 0, 12)12 - AIC:888.0227491352105\n",
      "ARIMA(3, 1, 0)x(2, 1, 1, 12)12 - AIC:884.6916671039577\n",
      "ARIMA(3, 1, 0)x(2, 1, 2, 12)12 - AIC:886.8995566548048\n",
      "ARIMA(3, 1, 1)x(0, 1, 0, 12)12 - AIC:1098.2460883339631\n",
      "ARIMA(3, 1, 1)x(0, 1, 1, 12)12 - AIC:967.7847081277189\n",
      "ARIMA(3, 1, 1)x(0, 1, 2, 12)12 - AIC:889.2656846399067\n",
      "ARIMA(3, 1, 1)x(1, 1, 0, 12)12 - AIC:975.8012094658276\n",
      "ARIMA(3, 1, 1)x(1, 1, 1, 12)12 - AIC:962.8959742748522\n",
      "ARIMA(3, 1, 1)x(1, 1, 2, 12)12 - AIC:892.9009561273078\n",
      "ARIMA(3, 1, 1)x(2, 1, 0, 12)12 - AIC:890.009373674623\n",
      "ARIMA(3, 1, 1)x(2, 1, 1, 12)12 - AIC:888.592484140581\n",
      "ARIMA(3, 1, 1)x(2, 1, 2, 12)12 - AIC:889.060913071965\n",
      "ARIMA(3, 1, 2)x(0, 1, 0, 12)12 - AIC:1090.626565175889\n",
      "ARIMA(3, 1, 2)x(0, 1, 1, 12)12 - AIC:960.3190359752543\n",
      "ARIMA(3, 1, 2)x(0, 1, 2, 12)12 - AIC:882.4264707469408\n",
      "ARIMA(3, 1, 2)x(1, 1, 0, 12)12 - AIC:977.8567508361544\n",
      "ARIMA(3, 1, 2)x(1, 1, 1, 12)12 - AIC:957.2439518915892\n",
      "ARIMA(3, 1, 2)x(1, 1, 2, 12)12 - AIC:885.9492773255372\n",
      "ARIMA(3, 1, 2)x(2, 1, 0, 12)12 - AIC:891.7370121499403\n",
      "ARIMA(3, 1, 2)x(2, 1, 1, 12)12 - AIC:882.9780479211802\n",
      "ARIMA(3, 1, 2)x(2, 1, 2, 12)12 - AIC:883.2713819779369\n",
      "ARIMA(3, 1, 3)x(0, 1, 0, 12)12 - AIC:1085.2544976377558\n",
      "ARIMA(3, 1, 3)x(0, 1, 1, 12)12 - AIC:948.4165537035199\n",
      "ARIMA(3, 1, 3)x(0, 1, 2, 12)12 - AIC:872.5353678139958\n",
      "ARIMA(3, 1, 3)x(1, 1, 0, 12)12 - AIC:973.0655764387188\n",
      "ARIMA(3, 1, 3)x(1, 1, 1, 12)12 - AIC:950.3201344409755\n",
      "ARIMA(3, 1, 3)x(1, 1, 2, 12)12 - AIC:874.4745945583992\n",
      "ARIMA(3, 1, 3)x(2, 1, 0, 12)12 - AIC:891.6754971899779\n",
      "ARIMA(3, 1, 3)x(2, 1, 1, 12)12 - AIC:880.4942795934271\n",
      "ARIMA(3, 1, 3)x(2, 1, 2, 12)12 - AIC:876.6939550238744\n",
      "ARIMA(3, 1, 4)x(0, 1, 0, 12)12 - AIC:1078.8600557194748\n",
      "ARIMA(3, 1, 4)x(0, 1, 1, 12)12 - AIC:942.8857368846768\n",
      "ARIMA(3, 1, 4)x(0, 1, 2, 12)12 - AIC:867.3764784235516\n",
      "ARIMA(3, 1, 4)x(1, 1, 0, 12)12 - AIC:973.8569686817164\n",
      "ARIMA(3, 1, 4)x(1, 1, 1, 12)12 - AIC:944.8751546332492\n",
      "ARIMA(3, 1, 4)x(1, 1, 2, 12)12 - AIC:869.2696034291492\n",
      "ARIMA(3, 1, 4)x(2, 1, 0, 12)12 - AIC:889.3543511855861\n",
      "ARIMA(3, 1, 4)x(2, 1, 1, 12)12 - AIC:882.3397299599765\n",
      "ARIMA(3, 1, 4)x(2, 1, 2, 12)12 - AIC:873.2028938354188\n",
      "ARIMA(3, 2, 0)x(0, 1, 0, 12)12 - AIC:1122.6285050484116\n",
      "ARIMA(3, 2, 0)x(0, 1, 1, 12)12 - AIC:997.4408144951464\n",
      "ARIMA(3, 2, 0)x(0, 1, 2, 12)12 - AIC:909.7174825159941\n",
      "ARIMA(3, 2, 0)x(1, 1, 0, 12)12 - AIC:992.9916274756383\n",
      "ARIMA(3, 2, 0)x(1, 1, 1, 12)12 - AIC:981.8096002675337\n",
      "ARIMA(3, 2, 0)x(1, 1, 2, 12)12 - AIC:914.6708715786779\n",
      "ARIMA(3, 2, 0)x(2, 1, 0, 12)12 - AIC:905.6468037138399\n",
      "ARIMA(3, 2, 0)x(2, 1, 1, 12)12 - AIC:905.1634884460092\n",
      "ARIMA(3, 2, 0)x(2, 1, 2, 12)12 - AIC:904.6857503888609\n",
      "ARIMA(3, 2, 1)x(0, 1, 0, 12)12 - AIC:1095.9430194615993\n",
      "ARIMA(3, 2, 1)x(0, 1, 1, 12)12 - AIC:966.2900239527906\n",
      "ARIMA(3, 2, 1)x(0, 1, 2, 12)12 - AIC:885.9106734133438\n",
      "ARIMA(3, 2, 1)x(1, 1, 0, 12)12 - AIC:972.1591377146609\n",
      "ARIMA(3, 2, 1)x(1, 1, 1, 12)12 - AIC:960.641500639187\n",
      "ARIMA(3, 2, 1)x(1, 1, 2, 12)12 - AIC:890.0374498557995\n",
      "ARIMA(3, 2, 1)x(2, 1, 0, 12)12 - AIC:887.61053531242\n",
      "ARIMA(3, 2, 1)x(2, 1, 1, 12)12 - AIC:887.2690728044904\n",
      "ARIMA(3, 2, 1)x(2, 1, 2, 12)12 - AIC:885.3986503781086\n",
      "ARIMA(3, 2, 2)x(0, 1, 0, 12)12 - AIC:1094.4242670916026\n",
      "ARIMA(3, 2, 2)x(0, 1, 1, 12)12 - AIC:960.6007971409156\n",
      "ARIMA(3, 2, 2)x(0, 1, 2, 12)12 - AIC:883.1770278340065\n",
      "ARIMA(3, 2, 2)x(1, 1, 0, 12)12 - AIC:975.9358935346406\n",
      "ARIMA(3, 2, 2)x(1, 1, 1, 12)12 - AIC:964.0552889156589\n",
      "ARIMA(3, 2, 2)x(1, 1, 2, 12)12 - AIC:884.7016964324491\n",
      "ARIMA(3, 2, 2)x(2, 1, 0, 12)12 - AIC:888.7717090349129\n",
      "ARIMA(3, 2, 2)x(2, 1, 1, 12)12 - AIC:888.4480894036642\n",
      "ARIMA(3, 2, 2)x(2, 1, 2, 12)12 - AIC:890.0504022340028\n",
      "ARIMA(3, 2, 3)x(0, 1, 0, 12)12 - AIC:1082.6965628927705\n",
      "ARIMA(3, 2, 3)x(0, 1, 1, 12)12 - AIC:946.7373225422155\n",
      "ARIMA(3, 2, 3)x(0, 1, 2, 12)12 - AIC:869.9298788046614\n",
      "ARIMA(3, 2, 3)x(1, 1, 0, 12)12 - AIC:971.1477122097615\n",
      "ARIMA(3, 2, 3)x(1, 1, 1, 12)12 - AIC:956.7272435659056\n",
      "ARIMA(3, 2, 3)x(1, 1, 2, 12)12 - AIC:872.3946121790541\n",
      "ARIMA(3, 2, 3)x(2, 1, 0, 12)12 - AIC:888.4563328037516\n",
      "ARIMA(3, 2, 3)x(2, 1, 1, 12)12 - AIC:878.322599167697\n",
      "ARIMA(3, 2, 3)x(2, 1, 2, 12)12 - AIC:883.0978322495976\n",
      "ARIMA(3, 2, 4)x(0, 1, 0, 12)12 - AIC:1077.6837590530854\n",
      "ARIMA(3, 2, 4)x(0, 1, 1, 12)12 - AIC:942.3130425838183\n",
      "ARIMA(3, 2, 4)x(0, 1, 2, 12)12 - AIC:867.9907761860795\n",
      "ARIMA(3, 2, 4)x(1, 1, 0, 12)12 - AIC:973.0546160876152\n",
      "ARIMA(3, 2, 4)x(1, 1, 1, 12)12 - AIC:947.0643193103317\n",
      "ARIMA(3, 2, 4)x(1, 1, 2, 12)12 - AIC:869.1793069540523\n",
      "ARIMA(3, 2, 4)x(2, 1, 0, 12)12 - AIC:894.2607989689859\n",
      "ARIMA(3, 2, 4)x(2, 1, 1, 12)12 - AIC:889.5108541459365\n",
      "ARIMA(3, 2, 4)x(2, 1, 2, 12)12 - AIC:875.150947183111\n",
      "ARIMA(4, 1, 0)x(0, 1, 0, 12)12 - AIC:1091.8179374581675\n",
      "ARIMA(4, 1, 0)x(0, 1, 1, 12)12 - AIC:975.2425341074181\n",
      "ARIMA(4, 1, 0)x(0, 1, 2, 12)12 - AIC:893.8319655237996\n",
      "ARIMA(4, 1, 0)x(1, 1, 0, 12)12 - AIC:968.6331202509639\n",
      "ARIMA(4, 1, 0)x(1, 1, 1, 12)12 - AIC:957.2586390347367\n",
      "ARIMA(4, 1, 0)x(1, 1, 2, 12)12 - AIC:898.9796759048382\n",
      "ARIMA(4, 1, 0)x(2, 1, 0, 12)12 - AIC:883.3374498846442\n",
      "ARIMA(4, 1, 0)x(2, 1, 1, 12)12 - AIC:882.3627432222688\n",
      "ARIMA(4, 1, 0)x(2, 1, 2, 12)12 - AIC:881.8344271171501\n",
      "ARIMA(4, 1, 1)x(0, 1, 0, 12)12 - AIC:1087.4445353163146\n",
      "ARIMA(4, 1, 1)x(0, 1, 1, 12)12 - AIC:969.4829394028658\n",
      "ARIMA(4, 1, 1)x(0, 1, 2, 12)12 - AIC:888.5688125990752\n",
      "ARIMA(4, 1, 1)x(1, 1, 0, 12)12 - AIC:970.6330413565877\n",
      "ARIMA(4, 1, 1)x(1, 1, 1, 12)12 - AIC:957.0300124812297\n",
      "ARIMA(4, 1, 1)x(1, 1, 2, 12)12 - AIC:894.9041970364327\n",
      "ARIMA(4, 1, 1)x(2, 1, 0, 12)12 - AIC:885.2460092882676\n",
      "ARIMA(4, 1, 1)x(2, 1, 1, 12)12 - AIC:883.9824902034626\n",
      "ARIMA(4, 1, 1)x(2, 1, 2, 12)12 - AIC:883.9549361522901\n",
      "ARIMA(4, 1, 2)x(0, 1, 0, 12)12 - AIC:1093.8017636053837\n",
      "ARIMA(4, 1, 2)x(0, 1, 1, 12)12 - AIC:964.7562292299815\n",
      "ARIMA(4, 1, 2)x(0, 1, 2, 12)12 - AIC:886.3191840078514\n",
      "ARIMA(4, 1, 2)x(1, 1, 0, 12)12 - AIC:972.4369398204278\n",
      "ARIMA(4, 1, 2)x(1, 1, 1, 12)12 - AIC:959.3728969258841\n",
      "ARIMA(4, 1, 2)x(1, 1, 2, 12)12 - AIC:889.791752711233\n",
      "ARIMA(4, 1, 2)x(2, 1, 0, 12)12 - AIC:885.4447891014906\n",
      "ARIMA(4, 1, 2)x(2, 1, 1, 12)12 - AIC:886.1760422071432\n",
      "ARIMA(4, 1, 2)x(2, 1, 2, 12)12 - AIC:885.7792519691097\n",
      "ARIMA(4, 1, 3)x(0, 1, 0, 12)12 - AIC:1085.1343336951738\n",
      "ARIMA(4, 1, 3)x(0, 1, 1, 12)12 - AIC:949.3144859598289\n",
      "ARIMA(4, 1, 3)x(0, 1, 2, 12)12 - AIC:874.0487558241149\n",
      "ARIMA(4, 1, 3)x(1, 1, 0, 12)12 - AIC:967.9591623097945\n",
      "ARIMA(4, 1, 3)x(1, 1, 1, 12)12 - AIC:952.6400247807658\n",
      "ARIMA(4, 1, 3)x(1, 1, 2, 12)12 - AIC:876.4025562731139\n",
      "ARIMA(4, 1, 3)x(2, 1, 0, 12)12 - AIC:880.9909059713567\n",
      "ARIMA(4, 1, 3)x(2, 1, 1, 12)12 - AIC:880.1733792989817\n",
      "ARIMA(4, 1, 3)x(2, 1, 2, 12)12 - AIC:878.2944833191941\n",
      "ARIMA(4, 1, 4)x(0, 1, 0, 12)12 - AIC:1077.2052882193282\n",
      "ARIMA(4, 1, 4)x(0, 1, 1, 12)12 - AIC:947.9600384760998\n",
      "ARIMA(4, 1, 4)x(0, 1, 2, 12)12 - AIC:864.4036621892031\n",
      "ARIMA(4, 1, 4)x(1, 1, 0, 12)12 - AIC:965.8863940281683\n",
      "ARIMA(4, 1, 4)x(1, 1, 1, 12)12 - AIC:950.3167102243035\n",
      "ARIMA(4, 1, 4)x(1, 1, 2, 12)12 - AIC:864.9512360855296\n",
      "ARIMA(4, 1, 4)x(2, 1, 0, 12)12 - AIC:885.6608744884863\n",
      "ARIMA(4, 1, 4)x(2, 1, 1, 12)12 - AIC:878.950627423635\n",
      "ARIMA(4, 1, 4)x(2, 1, 2, 12)12 - AIC:877.1249943948176\n",
      "ARIMA(4, 2, 0)x(0, 1, 0, 12)12 - AIC:1116.5750872567532\n",
      "ARIMA(4, 2, 0)x(0, 1, 1, 12)12 - AIC:995.4034385583973\n",
      "ARIMA(4, 2, 0)x(0, 1, 2, 12)12 - AIC:907.5731203767616\n",
      "ARIMA(4, 2, 0)x(1, 1, 0, 12)12 - AIC:983.9732207785537\n",
      "ARIMA(4, 2, 0)x(1, 1, 1, 12)12 - AIC:973.6570841447698\n",
      "ARIMA(4, 2, 0)x(1, 1, 2, 12)12 - AIC:912.5014976573992\n",
      "ARIMA(4, 2, 0)x(2, 1, 0, 12)12 - AIC:896.6224788871314\n",
      "ARIMA(4, 2, 0)x(2, 1, 1, 12)12 - AIC:896.6186523837779\n",
      "ARIMA(4, 2, 0)x(2, 1, 2, 12)12 - AIC:894.9039694871624\n",
      "ARIMA(4, 2, 1)x(0, 1, 0, 12)12 - AIC:1091.2555293944247\n",
      "ARIMA(4, 2, 1)x(0, 1, 1, 12)12 - AIC:967.7051087271407\n",
      "ARIMA(4, 2, 1)x(0, 1, 2, 12)12 - AIC:887.9089659962308\n",
      "ARIMA(4, 2, 1)x(1, 1, 0, 12)12 - AIC:967.8244520113386\n",
      "ARIMA(4, 2, 1)x(1, 1, 1, 12)12 - AIC:956.0379881761269\n",
      "ARIMA(4, 2, 1)x(1, 1, 2, 12)12 - AIC:891.8957205720062\n",
      "ARIMA(4, 2, 1)x(2, 1, 0, 12)12 - AIC:883.2328312239306\n",
      "ARIMA(4, 2, 1)x(2, 1, 1, 12)12 - AIC:881.149288629931\n",
      "ARIMA(4, 2, 1)x(2, 1, 2, 12)12 - AIC:881.3208730637963\n",
      "ARIMA(4, 2, 2)x(0, 1, 0, 12)12 - AIC:1089.4682458364227\n",
      "ARIMA(4, 2, 2)x(0, 1, 1, 12)12 - AIC:962.1871417186758\n",
      "ARIMA(4, 2, 2)x(0, 1, 2, 12)12 - AIC:883.8241589840387\n",
      "ARIMA(4, 2, 2)x(1, 1, 0, 12)12 - AIC:969.768428289956\n",
      "ARIMA(4, 2, 2)x(1, 1, 1, 12)12 - AIC:957.461121290644\n",
      "ARIMA(4, 2, 2)x(1, 1, 2, 12)12 - AIC:886.0749626073922\n",
      "ARIMA(4, 2, 2)x(2, 1, 0, 12)12 - AIC:882.7409311988072\n",
      "ARIMA(4, 2, 2)x(2, 1, 1, 12)12 - AIC:882.2360899438069\n",
      "ARIMA(4, 2, 2)x(2, 1, 2, 12)12 - AIC:882.8206172809962\n",
      "ARIMA(4, 2, 3)x(0, 1, 0, 12)12 - AIC:1084.6826905871299\n",
      "ARIMA(4, 2, 3)x(0, 1, 1, 12)12 - AIC:948.3375703006642\n",
      "ARIMA(4, 2, 3)x(0, 1, 2, 12)12 - AIC:881.6432769929497\n",
      "ARIMA(4, 2, 3)x(1, 1, 0, 12)12 - AIC:969.9472934285513\n",
      "ARIMA(4, 2, 3)x(1, 1, 1, 12)12 - AIC:952.0752017154994\n",
      "ARIMA(4, 2, 3)x(1, 1, 2, 12)12 - AIC:882.2644594847535\n",
      "ARIMA(4, 2, 3)x(2, 1, 0, 12)12 - AIC:884.6987008940938\n",
      "ARIMA(4, 2, 3)x(2, 1, 1, 12)12 - AIC:880.684488143484\n",
      "ARIMA(4, 2, 3)x(2, 1, 2, 12)12 - AIC:885.3087499124899\n",
      "ARIMA(4, 2, 4)x(0, 1, 0, 12)12 - AIC:1079.7483121216765\n",
      "ARIMA(4, 2, 4)x(0, 1, 1, 12)12 - AIC:944.2068093766941\n",
      "ARIMA(4, 2, 4)x(0, 1, 2, 12)12 - AIC:874.3567234572988\n",
      "ARIMA(4, 2, 4)x(1, 1, 0, 12)12 - AIC:972.4622141738531\n",
      "ARIMA(4, 2, 4)x(1, 1, 1, 12)12 - AIC:955.4023908948757\n",
      "ARIMA(4, 2, 4)x(1, 1, 2, 12)12 - AIC:873.0581581385416\n",
      "ARIMA(4, 2, 4)x(2, 1, 0, 12)12 - AIC:888.8543144974957\n",
      "ARIMA(4, 2, 4)x(2, 1, 1, 12)12 - AIC:881.3304639985461\n",
      "ARIMA(4, 2, 4)x(2, 1, 2, 12)12 - AIC:874.905449124212\n"
     ]
    }
   ],
   "source": [
    "import itertools\n",
    "import warnings\n",
    "\n",
    "# Define the p, d and q parameters to take any value between 0 and 2\n",
    "p = q = range(0, 5) ## experiment with p [0,1,2,3,4,5], q = [0,1,2,3,4,5]\n",
    "d = range(1,3) ## d = [1, 2]\n",
    "\n",
    "# Generate all different combinations of p, q and q triplets\n",
    "pdq = list(itertools.product(p, d, q))\n",
    "\n",
    "# Generate all different combinations of seasonal p, q and q triplets\n",
    "seasonal_pdq = [(x[0], x[1], x[2], 12) for x in list(itertools.product(range(0,3), range(1,2), range(0,3)))]\n",
    "\n",
    "print('Examples of parameter combinations for Seasonal ARIMA...')\n",
    "print('SARIMAX: {} x {}'.format(pdq[1], seasonal_pdq[1]))\n",
    "print('SARIMAX: {} x {}'.format(pdq[1], seasonal_pdq[2]))\n",
    "print('SARIMAX: {} x {}'.format(pdq[2], seasonal_pdq[3]))\n",
    "print('SARIMAX: {} x {}'.format(pdq[2], seasonal_pdq[4]))\n",
    "\n",
    "warnings.filterwarnings(\"ignore\") # specify to ignore warning messages\n",
    "\n",
    "for param in pdq:\n",
    "    for param_seasonal in seasonal_pdq:\n",
    "        try:\n",
    "            mod = sm.tsa.statespace.SARIMAX(df['Milk produced'],\n",
    "                                            order=param,\n",
    "                                            seasonal_order=param_seasonal,\n",
    "                                            enforce_stationarity=False,\n",
    "                                            enforce_invertibility=False)\n",
    "\n",
    "            results = mod.fit()\n",
    "\n",
    "            print('ARIMA{}x{}12 - AIC:{}'.format(param, param_seasonal, results.aic))\n",
    "        except:\n",
    "            continue"
   ]
  },
  {
   "cell_type": "code",
   "execution_count": null,
   "metadata": {
    "colab": {
     "base_uri": "https://localhost:8080/"
    },
    "id": "4_1yWEHVWRMc",
    "outputId": "f740f47f-659d-4188-8950-4c18910df771"
   },
   "outputs": [
    {
     "data": {
      "text/plain": [
       "168"
      ]
     },
     "execution_count": 55,
     "metadata": {},
     "output_type": "execute_result"
    }
   ],
   "source": [
    "len(df['Milk produced'])"
   ]
  },
  {
   "cell_type": "code",
   "execution_count": null,
   "metadata": {
    "colab": {
     "base_uri": "https://localhost:8080/",
     "height": 455
    },
    "id": "_orUlMmxA3HW",
    "outputId": "93d2c53c-be70-4010-91a9-d03e9c1045df"
   },
   "outputs": [
    {
     "data": {
      "text/html": [
       "\n",
       "  <div id=\"df-c844cddc-7a3b-46b5-9634-4e9c13b2dabd\">\n",
       "    <div class=\"colab-df-container\">\n",
       "      <div>\n",
       "<style scoped>\n",
       "    .dataframe tbody tr th:only-of-type {\n",
       "        vertical-align: middle;\n",
       "    }\n",
       "\n",
       "    .dataframe tbody tr th {\n",
       "        vertical-align: top;\n",
       "    }\n",
       "\n",
       "    .dataframe thead th {\n",
       "        text-align: right;\n",
       "    }\n",
       "</style>\n",
       "<table border=\"1\" class=\"dataframe\">\n",
       "  <thead>\n",
       "    <tr style=\"text-align: right;\">\n",
       "      <th></th>\n",
       "      <th>Milk produced</th>\n",
       "      <th>forecast</th>\n",
       "    </tr>\n",
       "    <tr>\n",
       "      <th>Month</th>\n",
       "      <th></th>\n",
       "      <th></th>\n",
       "    </tr>\n",
       "  </thead>\n",
       "  <tbody>\n",
       "    <tr>\n",
       "      <th>1962-01-01</th>\n",
       "      <td>589.0</td>\n",
       "      <td>NaN</td>\n",
       "    </tr>\n",
       "    <tr>\n",
       "      <th>1962-02-01</th>\n",
       "      <td>561.0</td>\n",
       "      <td>NaN</td>\n",
       "    </tr>\n",
       "    <tr>\n",
       "      <th>1962-03-01</th>\n",
       "      <td>640.0</td>\n",
       "      <td>NaN</td>\n",
       "    </tr>\n",
       "    <tr>\n",
       "      <th>1962-04-01</th>\n",
       "      <td>656.0</td>\n",
       "      <td>NaN</td>\n",
       "    </tr>\n",
       "    <tr>\n",
       "      <th>1962-05-01</th>\n",
       "      <td>727.0</td>\n",
       "      <td>NaN</td>\n",
       "    </tr>\n",
       "    <tr>\n",
       "      <th>...</th>\n",
       "      <td>...</td>\n",
       "      <td>...</td>\n",
       "    </tr>\n",
       "    <tr>\n",
       "      <th>1975-08-01</th>\n",
       "      <td>858.0</td>\n",
       "      <td>857.281309</td>\n",
       "    </tr>\n",
       "    <tr>\n",
       "      <th>1975-09-01</th>\n",
       "      <td>817.0</td>\n",
       "      <td>808.394758</td>\n",
       "    </tr>\n",
       "    <tr>\n",
       "      <th>1975-10-01</th>\n",
       "      <td>827.0</td>\n",
       "      <td>810.605945</td>\n",
       "    </tr>\n",
       "    <tr>\n",
       "      <th>1975-11-01</th>\n",
       "      <td>797.0</td>\n",
       "      <td>774.097650</td>\n",
       "    </tr>\n",
       "    <tr>\n",
       "      <th>1975-12-01</th>\n",
       "      <td>843.0</td>\n",
       "      <td>814.081714</td>\n",
       "    </tr>\n",
       "  </tbody>\n",
       "</table>\n",
       "<p>168 rows × 2 columns</p>\n",
       "</div>\n",
       "      <button class=\"colab-df-convert\" onclick=\"convertToInteractive('df-c844cddc-7a3b-46b5-9634-4e9c13b2dabd')\"\n",
       "              title=\"Convert this dataframe to an interactive table.\"\n",
       "              style=\"display:none;\">\n",
       "        \n",
       "  <svg xmlns=\"http://www.w3.org/2000/svg\" height=\"24px\"viewBox=\"0 0 24 24\"\n",
       "       width=\"24px\">\n",
       "    <path d=\"M0 0h24v24H0V0z\" fill=\"none\"/>\n",
       "    <path d=\"M18.56 5.44l.94 2.06.94-2.06 2.06-.94-2.06-.94-.94-2.06-.94 2.06-2.06.94zm-11 1L8.5 8.5l.94-2.06 2.06-.94-2.06-.94L8.5 2.5l-.94 2.06-2.06.94zm10 10l.94 2.06.94-2.06 2.06-.94-2.06-.94-.94-2.06-.94 2.06-2.06.94z\"/><path d=\"M17.41 7.96l-1.37-1.37c-.4-.4-.92-.59-1.43-.59-.52 0-1.04.2-1.43.59L10.3 9.45l-7.72 7.72c-.78.78-.78 2.05 0 2.83L4 21.41c.39.39.9.59 1.41.59.51 0 1.02-.2 1.41-.59l7.78-7.78 2.81-2.81c.8-.78.8-2.07 0-2.86zM5.41 20L4 18.59l7.72-7.72 1.47 1.35L5.41 20z\"/>\n",
       "  </svg>\n",
       "      </button>\n",
       "      \n",
       "  <style>\n",
       "    .colab-df-container {\n",
       "      display:flex;\n",
       "      flex-wrap:wrap;\n",
       "      gap: 12px;\n",
       "    }\n",
       "\n",
       "    .colab-df-convert {\n",
       "      background-color: #E8F0FE;\n",
       "      border: none;\n",
       "      border-radius: 50%;\n",
       "      cursor: pointer;\n",
       "      display: none;\n",
       "      fill: #1967D2;\n",
       "      height: 32px;\n",
       "      padding: 0 0 0 0;\n",
       "      width: 32px;\n",
       "    }\n",
       "\n",
       "    .colab-df-convert:hover {\n",
       "      background-color: #E2EBFA;\n",
       "      box-shadow: 0px 1px 2px rgba(60, 64, 67, 0.3), 0px 1px 3px 1px rgba(60, 64, 67, 0.15);\n",
       "      fill: #174EA6;\n",
       "    }\n",
       "\n",
       "    [theme=dark] .colab-df-convert {\n",
       "      background-color: #3B4455;\n",
       "      fill: #D2E3FC;\n",
       "    }\n",
       "\n",
       "    [theme=dark] .colab-df-convert:hover {\n",
       "      background-color: #434B5C;\n",
       "      box-shadow: 0px 1px 3px 1px rgba(0, 0, 0, 0.15);\n",
       "      filter: drop-shadow(0px 1px 2px rgba(0, 0, 0, 0.3));\n",
       "      fill: #FFFFFF;\n",
       "    }\n",
       "  </style>\n",
       "\n",
       "      <script>\n",
       "        const buttonEl =\n",
       "          document.querySelector('#df-c844cddc-7a3b-46b5-9634-4e9c13b2dabd button.colab-df-convert');\n",
       "        buttonEl.style.display =\n",
       "          google.colab.kernel.accessAllowed ? 'block' : 'none';\n",
       "\n",
       "        async function convertToInteractive(key) {\n",
       "          const element = document.querySelector('#df-c844cddc-7a3b-46b5-9634-4e9c13b2dabd');\n",
       "          const dataTable =\n",
       "            await google.colab.kernel.invokeFunction('convertToInteractive',\n",
       "                                                     [key], {});\n",
       "          if (!dataTable) return;\n",
       "\n",
       "          const docLinkHtml = 'Like what you see? Visit the ' +\n",
       "            '<a target=\"_blank\" href=https://colab.research.google.com/notebooks/data_table.ipynb>data table notebook</a>'\n",
       "            + ' to learn more about interactive tables.';\n",
       "          element.innerHTML = '';\n",
       "          dataTable['output_type'] = 'display_data';\n",
       "          await google.colab.output.renderOutput(dataTable, element);\n",
       "          const docLink = document.createElement('div');\n",
       "          docLink.innerHTML = docLinkHtml;\n",
       "          element.appendChild(docLink);\n",
       "        }\n",
       "      </script>\n",
       "    </div>\n",
       "  </div>\n",
       "  "
      ],
      "text/plain": [
       "            Milk produced    forecast\n",
       "Month                                \n",
       "1962-01-01          589.0         NaN\n",
       "1962-02-01          561.0         NaN\n",
       "1962-03-01          640.0         NaN\n",
       "1962-04-01          656.0         NaN\n",
       "1962-05-01          727.0         NaN\n",
       "...                   ...         ...\n",
       "1975-08-01          858.0  857.281309\n",
       "1975-09-01          817.0  808.394758\n",
       "1975-10-01          827.0  810.605945\n",
       "1975-11-01          797.0  774.097650\n",
       "1975-12-01          843.0  814.081714\n",
       "\n",
       "[168 rows x 2 columns]"
      ]
     },
     "execution_count": 56,
     "metadata": {},
     "output_type": "execute_result"
    }
   ],
   "source": [
    "df"
   ]
  },
  {
   "cell_type": "code",
   "execution_count": null,
   "metadata": {
    "colab": {
     "base_uri": "https://localhost:8080/"
    },
    "id": "-BNakqEdXoUW",
    "outputId": "71ca097a-b560-47c4-865c-33595a4b82c3"
   },
   "outputs": [
    {
     "data": {
      "text/plain": [
       "1972-09-01    813.696890\n",
       "1972-10-01    820.136163\n",
       "1972-11-01    786.736139\n",
       "1972-12-01    825.306337\n",
       "1973-01-01    855.814105\n",
       "1973-02-01    819.315441\n",
       "1973-03-01    914.412100\n",
       "1973-04-01    929.652928\n",
       "1973-05-01    991.751129\n",
       "1973-06-01    964.960377\n",
       "1973-07-01    921.717331\n",
       "Freq: MS, Name: predicted_mean, dtype: float64"
      ]
     },
     "execution_count": 57,
     "metadata": {},
     "output_type": "execute_result"
    }
   ],
   "source": [
    "results.predict(start= 128, end = 138,dynamic = True) ### forecast the value for 118th month using the model"
   ]
  },
  {
   "cell_type": "code",
   "execution_count": null,
   "metadata": {
    "colab": {
     "base_uri": "https://localhost:8080/",
     "height": 515
    },
    "id": "4H8aTW9t_tq0",
    "outputId": "a02a0501-811d-4722-c851-5b63fecd6310"
   },
   "outputs": [
    {
     "data": {
      "text/plain": [
       "<matplotlib.axes._subplots.AxesSubplot at 0x7fba42a3f670>"
      ]
     },
     "execution_count": 24,
     "metadata": {},
     "output_type": "execute_result"
    },
    {
     "data": {
      "image/png": "[encoded data removed]",
      "text/plain": [
       "<Figure size 864x576 with 1 Axes>"
      ]
     },
     "metadata": {},
     "output_type": "display_data"
    }
   ],
   "source": [
    "df['forecast'] = results.predict(start= 158, end = 168,dynamic = True)  \n",
    "df[['Milk produced','forecast']].plot(figsize = (12, 8))"
   ]
  },
  {
   "cell_type": "code",
   "execution_count": null,
   "metadata": {
    "colab": {
     "base_uri": "https://localhost:8080/",
     "height": 237
    },
    "id": "PmQFUVXX3NY3",
    "outputId": "da884370-5687-4c00-cf9b-77a71aa7aee9"
   },
   "outputs": [
    {
     "data": {
      "text/html": [
       "\n",
       "  <div id=\"df-ef677a14-1655-442f-861f-435889e6d37c\">\n",
       "    <div class=\"colab-df-container\">\n",
       "      <div>\n",
       "<style scoped>\n",
       "    .dataframe tbody tr th:only-of-type {\n",
       "        vertical-align: middle;\n",
       "    }\n",
       "\n",
       "    .dataframe tbody tr th {\n",
       "        vertical-align: top;\n",
       "    }\n",
       "\n",
       "    .dataframe thead th {\n",
       "        text-align: right;\n",
       "    }\n",
       "</style>\n",
       "<table border=\"1\" class=\"dataframe\">\n",
       "  <thead>\n",
       "    <tr style=\"text-align: right;\">\n",
       "      <th></th>\n",
       "      <th>Milk produced</th>\n",
       "      <th>forecast</th>\n",
       "    </tr>\n",
       "    <tr>\n",
       "      <th>Month</th>\n",
       "      <th></th>\n",
       "      <th></th>\n",
       "    </tr>\n",
       "  </thead>\n",
       "  <tbody>\n",
       "    <tr>\n",
       "      <th>1975-08-01</th>\n",
       "      <td>858.0</td>\n",
       "      <td>857.075366</td>\n",
       "    </tr>\n",
       "    <tr>\n",
       "      <th>1975-09-01</th>\n",
       "      <td>817.0</td>\n",
       "      <td>808.168621</td>\n",
       "    </tr>\n",
       "    <tr>\n",
       "      <th>1975-10-01</th>\n",
       "      <td>827.0</td>\n",
       "      <td>810.368969</td>\n",
       "    </tr>\n",
       "    <tr>\n",
       "      <th>1975-11-01</th>\n",
       "      <td>797.0</td>\n",
       "      <td>773.849742</td>\n",
       "    </tr>\n",
       "    <tr>\n",
       "      <th>1975-12-01</th>\n",
       "      <td>843.0</td>\n",
       "      <td>813.837229</td>\n",
       "    </tr>\n",
       "  </tbody>\n",
       "</table>\n",
       "</div>\n",
       "      <button class=\"colab-df-convert\" onclick=\"convertToInteractive('df-ef677a14-1655-442f-861f-435889e6d37c')\"\n",
       "              title=\"Convert this dataframe to an interactive table.\"\n",
       "              style=\"display:none;\">\n",
       "        \n",
       "  <svg xmlns=\"http://www.w3.org/2000/svg\" height=\"24px\"viewBox=\"0 0 24 24\"\n",
       "       width=\"24px\">\n",
       "    <path d=\"M0 0h24v24H0V0z\" fill=\"none\"/>\n",
       "    <path d=\"M18.56 5.44l.94 2.06.94-2.06 2.06-.94-2.06-.94-.94-2.06-.94 2.06-2.06.94zm-11 1L8.5 8.5l.94-2.06 2.06-.94-2.06-.94L8.5 2.5l-.94 2.06-2.06.94zm10 10l.94 2.06.94-2.06 2.06-.94-2.06-.94-.94-2.06-.94 2.06-2.06.94z\"/><path d=\"M17.41 7.96l-1.37-1.37c-.4-.4-.92-.59-1.43-.59-.52 0-1.04.2-1.43.59L10.3 9.45l-7.72 7.72c-.78.78-.78 2.05 0 2.83L4 21.41c.39.39.9.59 1.41.59.51 0 1.02-.2 1.41-.59l7.78-7.78 2.81-2.81c.8-.78.8-2.07 0-2.86zM5.41 20L4 18.59l7.72-7.72 1.47 1.35L5.41 20z\"/>\n",
       "  </svg>\n",
       "      </button>\n",
       "      \n",
       "  <style>\n",
       "    .colab-df-container {\n",
       "      display:flex;\n",
       "      flex-wrap:wrap;\n",
       "      gap: 12px;\n",
       "    }\n",
       "\n",
       "    .colab-df-convert {\n",
       "      background-color: #E8F0FE;\n",
       "      border: none;\n",
       "      border-radius: 50%;\n",
       "      cursor: pointer;\n",
       "      display: none;\n",
       "      fill: #1967D2;\n",
       "      height: 32px;\n",
       "      padding: 0 0 0 0;\n",
       "      width: 32px;\n",
       "    }\n",
       "\n",
       "    .colab-df-convert:hover {\n",
       "      background-color: #E2EBFA;\n",
       "      box-shadow: 0px 1px 2px rgba(60, 64, 67, 0.3), 0px 1px 3px 1px rgba(60, 64, 67, 0.15);\n",
       "      fill: #174EA6;\n",
       "    }\n",
       "\n",
       "    [theme=dark] .colab-df-convert {\n",
       "      background-color: #3B4455;\n",
       "      fill: #D2E3FC;\n",
       "    }\n",
       "\n",
       "    [theme=dark] .colab-df-convert:hover {\n",
       "      background-color: #434B5C;\n",
       "      box-shadow: 0px 1px 3px 1px rgba(0, 0, 0, 0.15);\n",
       "      filter: drop-shadow(0px 1px 2px rgba(0, 0, 0, 0.3));\n",
       "      fill: #FFFFFF;\n",
       "    }\n",
       "  </style>\n",
       "\n",
       "      <script>\n",
       "        const buttonEl =\n",
       "          document.querySelector('#df-ef677a14-1655-442f-861f-435889e6d37c button.colab-df-convert');\n",
       "        buttonEl.style.display =\n",
       "          google.colab.kernel.accessAllowed ? 'block' : 'none';\n",
       "\n",
       "        async function convertToInteractive(key) {\n",
       "          const element = document.querySelector('#df-ef677a14-1655-442f-861f-435889e6d37c');\n",
       "          const dataTable =\n",
       "            await google.colab.kernel.invokeFunction('convertToInteractive',\n",
       "                                                     [key], {});\n",
       "          if (!dataTable) return;\n",
       "\n",
       "          const docLinkHtml = 'Like what you see? Visit the ' +\n",
       "            '<a target=\"_blank\" href=https://colab.research.google.com/notebooks/data_table.ipynb>data table notebook</a>'\n",
       "            + ' to learn more about interactive tables.';\n",
       "          element.innerHTML = '';\n",
       "          dataTable['output_type'] = 'display_data';\n",
       "          await google.colab.output.renderOutput(dataTable, element);\n",
       "          const docLink = document.createElement('div');\n",
       "          docLink.innerHTML = docLinkHtml;\n",
       "          element.appendChild(docLink);\n",
       "        }\n",
       "      </script>\n",
       "    </div>\n",
       "  </div>\n",
       "  "
      ],
      "text/plain": [
       "            Milk produced    forecast\n",
       "Month                                \n",
       "1975-08-01          858.0  857.075366\n",
       "1975-09-01          817.0  808.168621\n",
       "1975-10-01          827.0  810.368969\n",
       "1975-11-01          797.0  773.849742\n",
       "1975-12-01          843.0  813.837229"
      ]
     },
     "execution_count": 59,
     "metadata": {},
     "output_type": "execute_result"
    }
   ],
   "source": [
    "df.tail()"
   ]
  },
  {
   "cell_type": "code",
   "execution_count": null,
   "metadata": {
    "colab": {
     "base_uri": "https://localhost:8080/"
    },
    "id": "yV0wPWi13EGt",
    "outputId": "b2736bba-65f2-4f07-dd73-e72d472a0795"
   },
   "outputs": [
    {
     "data": {
      "text/plain": [
       "1976-01-01     865.349739\n",
       "1976-02-01     818.387706\n",
       "1976-03-01     925.019489\n",
       "1976-04-01     938.096591\n",
       "1976-05-01    1001.238546\n",
       "1976-06-01     973.830260\n",
       "1976-07-01     932.477681\n",
       "1976-08-01     892.889158\n",
       "1976-09-01     846.994443\n",
       "1976-10-01     852.166204\n",
       "1976-11-01     818.130555\n",
       "1976-12-01     860.408590\n",
       "1977-01-01     883.596821\n",
       "Freq: MS, Name: predicted_mean, dtype: float64"
      ]
     },
     "execution_count": 60,
     "metadata": {},
     "output_type": "execute_result"
    }
   ],
   "source": [
    "results.predict(start= 168, end = 180,dynamic = True)"
   ]
  },
  {
   "cell_type": "code",
   "execution_count": null,
   "metadata": {
    "id": "uYGY54Gn_tq1"
   },
   "outputs": [],
   "source": [
    "from pandas.tseries.offsets import DateOffset"
   ]
  },
  {
   "cell_type": "markdown",
   "metadata": {
    "id": "yP0E2-kW3jc-"
   },
   "source": []
  },
  {
   "cell_type": "code",
   "execution_count": null,
   "metadata": {
    "id": "tYZoN4Km_tq1"
   },
   "outputs": [],
   "source": [
    "future_dates = [df.index[-1] + DateOffset(months = x) for x in range(0,14)]"
   ]
  },
  {
   "cell_type": "code",
   "execution_count": null,
   "metadata": {
    "colab": {
     "base_uri": "https://localhost:8080/"
    },
    "id": "4bvQoBvE_tq1",
    "outputId": "67fcfc71-3698-4951-d817-4a4817b2767c"
   },
   "outputs": [
    {
     "data": {
      "text/plain": [
       "[Timestamp('1975-12-01 00:00:00'),\n",
       " Timestamp('1976-01-01 00:00:00'),\n",
       " Timestamp('1976-02-01 00:00:00'),\n",
       " Timestamp('1976-03-01 00:00:00'),\n",
       " Timestamp('1976-04-01 00:00:00'),\n",
       " Timestamp('1976-05-01 00:00:00'),\n",
       " Timestamp('1976-06-01 00:00:00'),\n",
       " Timestamp('1976-07-01 00:00:00'),\n",
       " Timestamp('1976-08-01 00:00:00'),\n",
       " Timestamp('1976-09-01 00:00:00'),\n",
       " Timestamp('1976-10-01 00:00:00'),\n",
       " Timestamp('1976-11-01 00:00:00'),\n",
       " Timestamp('1976-12-01 00:00:00'),\n",
       " Timestamp('1977-01-01 00:00:00')]"
      ]
     },
     "execution_count": 63,
     "metadata": {},
     "output_type": "execute_result"
    }
   ],
   "source": [
    "future_dates"
   ]
  },
  {
   "cell_type": "code",
   "execution_count": null,
   "metadata": {
    "id": "Zpp4hHe1_tq1"
   },
   "outputs": [],
   "source": [
    "future_dates_df = pd.DataFrame(index = future_dates[1:],columns = df.columns)"
   ]
  },
  {
   "cell_type": "code",
   "execution_count": null,
   "metadata": {
    "id": "ICGkRXhV_tq1"
   },
   "outputs": [],
   "source": [
    "future_df = pd.concat([df,future_dates_df])"
   ]
  },
  {
   "cell_type": "code",
   "execution_count": null,
   "metadata": {
    "colab": {
     "base_uri": "https://localhost:8080/",
     "height": 676
    },
    "id": "_GsJCn1e_tq2",
    "outputId": "54c2d000-4177-4879-f61a-486d4e74e69d"
   },
   "outputs": [
    {
     "data": {
      "text/html": [
       "\n",
       "  <div id=\"df-67320993-e31b-44f8-868b-a5fd415d3186\">\n",
       "    <div class=\"colab-df-container\">\n",
       "      <div>\n",
       "<style scoped>\n",
       "    .dataframe tbody tr th:only-of-type {\n",
       "        vertical-align: middle;\n",
       "    }\n",
       "\n",
       "    .dataframe tbody tr th {\n",
       "        vertical-align: top;\n",
       "    }\n",
       "\n",
       "    .dataframe thead th {\n",
       "        text-align: right;\n",
       "    }\n",
       "</style>\n",
       "<table border=\"1\" class=\"dataframe\">\n",
       "  <thead>\n",
       "    <tr style=\"text-align: right;\">\n",
       "      <th></th>\n",
       "      <th>Milk produced</th>\n",
       "      <th>forecast</th>\n",
       "    </tr>\n",
       "  </thead>\n",
       "  <tbody>\n",
       "    <tr>\n",
       "      <th>1975-06-01</th>\n",
       "      <td>937.0</td>\n",
       "      <td>939.207388</td>\n",
       "    </tr>\n",
       "    <tr>\n",
       "      <th>1975-07-01</th>\n",
       "      <td>896.0</td>\n",
       "      <td>897.642551</td>\n",
       "    </tr>\n",
       "    <tr>\n",
       "      <th>1975-08-01</th>\n",
       "      <td>858.0</td>\n",
       "      <td>857.075366</td>\n",
       "    </tr>\n",
       "    <tr>\n",
       "      <th>1975-09-01</th>\n",
       "      <td>817.0</td>\n",
       "      <td>808.168621</td>\n",
       "    </tr>\n",
       "    <tr>\n",
       "      <th>1975-10-01</th>\n",
       "      <td>827.0</td>\n",
       "      <td>810.368969</td>\n",
       "    </tr>\n",
       "    <tr>\n",
       "      <th>1975-11-01</th>\n",
       "      <td>797.0</td>\n",
       "      <td>773.849742</td>\n",
       "    </tr>\n",
       "    <tr>\n",
       "      <th>1975-12-01</th>\n",
       "      <td>843.0</td>\n",
       "      <td>813.837229</td>\n",
       "    </tr>\n",
       "    <tr>\n",
       "      <th>1976-01-01</th>\n",
       "      <td>NaN</td>\n",
       "      <td>NaN</td>\n",
       "    </tr>\n",
       "    <tr>\n",
       "      <th>1976-02-01</th>\n",
       "      <td>NaN</td>\n",
       "      <td>NaN</td>\n",
       "    </tr>\n",
       "    <tr>\n",
       "      <th>1976-03-01</th>\n",
       "      <td>NaN</td>\n",
       "      <td>NaN</td>\n",
       "    </tr>\n",
       "    <tr>\n",
       "      <th>1976-04-01</th>\n",
       "      <td>NaN</td>\n",
       "      <td>NaN</td>\n",
       "    </tr>\n",
       "    <tr>\n",
       "      <th>1976-05-01</th>\n",
       "      <td>NaN</td>\n",
       "      <td>NaN</td>\n",
       "    </tr>\n",
       "    <tr>\n",
       "      <th>1976-06-01</th>\n",
       "      <td>NaN</td>\n",
       "      <td>NaN</td>\n",
       "    </tr>\n",
       "    <tr>\n",
       "      <th>1976-07-01</th>\n",
       "      <td>NaN</td>\n",
       "      <td>NaN</td>\n",
       "    </tr>\n",
       "    <tr>\n",
       "      <th>1976-08-01</th>\n",
       "      <td>NaN</td>\n",
       "      <td>NaN</td>\n",
       "    </tr>\n",
       "    <tr>\n",
       "      <th>1976-09-01</th>\n",
       "      <td>NaN</td>\n",
       "      <td>NaN</td>\n",
       "    </tr>\n",
       "    <tr>\n",
       "      <th>1976-10-01</th>\n",
       "      <td>NaN</td>\n",
       "      <td>NaN</td>\n",
       "    </tr>\n",
       "    <tr>\n",
       "      <th>1976-11-01</th>\n",
       "      <td>NaN</td>\n",
       "      <td>NaN</td>\n",
       "    </tr>\n",
       "    <tr>\n",
       "      <th>1976-12-01</th>\n",
       "      <td>NaN</td>\n",
       "      <td>NaN</td>\n",
       "    </tr>\n",
       "    <tr>\n",
       "      <th>1977-01-01</th>\n",
       "      <td>NaN</td>\n",
       "      <td>NaN</td>\n",
       "    </tr>\n",
       "  </tbody>\n",
       "</table>\n",
       "</div>\n",
       "      <button class=\"colab-df-convert\" onclick=\"convertToInteractive('df-67320993-e31b-44f8-868b-a5fd415d3186')\"\n",
       "              title=\"Convert this dataframe to an interactive table.\"\n",
       "              style=\"display:none;\">\n",
       "        \n",
       "  <svg xmlns=\"http://www.w3.org/2000/svg\" height=\"24px\"viewBox=\"0 0 24 24\"\n",
       "       width=\"24px\">\n",
       "    <path d=\"M0 0h24v24H0V0z\" fill=\"none\"/>\n",
       "    <path d=\"M18.56 5.44l.94 2.06.94-2.06 2.06-.94-2.06-.94-.94-2.06-.94 2.06-2.06.94zm-11 1L8.5 8.5l.94-2.06 2.06-.94-2.06-.94L8.5 2.5l-.94 2.06-2.06.94zm10 10l.94 2.06.94-2.06 2.06-.94-2.06-.94-.94-2.06-.94 2.06-2.06.94z\"/><path d=\"M17.41 7.96l-1.37-1.37c-.4-.4-.92-.59-1.43-.59-.52 0-1.04.2-1.43.59L10.3 9.45l-7.72 7.72c-.78.78-.78 2.05 0 2.83L4 21.41c.39.39.9.59 1.41.59.51 0 1.02-.2 1.41-.59l7.78-7.78 2.81-2.81c.8-.78.8-2.07 0-2.86zM5.41 20L4 18.59l7.72-7.72 1.47 1.35L5.41 20z\"/>\n",
       "  </svg>\n",
       "      </button>\n",
       "      \n",
       "  <style>\n",
       "    .colab-df-container {\n",
       "      display:flex;\n",
       "      flex-wrap:wrap;\n",
       "      gap: 12px;\n",
       "    }\n",
       "\n",
       "    .colab-df-convert {\n",
       "      background-color: #E8F0FE;\n",
       "      border: none;\n",
       "      border-radius: 50%;\n",
       "      cursor: pointer;\n",
       "      display: none;\n",
       "      fill: #1967D2;\n",
       "      height: 32px;\n",
       "      padding: 0 0 0 0;\n",
       "      width: 32px;\n",
       "    }\n",
       "\n",
       "    .colab-df-convert:hover {\n",
       "      background-color: #E2EBFA;\n",
       "      box-shadow: 0px 1px 2px rgba(60, 64, 67, 0.3), 0px 1px 3px 1px rgba(60, 64, 67, 0.15);\n",
       "      fill: #174EA6;\n",
       "    }\n",
       "\n",
       "    [theme=dark] .colab-df-convert {\n",
       "      background-color: #3B4455;\n",
       "      fill: #D2E3FC;\n",
       "    }\n",
       "\n",
       "    [theme=dark] .colab-df-convert:hover {\n",
       "      background-color: #434B5C;\n",
       "      box-shadow: 0px 1px 3px 1px rgba(0, 0, 0, 0.15);\n",
       "      filter: drop-shadow(0px 1px 2px rgba(0, 0, 0, 0.3));\n",
       "      fill: #FFFFFF;\n",
       "    }\n",
       "  </style>\n",
       "\n",
       "      <script>\n",
       "        const buttonEl =\n",
       "          document.querySelector('#df-67320993-e31b-44f8-868b-a5fd415d3186 button.colab-df-convert');\n",
       "        buttonEl.style.display =\n",
       "          google.colab.kernel.accessAllowed ? 'block' : 'none';\n",
       "\n",
       "        async function convertToInteractive(key) {\n",
       "          const element = document.querySelector('#df-67320993-e31b-44f8-868b-a5fd415d3186');\n",
       "          const dataTable =\n",
       "            await google.colab.kernel.invokeFunction('convertToInteractive',\n",
       "                                                     [key], {});\n",
       "          if (!dataTable) return;\n",
       "\n",
       "          const docLinkHtml = 'Like what you see? Visit the ' +\n",
       "            '<a target=\"_blank\" href=https://colab.research.google.com/notebooks/data_table.ipynb>data table notebook</a>'\n",
       "            + ' to learn more about interactive tables.';\n",
       "          element.innerHTML = '';\n",
       "          dataTable['output_type'] = 'display_data';\n",
       "          await google.colab.output.renderOutput(dataTable, element);\n",
       "          const docLink = document.createElement('div');\n",
       "          docLink.innerHTML = docLinkHtml;\n",
       "          element.appendChild(docLink);\n",
       "        }\n",
       "      </script>\n",
       "    </div>\n",
       "  </div>\n",
       "  "
      ],
      "text/plain": [
       "            Milk produced    forecast\n",
       "1975-06-01          937.0  939.207388\n",
       "1975-07-01          896.0  897.642551\n",
       "1975-08-01          858.0  857.075366\n",
       "1975-09-01          817.0  808.168621\n",
       "1975-10-01          827.0  810.368969\n",
       "1975-11-01          797.0  773.849742\n",
       "1975-12-01          843.0  813.837229\n",
       "1976-01-01            NaN         NaN\n",
       "1976-02-01            NaN         NaN\n",
       "1976-03-01            NaN         NaN\n",
       "1976-04-01            NaN         NaN\n",
       "1976-05-01            NaN         NaN\n",
       "1976-06-01            NaN         NaN\n",
       "1976-07-01            NaN         NaN\n",
       "1976-08-01            NaN         NaN\n",
       "1976-09-01            NaN         NaN\n",
       "1976-10-01            NaN         NaN\n",
       "1976-11-01            NaN         NaN\n",
       "1976-12-01            NaN         NaN\n",
       "1977-01-01            NaN         NaN"
      ]
     },
     "execution_count": 66,
     "metadata": {},
     "output_type": "execute_result"
    }
   ],
   "source": [
    "future_df.tail(20)"
   ]
  },
  {
   "cell_type": "code",
   "execution_count": null,
   "metadata": {
    "colab": {
     "base_uri": "https://localhost:8080/",
     "height": 206
    },
    "id": "u2Gonyiq_tq2",
    "outputId": "0e9aedb6-9342-4abc-e8d4-03bcb5ecc38f"
   },
   "outputs": [
    {
     "data": {
      "text/html": [
       "\n",
       "  <div id=\"df-0d24f898-5bed-4567-a00d-923252339c62\">\n",
       "    <div class=\"colab-df-container\">\n",
       "      <div>\n",
       "<style scoped>\n",
       "    .dataframe tbody tr th:only-of-type {\n",
       "        vertical-align: middle;\n",
       "    }\n",
       "\n",
       "    .dataframe tbody tr th {\n",
       "        vertical-align: top;\n",
       "    }\n",
       "\n",
       "    .dataframe thead th {\n",
       "        text-align: right;\n",
       "    }\n",
       "</style>\n",
       "<table border=\"1\" class=\"dataframe\">\n",
       "  <thead>\n",
       "    <tr style=\"text-align: right;\">\n",
       "      <th></th>\n",
       "      <th>Milk produced</th>\n",
       "      <th>forecast</th>\n",
       "    </tr>\n",
       "  </thead>\n",
       "  <tbody>\n",
       "    <tr>\n",
       "      <th>1976-09-01</th>\n",
       "      <td>NaN</td>\n",
       "      <td>NaN</td>\n",
       "    </tr>\n",
       "    <tr>\n",
       "      <th>1976-10-01</th>\n",
       "      <td>NaN</td>\n",
       "      <td>NaN</td>\n",
       "    </tr>\n",
       "    <tr>\n",
       "      <th>1976-11-01</th>\n",
       "      <td>NaN</td>\n",
       "      <td>NaN</td>\n",
       "    </tr>\n",
       "    <tr>\n",
       "      <th>1976-12-01</th>\n",
       "      <td>NaN</td>\n",
       "      <td>NaN</td>\n",
       "    </tr>\n",
       "    <tr>\n",
       "      <th>1977-01-01</th>\n",
       "      <td>NaN</td>\n",
       "      <td>NaN</td>\n",
       "    </tr>\n",
       "  </tbody>\n",
       "</table>\n",
       "</div>\n",
       "      <button class=\"colab-df-convert\" onclick=\"convertToInteractive('df-0d24f898-5bed-4567-a00d-923252339c62')\"\n",
       "              title=\"Convert this dataframe to an interactive table.\"\n",
       "              style=\"display:none;\">\n",
       "        \n",
       "  <svg xmlns=\"http://www.w3.org/2000/svg\" height=\"24px\"viewBox=\"0 0 24 24\"\n",
       "       width=\"24px\">\n",
       "    <path d=\"M0 0h24v24H0V0z\" fill=\"none\"/>\n",
       "    <path d=\"M18.56 5.44l.94 2.06.94-2.06 2.06-.94-2.06-.94-.94-2.06-.94 2.06-2.06.94zm-11 1L8.5 8.5l.94-2.06 2.06-.94-2.06-.94L8.5 2.5l-.94 2.06-2.06.94zm10 10l.94 2.06.94-2.06 2.06-.94-2.06-.94-.94-2.06-.94 2.06-2.06.94z\"/><path d=\"M17.41 7.96l-1.37-1.37c-.4-.4-.92-.59-1.43-.59-.52 0-1.04.2-1.43.59L10.3 9.45l-7.72 7.72c-.78.78-.78 2.05 0 2.83L4 21.41c.39.39.9.59 1.41.59.51 0 1.02-.2 1.41-.59l7.78-7.78 2.81-2.81c.8-.78.8-2.07 0-2.86zM5.41 20L4 18.59l7.72-7.72 1.47 1.35L5.41 20z\"/>\n",
       "  </svg>\n",
       "      </button>\n",
       "      \n",
       "  <style>\n",
       "    .colab-df-container {\n",
       "      display:flex;\n",
       "      flex-wrap:wrap;\n",
       "      gap: 12px;\n",
       "    }\n",
       "\n",
       "    .colab-df-convert {\n",
       "      background-color: #E8F0FE;\n",
       "      border: none;\n",
       "      border-radius: 50%;\n",
       "      cursor: pointer;\n",
       "      display: none;\n",
       "      fill: #1967D2;\n",
       "      height: 32px;\n",
       "      padding: 0 0 0 0;\n",
       "      width: 32px;\n",
       "    }\n",
       "\n",
       "    .colab-df-convert:hover {\n",
       "      background-color: #E2EBFA;\n",
       "      box-shadow: 0px 1px 2px rgba(60, 64, 67, 0.3), 0px 1px 3px 1px rgba(60, 64, 67, 0.15);\n",
       "      fill: #174EA6;\n",
       "    }\n",
       "\n",
       "    [theme=dark] .colab-df-convert {\n",
       "      background-color: #3B4455;\n",
       "      fill: #D2E3FC;\n",
       "    }\n",
       "\n",
       "    [theme=dark] .colab-df-convert:hover {\n",
       "      background-color: #434B5C;\n",
       "      box-shadow: 0px 1px 3px 1px rgba(0, 0, 0, 0.15);\n",
       "      filter: drop-shadow(0px 1px 2px rgba(0, 0, 0, 0.3));\n",
       "      fill: #FFFFFF;\n",
       "    }\n",
       "  </style>\n",
       "\n",
       "      <script>\n",
       "        const buttonEl =\n",
       "          document.querySelector('#df-0d24f898-5bed-4567-a00d-923252339c62 button.colab-df-convert');\n",
       "        buttonEl.style.display =\n",
       "          google.colab.kernel.accessAllowed ? 'block' : 'none';\n",
       "\n",
       "        async function convertToInteractive(key) {\n",
       "          const element = document.querySelector('#df-0d24f898-5bed-4567-a00d-923252339c62');\n",
       "          const dataTable =\n",
       "            await google.colab.kernel.invokeFunction('convertToInteractive',\n",
       "                                                     [key], {});\n",
       "          if (!dataTable) return;\n",
       "\n",
       "          const docLinkHtml = 'Like what you see? Visit the ' +\n",
       "            '<a target=\"_blank\" href=https://colab.research.google.com/notebooks/data_table.ipynb>data table notebook</a>'\n",
       "            + ' to learn more about interactive tables.';\n",
       "          element.innerHTML = '';\n",
       "          dataTable['output_type'] = 'display_data';\n",
       "          await google.colab.output.renderOutput(dataTable, element);\n",
       "          const docLink = document.createElement('div');\n",
       "          docLink.innerHTML = docLinkHtml;\n",
       "          element.appendChild(docLink);\n",
       "        }\n",
       "      </script>\n",
       "    </div>\n",
       "  </div>\n",
       "  "
      ],
      "text/plain": [
       "            Milk produced  forecast\n",
       "1976-09-01            NaN       NaN\n",
       "1976-10-01            NaN       NaN\n",
       "1976-11-01            NaN       NaN\n",
       "1976-12-01            NaN       NaN\n",
       "1977-01-01            NaN       NaN"
      ]
     },
     "execution_count": 67,
     "metadata": {},
     "output_type": "execute_result"
    }
   ],
   "source": [
    "future_df.tail()"
   ]
  },
  {
   "cell_type": "code",
   "execution_count": null,
   "metadata": {
    "colab": {
     "base_uri": "https://localhost:8080/",
     "height": 501
    },
    "id": "p9uwytmu_tq2",
    "outputId": "4dd569ab-1f91-4f67-af53-d960bcaab885"
   },
   "outputs": [
    {
     "data": {
      "text/plain": [
       "<matplotlib.axes._subplots.AxesSubplot at 0x7f7a5147c090>"
      ]
     },
     "execution_count": 68,
     "metadata": {},
     "output_type": "execute_result"
    },
    {
     "data": {
      "image/png": "[encoded data removed]",
      "text/plain": [
       "<Figure size 864x576 with 1 Axes>"
      ]
     },
     "metadata": {},
     "output_type": "display_data"
    }
   ],
   "source": [
    "future_df['forecast'] = results.predict(start = 168, end = 180,dynamic= True)  \n",
    "future_df[['Milk produced', 'forecast']].plot(figsize = (12, 8)) "
   ]
  },
  {
   "cell_type": "code",
   "execution_count": null,
   "metadata": {
    "id": "7S2QJQZC39mX"
   },
   "outputs": [],
   "source": []
  }
 ],
 "metadata": {
  "colab": {
   "provenance": []
  },
  "kernelspec": {
   "display_name": "Python 3",
   "language": "python",
   "name": "python3"
  },
  "language_info": {
   "codemirror_mode": {
    "name": "ipython",
    "version": 3
   },
   "file_extension": ".py",
   "mimetype": "text/x-python",
   "name": "python",
   "nbconvert_exporter": "python",
   "pygments_lexer": "ipython3",
   "version": "3.6.8"
  }
 },
 "nbformat": 4,
 "nbformat_minor": 0
}

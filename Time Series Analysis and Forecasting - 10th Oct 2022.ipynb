{
 "cells": [
  {
   "cell_type": "code",
   "execution_count": 1,
   "id": "41346315",
   "metadata": {},
   "outputs": [],
   "source": [
    "import os\n",
    "import numpy as np\n",
    "import pandas as pd\n",
    "import matplotlib.pyplot as plt\n",
    "import seaborn as sns\n",
    "sns.set()\n",
    "%matplotlib inline\n",
    "\n",
    "import warnings\n",
    "warnings.filterwarnings('ignore')\n",
    "\n",
    "from scipy import stats\n",
    "import statsmodels.api as sm"
   ]
  },
  {
   "cell_type": "code",
   "execution_count": 2,
   "id": "dc507e27",
   "metadata": {},
   "outputs": [
    {
     "data": {
      "text/html": [
       "<div>\n",
       "<style scoped>\n",
       "    .dataframe tbody tr th:only-of-type {\n",
       "        vertical-align: middle;\n",
       "    }\n",
       "\n",
       "    .dataframe tbody tr th {\n",
       "        vertical-align: top;\n",
       "    }\n",
       "\n",
       "    .dataframe thead th {\n",
       "        text-align: right;\n",
       "    }\n",
       "</style>\n",
       "<table border=\"1\" class=\"dataframe\">\n",
       "  <thead>\n",
       "    <tr style=\"text-align: right;\">\n",
       "      <th></th>\n",
       "      <th>Month</th>\n",
       "      <th>Thousands of Passengers</th>\n",
       "    </tr>\n",
       "  </thead>\n",
       "  <tbody>\n",
       "    <tr>\n",
       "      <th>0</th>\n",
       "      <td>1949-01</td>\n",
       "      <td>112</td>\n",
       "    </tr>\n",
       "    <tr>\n",
       "      <th>1</th>\n",
       "      <td>1949-02</td>\n",
       "      <td>118</td>\n",
       "    </tr>\n",
       "    <tr>\n",
       "      <th>2</th>\n",
       "      <td>1949-03</td>\n",
       "      <td>132</td>\n",
       "    </tr>\n",
       "    <tr>\n",
       "      <th>3</th>\n",
       "      <td>1949-04</td>\n",
       "      <td>129</td>\n",
       "    </tr>\n",
       "    <tr>\n",
       "      <th>4</th>\n",
       "      <td>1949-05</td>\n",
       "      <td>121</td>\n",
       "    </tr>\n",
       "  </tbody>\n",
       "</table>\n",
       "</div>"
      ],
      "text/plain": [
       "     Month  Thousands of Passengers\n",
       "0  1949-01                      112\n",
       "1  1949-02                      118\n",
       "2  1949-03                      132\n",
       "3  1949-04                      129\n",
       "4  1949-05                      121"
      ]
     },
     "execution_count": 2,
     "metadata": {},
     "output_type": "execute_result"
    }
   ],
   "source": [
    "# import dataset\n",
    "dataset = pd.read_csv('airline_passengers.csv')\n",
    "dataset.head()"
   ]
  },
  {
   "cell_type": "code",
   "execution_count": 3,
   "id": "63d77feb",
   "metadata": {},
   "outputs": [
    {
     "data": {
      "text/plain": [
       "(144, 2)"
      ]
     },
     "execution_count": 3,
     "metadata": {},
     "output_type": "execute_result"
    }
   ],
   "source": [
    "dataset.shape"
   ]
  },
  {
   "cell_type": "code",
   "execution_count": 4,
   "id": "861d53e9",
   "metadata": {},
   "outputs": [
    {
     "data": {
      "text/html": [
       "<div>\n",
       "<style scoped>\n",
       "    .dataframe tbody tr th:only-of-type {\n",
       "        vertical-align: middle;\n",
       "    }\n",
       "\n",
       "    .dataframe tbody tr th {\n",
       "        vertical-align: top;\n",
       "    }\n",
       "\n",
       "    .dataframe thead th {\n",
       "        text-align: right;\n",
       "    }\n",
       "</style>\n",
       "<table border=\"1\" class=\"dataframe\">\n",
       "  <thead>\n",
       "    <tr style=\"text-align: right;\">\n",
       "      <th></th>\n",
       "      <th>Month</th>\n",
       "      <th>Thousands of Passengers</th>\n",
       "    </tr>\n",
       "  </thead>\n",
       "  <tbody>\n",
       "    <tr>\n",
       "      <th>139</th>\n",
       "      <td>1960-08</td>\n",
       "      <td>606</td>\n",
       "    </tr>\n",
       "    <tr>\n",
       "      <th>140</th>\n",
       "      <td>1960-09</td>\n",
       "      <td>508</td>\n",
       "    </tr>\n",
       "    <tr>\n",
       "      <th>141</th>\n",
       "      <td>1960-10</td>\n",
       "      <td>461</td>\n",
       "    </tr>\n",
       "    <tr>\n",
       "      <th>142</th>\n",
       "      <td>1960-11</td>\n",
       "      <td>390</td>\n",
       "    </tr>\n",
       "    <tr>\n",
       "      <th>143</th>\n",
       "      <td>1960-12</td>\n",
       "      <td>432</td>\n",
       "    </tr>\n",
       "  </tbody>\n",
       "</table>\n",
       "</div>"
      ],
      "text/plain": [
       "       Month  Thousands of Passengers\n",
       "139  1960-08                      606\n",
       "140  1960-09                      508\n",
       "141  1960-10                      461\n",
       "142  1960-11                      390\n",
       "143  1960-12                      432"
      ]
     },
     "execution_count": 4,
     "metadata": {},
     "output_type": "execute_result"
    }
   ],
   "source": [
    "dataset.tail()"
   ]
  },
  {
   "cell_type": "code",
   "execution_count": 5,
   "id": "32948541",
   "metadata": {},
   "outputs": [],
   "source": [
    "from numpy import log\n",
    "from datetime import datetime"
   ]
  },
  {
   "cell_type": "code",
   "execution_count": 6,
   "id": "f6f90e7d",
   "metadata": {},
   "outputs": [],
   "source": [
    "dataset['Month'] = pd.to_datetime(dataset['Month'])"
   ]
  },
  {
   "cell_type": "code",
   "execution_count": 7,
   "id": "3422a55b",
   "metadata": {},
   "outputs": [
    {
     "data": {
      "text/html": [
       "<div>\n",
       "<style scoped>\n",
       "    .dataframe tbody tr th:only-of-type {\n",
       "        vertical-align: middle;\n",
       "    }\n",
       "\n",
       "    .dataframe tbody tr th {\n",
       "        vertical-align: top;\n",
       "    }\n",
       "\n",
       "    .dataframe thead th {\n",
       "        text-align: right;\n",
       "    }\n",
       "</style>\n",
       "<table border=\"1\" class=\"dataframe\">\n",
       "  <thead>\n",
       "    <tr style=\"text-align: right;\">\n",
       "      <th></th>\n",
       "      <th>Month</th>\n",
       "      <th>Thousands of Passengers</th>\n",
       "    </tr>\n",
       "  </thead>\n",
       "  <tbody>\n",
       "    <tr>\n",
       "      <th>0</th>\n",
       "      <td>1949-01-01</td>\n",
       "      <td>112</td>\n",
       "    </tr>\n",
       "    <tr>\n",
       "      <th>1</th>\n",
       "      <td>1949-02-01</td>\n",
       "      <td>118</td>\n",
       "    </tr>\n",
       "    <tr>\n",
       "      <th>2</th>\n",
       "      <td>1949-03-01</td>\n",
       "      <td>132</td>\n",
       "    </tr>\n",
       "    <tr>\n",
       "      <th>3</th>\n",
       "      <td>1949-04-01</td>\n",
       "      <td>129</td>\n",
       "    </tr>\n",
       "    <tr>\n",
       "      <th>4</th>\n",
       "      <td>1949-05-01</td>\n",
       "      <td>121</td>\n",
       "    </tr>\n",
       "  </tbody>\n",
       "</table>\n",
       "</div>"
      ],
      "text/plain": [
       "       Month  Thousands of Passengers\n",
       "0 1949-01-01                      112\n",
       "1 1949-02-01                      118\n",
       "2 1949-03-01                      132\n",
       "3 1949-04-01                      129\n",
       "4 1949-05-01                      121"
      ]
     },
     "execution_count": 7,
     "metadata": {},
     "output_type": "execute_result"
    }
   ],
   "source": [
    "dataset.head()"
   ]
  },
  {
   "cell_type": "code",
   "execution_count": 8,
   "id": "f17d8feb",
   "metadata": {},
   "outputs": [],
   "source": [
    "dataset.set_index('Month', inplace=True)"
   ]
  },
  {
   "cell_type": "code",
   "execution_count": 9,
   "id": "b07599bb",
   "metadata": {},
   "outputs": [
    {
     "data": {
      "text/html": [
       "<div>\n",
       "<style scoped>\n",
       "    .dataframe tbody tr th:only-of-type {\n",
       "        vertical-align: middle;\n",
       "    }\n",
       "\n",
       "    .dataframe tbody tr th {\n",
       "        vertical-align: top;\n",
       "    }\n",
       "\n",
       "    .dataframe thead th {\n",
       "        text-align: right;\n",
       "    }\n",
       "</style>\n",
       "<table border=\"1\" class=\"dataframe\">\n",
       "  <thead>\n",
       "    <tr style=\"text-align: right;\">\n",
       "      <th></th>\n",
       "      <th>Thousands of Passengers</th>\n",
       "    </tr>\n",
       "    <tr>\n",
       "      <th>Month</th>\n",
       "      <th></th>\n",
       "    </tr>\n",
       "  </thead>\n",
       "  <tbody>\n",
       "    <tr>\n",
       "      <th>1949-01-01</th>\n",
       "      <td>112</td>\n",
       "    </tr>\n",
       "    <tr>\n",
       "      <th>1949-02-01</th>\n",
       "      <td>118</td>\n",
       "    </tr>\n",
       "    <tr>\n",
       "      <th>1949-03-01</th>\n",
       "      <td>132</td>\n",
       "    </tr>\n",
       "    <tr>\n",
       "      <th>1949-04-01</th>\n",
       "      <td>129</td>\n",
       "    </tr>\n",
       "    <tr>\n",
       "      <th>1949-05-01</th>\n",
       "      <td>121</td>\n",
       "    </tr>\n",
       "  </tbody>\n",
       "</table>\n",
       "</div>"
      ],
      "text/plain": [
       "            Thousands of Passengers\n",
       "Month                              \n",
       "1949-01-01                      112\n",
       "1949-02-01                      118\n",
       "1949-03-01                      132\n",
       "1949-04-01                      129\n",
       "1949-05-01                      121"
      ]
     },
     "execution_count": 9,
     "metadata": {},
     "output_type": "execute_result"
    }
   ],
   "source": [
    "dataset.head()"
   ]
  },
  {
   "cell_type": "code",
   "execution_count": 10,
   "id": "54967f74",
   "metadata": {},
   "outputs": [
    {
     "data": {
      "text/plain": [
       "<AxesSubplot:xlabel='Month'>"
      ]
     },
     "execution_count": 10,
     "metadata": {},
     "output_type": "execute_result"
    },
    {
     "data": {
      "image/png": "[encoded data removed]",
      "text/plain": [
       "<Figure size 432x288 with 1 Axes>"
      ]
     },
     "metadata": {
      "needs_background": "light"
     },
     "output_type": "display_data"
    }
   ],
   "source": [
    "dataset.plot()"
   ]
  },
  {
   "cell_type": "code",
   "execution_count": 11,
   "id": "7d40d802",
   "metadata": {},
   "outputs": [
    {
     "data": {
      "image/png": "[encoded data removed]",
      "text/plain": [
       "<Figure size 432x288 with 4 Axes>"
      ]
     },
     "metadata": {
      "needs_background": "light"
     },
     "output_type": "display_data"
    }
   ],
   "source": [
    "# Decomposition method to check dataset component\n",
    "\n",
    "from statsmodels.tsa.seasonal import seasonal_decompose\n",
    "decomposition = seasonal_decompose(dataset['Thousands of Passengers'],period = 12)\n",
    "decomposition.plot()\n",
    "plt.show()"
   ]
  },
  {
   "cell_type": "code",
   "execution_count": 12,
   "id": "ea2e93af",
   "metadata": {},
   "outputs": [
    {
     "data": {
      "text/plain": [
       "array([0.0121528])"
      ]
     },
     "execution_count": 12,
     "metadata": {},
     "output_type": "execute_result"
    }
   ],
   "source": [
    "sm.stats.durbin_watson(dataset)\n",
    "# Yes, we found there is an autocorrelation avaialbe in my dataset\n",
    "# there is no point to use linear regression in such cases"
   ]
  },
  {
   "cell_type": "code",
   "execution_count": 13,
   "id": "ca7c51e5",
   "metadata": {},
   "outputs": [],
   "source": [
    "# Note : if we don't have non-stationary time series data then we directly use \"ARMA\" model\n",
    "# in case we have non-stationary time series then first we make it stationary (manaully) and then will use\n",
    "    # \"ARIMA\" model"
   ]
  },
  {
   "cell_type": "code",
   "execution_count": 14,
   "id": "5a013d07",
   "metadata": {},
   "outputs": [
    {
     "data": {
      "text/plain": [
       "(0.8153688792060543,\n",
       " 0.9918802434376411,\n",
       " 13,\n",
       " 130,\n",
       " {'1%': -3.4816817173418295,\n",
       "  '5%': -2.8840418343195267,\n",
       "  '10%': -2.578770059171598},\n",
       " 996.692930839019)"
      ]
     },
     "execution_count": 14,
     "metadata": {},
     "output_type": "execute_result"
    }
   ],
   "source": [
    "# Your time series data should be \"Stationary\"\n",
    "# How will check - Augmented Dickey Fuller Test\n",
    "\n",
    "from statsmodels.tsa.stattools import adfuller\n",
    "adfuller(dataset['Thousands of Passengers'])"
   ]
  },
  {
   "cell_type": "code",
   "execution_count": 15,
   "id": "086d1eb4",
   "metadata": {},
   "outputs": [],
   "source": [
    "def adf_check(timeseries):\n",
    "    result = adfuller(timeseries)\n",
    "    print(\"Augmented Dickey Fuller Test\")\n",
    "    labels = ['ADF Test Statistics','p-value','#Lags','No. of Observation']\n",
    "    \n",
    "    for a , b in zip(result, labels):\n",
    "        print(b + \" : \" + str(a))\n",
    "        \n",
    "    if result[1] <=0.05:\n",
    "        print(\"Strong evidence against null hypothesis and my timeseries is Stationary\")\n",
    "    else:\n",
    "        print(\"Weak evidence against null hypothesis and my timeseries is non-stationary\")    "
   ]
  },
  {
   "cell_type": "code",
   "execution_count": 16,
   "id": "4d9740a2",
   "metadata": {},
   "outputs": [
    {
     "name": "stdout",
     "output_type": "stream",
     "text": [
      "Augmented Dickey Fuller Test\n",
      "ADF Test Statistics : 0.8153688792060543\n",
      "p-value : 0.9918802434376411\n",
      "#Lags : 13\n",
      "No. of Observation : 130\n",
      "Weak evidence against null hypothesis and my timeseries is non-stationary\n"
     ]
    }
   ],
   "source": [
    "adf_check(dataset['Thousands of Passengers'])"
   ]
  },
  {
   "cell_type": "code",
   "execution_count": 17,
   "id": "1543668a",
   "metadata": {},
   "outputs": [],
   "source": [
    "# in case we have non-stationary time series data then we have to make it stationary by the help of lag function\n",
    "dataset['1st Diff'] = dataset['Thousands of Passengers']-dataset['Thousands of Passengers'].shift(1)"
   ]
  },
  {
   "cell_type": "code",
   "execution_count": 18,
   "id": "b978495e",
   "metadata": {},
   "outputs": [
    {
     "data": {
      "text/html": [
       "<div>\n",
       "<style scoped>\n",
       "    .dataframe tbody tr th:only-of-type {\n",
       "        vertical-align: middle;\n",
       "    }\n",
       "\n",
       "    .dataframe tbody tr th {\n",
       "        vertical-align: top;\n",
       "    }\n",
       "\n",
       "    .dataframe thead th {\n",
       "        text-align: right;\n",
       "    }\n",
       "</style>\n",
       "<table border=\"1\" class=\"dataframe\">\n",
       "  <thead>\n",
       "    <tr style=\"text-align: right;\">\n",
       "      <th></th>\n",
       "      <th>Thousands of Passengers</th>\n",
       "      <th>1st Diff</th>\n",
       "    </tr>\n",
       "    <tr>\n",
       "      <th>Month</th>\n",
       "      <th></th>\n",
       "      <th></th>\n",
       "    </tr>\n",
       "  </thead>\n",
       "  <tbody>\n",
       "    <tr>\n",
       "      <th>1949-01-01</th>\n",
       "      <td>112</td>\n",
       "      <td>NaN</td>\n",
       "    </tr>\n",
       "    <tr>\n",
       "      <th>1949-02-01</th>\n",
       "      <td>118</td>\n",
       "      <td>6.0</td>\n",
       "    </tr>\n",
       "    <tr>\n",
       "      <th>1949-03-01</th>\n",
       "      <td>132</td>\n",
       "      <td>14.0</td>\n",
       "    </tr>\n",
       "    <tr>\n",
       "      <th>1949-04-01</th>\n",
       "      <td>129</td>\n",
       "      <td>-3.0</td>\n",
       "    </tr>\n",
       "    <tr>\n",
       "      <th>1949-05-01</th>\n",
       "      <td>121</td>\n",
       "      <td>-8.0</td>\n",
       "    </tr>\n",
       "    <tr>\n",
       "      <th>1949-06-01</th>\n",
       "      <td>135</td>\n",
       "      <td>14.0</td>\n",
       "    </tr>\n",
       "    <tr>\n",
       "      <th>1949-07-01</th>\n",
       "      <td>148</td>\n",
       "      <td>13.0</td>\n",
       "    </tr>\n",
       "    <tr>\n",
       "      <th>1949-08-01</th>\n",
       "      <td>148</td>\n",
       "      <td>0.0</td>\n",
       "    </tr>\n",
       "    <tr>\n",
       "      <th>1949-09-01</th>\n",
       "      <td>136</td>\n",
       "      <td>-12.0</td>\n",
       "    </tr>\n",
       "    <tr>\n",
       "      <th>1949-10-01</th>\n",
       "      <td>119</td>\n",
       "      <td>-17.0</td>\n",
       "    </tr>\n",
       "    <tr>\n",
       "      <th>1949-11-01</th>\n",
       "      <td>104</td>\n",
       "      <td>-15.0</td>\n",
       "    </tr>\n",
       "    <tr>\n",
       "      <th>1949-12-01</th>\n",
       "      <td>118</td>\n",
       "      <td>14.0</td>\n",
       "    </tr>\n",
       "    <tr>\n",
       "      <th>1950-01-01</th>\n",
       "      <td>115</td>\n",
       "      <td>-3.0</td>\n",
       "    </tr>\n",
       "    <tr>\n",
       "      <th>1950-02-01</th>\n",
       "      <td>126</td>\n",
       "      <td>11.0</td>\n",
       "    </tr>\n",
       "    <tr>\n",
       "      <th>1950-03-01</th>\n",
       "      <td>141</td>\n",
       "      <td>15.0</td>\n",
       "    </tr>\n",
       "    <tr>\n",
       "      <th>1950-04-01</th>\n",
       "      <td>135</td>\n",
       "      <td>-6.0</td>\n",
       "    </tr>\n",
       "    <tr>\n",
       "      <th>1950-05-01</th>\n",
       "      <td>125</td>\n",
       "      <td>-10.0</td>\n",
       "    </tr>\n",
       "    <tr>\n",
       "      <th>1950-06-01</th>\n",
       "      <td>149</td>\n",
       "      <td>24.0</td>\n",
       "    </tr>\n",
       "    <tr>\n",
       "      <th>1950-07-01</th>\n",
       "      <td>170</td>\n",
       "      <td>21.0</td>\n",
       "    </tr>\n",
       "    <tr>\n",
       "      <th>1950-08-01</th>\n",
       "      <td>170</td>\n",
       "      <td>0.0</td>\n",
       "    </tr>\n",
       "  </tbody>\n",
       "</table>\n",
       "</div>"
      ],
      "text/plain": [
       "            Thousands of Passengers  1st Diff\n",
       "Month                                        \n",
       "1949-01-01                      112       NaN\n",
       "1949-02-01                      118       6.0\n",
       "1949-03-01                      132      14.0\n",
       "1949-04-01                      129      -3.0\n",
       "1949-05-01                      121      -8.0\n",
       "1949-06-01                      135      14.0\n",
       "1949-07-01                      148      13.0\n",
       "1949-08-01                      148       0.0\n",
       "1949-09-01                      136     -12.0\n",
       "1949-10-01                      119     -17.0\n",
       "1949-11-01                      104     -15.0\n",
       "1949-12-01                      118      14.0\n",
       "1950-01-01                      115      -3.0\n",
       "1950-02-01                      126      11.0\n",
       "1950-03-01                      141      15.0\n",
       "1950-04-01                      135      -6.0\n",
       "1950-05-01                      125     -10.0\n",
       "1950-06-01                      149      24.0\n",
       "1950-07-01                      170      21.0\n",
       "1950-08-01                      170       0.0"
      ]
     },
     "execution_count": 18,
     "metadata": {},
     "output_type": "execute_result"
    }
   ],
   "source": [
    "dataset.head(20)"
   ]
  },
  {
   "cell_type": "code",
   "execution_count": 19,
   "id": "40d16164",
   "metadata": {},
   "outputs": [
    {
     "name": "stdout",
     "output_type": "stream",
     "text": [
      "Augmented Dickey Fuller Test\n",
      "ADF Test Statistics : -2.8292668241700034\n",
      "p-value : 0.054213290283824954\n",
      "#Lags : 12\n",
      "No. of Observation : 130\n",
      "Weak evidence against null hypothesis and my timeseries is non-stationary\n"
     ]
    }
   ],
   "source": [
    "adf_check(dataset['1st Diff'].dropna())"
   ]
  },
  {
   "cell_type": "code",
   "execution_count": 20,
   "id": "4ad3ec37",
   "metadata": {},
   "outputs": [],
   "source": [
    "dataset['2nd Diff'] = dataset['1st Diff'] - dataset['1st Diff'].shift(1)"
   ]
  },
  {
   "cell_type": "code",
   "execution_count": 21,
   "id": "d7df661f",
   "metadata": {},
   "outputs": [
    {
     "data": {
      "text/html": [
       "<div>\n",
       "<style scoped>\n",
       "    .dataframe tbody tr th:only-of-type {\n",
       "        vertical-align: middle;\n",
       "    }\n",
       "\n",
       "    .dataframe tbody tr th {\n",
       "        vertical-align: top;\n",
       "    }\n",
       "\n",
       "    .dataframe thead th {\n",
       "        text-align: right;\n",
       "    }\n",
       "</style>\n",
       "<table border=\"1\" class=\"dataframe\">\n",
       "  <thead>\n",
       "    <tr style=\"text-align: right;\">\n",
       "      <th></th>\n",
       "      <th>Thousands of Passengers</th>\n",
       "      <th>1st Diff</th>\n",
       "      <th>2nd Diff</th>\n",
       "    </tr>\n",
       "    <tr>\n",
       "      <th>Month</th>\n",
       "      <th></th>\n",
       "      <th></th>\n",
       "      <th></th>\n",
       "    </tr>\n",
       "  </thead>\n",
       "  <tbody>\n",
       "    <tr>\n",
       "      <th>1949-01-01</th>\n",
       "      <td>112</td>\n",
       "      <td>NaN</td>\n",
       "      <td>NaN</td>\n",
       "    </tr>\n",
       "    <tr>\n",
       "      <th>1949-02-01</th>\n",
       "      <td>118</td>\n",
       "      <td>6.0</td>\n",
       "      <td>NaN</td>\n",
       "    </tr>\n",
       "    <tr>\n",
       "      <th>1949-03-01</th>\n",
       "      <td>132</td>\n",
       "      <td>14.0</td>\n",
       "      <td>8.0</td>\n",
       "    </tr>\n",
       "    <tr>\n",
       "      <th>1949-04-01</th>\n",
       "      <td>129</td>\n",
       "      <td>-3.0</td>\n",
       "      <td>-17.0</td>\n",
       "    </tr>\n",
       "    <tr>\n",
       "      <th>1949-05-01</th>\n",
       "      <td>121</td>\n",
       "      <td>-8.0</td>\n",
       "      <td>-5.0</td>\n",
       "    </tr>\n",
       "    <tr>\n",
       "      <th>1949-06-01</th>\n",
       "      <td>135</td>\n",
       "      <td>14.0</td>\n",
       "      <td>22.0</td>\n",
       "    </tr>\n",
       "    <tr>\n",
       "      <th>1949-07-01</th>\n",
       "      <td>148</td>\n",
       "      <td>13.0</td>\n",
       "      <td>-1.0</td>\n",
       "    </tr>\n",
       "    <tr>\n",
       "      <th>1949-08-01</th>\n",
       "      <td>148</td>\n",
       "      <td>0.0</td>\n",
       "      <td>-13.0</td>\n",
       "    </tr>\n",
       "    <tr>\n",
       "      <th>1949-09-01</th>\n",
       "      <td>136</td>\n",
       "      <td>-12.0</td>\n",
       "      <td>-12.0</td>\n",
       "    </tr>\n",
       "    <tr>\n",
       "      <th>1949-10-01</th>\n",
       "      <td>119</td>\n",
       "      <td>-17.0</td>\n",
       "      <td>-5.0</td>\n",
       "    </tr>\n",
       "    <tr>\n",
       "      <th>1949-11-01</th>\n",
       "      <td>104</td>\n",
       "      <td>-15.0</td>\n",
       "      <td>2.0</td>\n",
       "    </tr>\n",
       "    <tr>\n",
       "      <th>1949-12-01</th>\n",
       "      <td>118</td>\n",
       "      <td>14.0</td>\n",
       "      <td>29.0</td>\n",
       "    </tr>\n",
       "    <tr>\n",
       "      <th>1950-01-01</th>\n",
       "      <td>115</td>\n",
       "      <td>-3.0</td>\n",
       "      <td>-17.0</td>\n",
       "    </tr>\n",
       "    <tr>\n",
       "      <th>1950-02-01</th>\n",
       "      <td>126</td>\n",
       "      <td>11.0</td>\n",
       "      <td>14.0</td>\n",
       "    </tr>\n",
       "    <tr>\n",
       "      <th>1950-03-01</th>\n",
       "      <td>141</td>\n",
       "      <td>15.0</td>\n",
       "      <td>4.0</td>\n",
       "    </tr>\n",
       "    <tr>\n",
       "      <th>1950-04-01</th>\n",
       "      <td>135</td>\n",
       "      <td>-6.0</td>\n",
       "      <td>-21.0</td>\n",
       "    </tr>\n",
       "    <tr>\n",
       "      <th>1950-05-01</th>\n",
       "      <td>125</td>\n",
       "      <td>-10.0</td>\n",
       "      <td>-4.0</td>\n",
       "    </tr>\n",
       "    <tr>\n",
       "      <th>1950-06-01</th>\n",
       "      <td>149</td>\n",
       "      <td>24.0</td>\n",
       "      <td>34.0</td>\n",
       "    </tr>\n",
       "    <tr>\n",
       "      <th>1950-07-01</th>\n",
       "      <td>170</td>\n",
       "      <td>21.0</td>\n",
       "      <td>-3.0</td>\n",
       "    </tr>\n",
       "    <tr>\n",
       "      <th>1950-08-01</th>\n",
       "      <td>170</td>\n",
       "      <td>0.0</td>\n",
       "      <td>-21.0</td>\n",
       "    </tr>\n",
       "  </tbody>\n",
       "</table>\n",
       "</div>"
      ],
      "text/plain": [
       "            Thousands of Passengers  1st Diff  2nd Diff\n",
       "Month                                                  \n",
       "1949-01-01                      112       NaN       NaN\n",
       "1949-02-01                      118       6.0       NaN\n",
       "1949-03-01                      132      14.0       8.0\n",
       "1949-04-01                      129      -3.0     -17.0\n",
       "1949-05-01                      121      -8.0      -5.0\n",
       "1949-06-01                      135      14.0      22.0\n",
       "1949-07-01                      148      13.0      -1.0\n",
       "1949-08-01                      148       0.0     -13.0\n",
       "1949-09-01                      136     -12.0     -12.0\n",
       "1949-10-01                      119     -17.0      -5.0\n",
       "1949-11-01                      104     -15.0       2.0\n",
       "1949-12-01                      118      14.0      29.0\n",
       "1950-01-01                      115      -3.0     -17.0\n",
       "1950-02-01                      126      11.0      14.0\n",
       "1950-03-01                      141      15.0       4.0\n",
       "1950-04-01                      135      -6.0     -21.0\n",
       "1950-05-01                      125     -10.0      -4.0\n",
       "1950-06-01                      149      24.0      34.0\n",
       "1950-07-01                      170      21.0      -3.0\n",
       "1950-08-01                      170       0.0     -21.0"
      ]
     },
     "execution_count": 21,
     "metadata": {},
     "output_type": "execute_result"
    }
   ],
   "source": [
    "dataset.head(20)"
   ]
  },
  {
   "cell_type": "code",
   "execution_count": 22,
   "id": "6eb3e5d5",
   "metadata": {},
   "outputs": [
    {
     "name": "stdout",
     "output_type": "stream",
     "text": [
      "Augmented Dickey Fuller Test\n",
      "ADF Test Statistics : -16.384231542468488\n",
      "p-value : 2.7328918500143186e-29\n",
      "#Lags : 11\n",
      "No. of Observation : 130\n",
      "Strong evidence against null hypothesis and my timeseries is Stationary\n"
     ]
    }
   ],
   "source": [
    "adf_check(dataset['2nd Diff'].dropna())"
   ]
  },
  {
   "cell_type": "code",
   "execution_count": 23,
   "id": "d2caa10c",
   "metadata": {},
   "outputs": [],
   "source": [
    "# AIC = -2LL + 2K\n",
    "# K = Parameter (pdq - Trend and PDQ - Seasonality)\n",
    "# p/P - partial autocorrelation (AutoRegressive method)\n",
    "# d/D - Lag Difference(Integrated method) - in case we have non-stationary data\n",
    "# q/Q - AutoCorrelation (Moving Avg)\n",
    "# ARIMA - AutoRegressive Integrated Moving Avg\n",
    "# p = ?\n",
    "# d = 2\n",
    "# q = ?\n",
    "\n",
    "# P = ?\n",
    "# D = ?\n",
    "# Q = ?"
   ]
  },
  {
   "cell_type": "code",
   "execution_count": 24,
   "id": "32bb2a36",
   "metadata": {},
   "outputs": [],
   "source": [
    "dataset['Seasonality'] = dataset['Thousands of Passengers'] - dataset['Thousands of Passengers'].shift(12)"
   ]
  },
  {
   "cell_type": "code",
   "execution_count": 25,
   "id": "25fa31f6",
   "metadata": {},
   "outputs": [
    {
     "data": {
      "text/html": [
       "<div>\n",
       "<style scoped>\n",
       "    .dataframe tbody tr th:only-of-type {\n",
       "        vertical-align: middle;\n",
       "    }\n",
       "\n",
       "    .dataframe tbody tr th {\n",
       "        vertical-align: top;\n",
       "    }\n",
       "\n",
       "    .dataframe thead th {\n",
       "        text-align: right;\n",
       "    }\n",
       "</style>\n",
       "<table border=\"1\" class=\"dataframe\">\n",
       "  <thead>\n",
       "    <tr style=\"text-align: right;\">\n",
       "      <th></th>\n",
       "      <th>Thousands of Passengers</th>\n",
       "      <th>1st Diff</th>\n",
       "      <th>2nd Diff</th>\n",
       "      <th>Seasonality</th>\n",
       "    </tr>\n",
       "    <tr>\n",
       "      <th>Month</th>\n",
       "      <th></th>\n",
       "      <th></th>\n",
       "      <th></th>\n",
       "      <th></th>\n",
       "    </tr>\n",
       "  </thead>\n",
       "  <tbody>\n",
       "    <tr>\n",
       "      <th>1949-01-01</th>\n",
       "      <td>112</td>\n",
       "      <td>NaN</td>\n",
       "      <td>NaN</td>\n",
       "      <td>NaN</td>\n",
       "    </tr>\n",
       "    <tr>\n",
       "      <th>1949-02-01</th>\n",
       "      <td>118</td>\n",
       "      <td>6.0</td>\n",
       "      <td>NaN</td>\n",
       "      <td>NaN</td>\n",
       "    </tr>\n",
       "    <tr>\n",
       "      <th>1949-03-01</th>\n",
       "      <td>132</td>\n",
       "      <td>14.0</td>\n",
       "      <td>8.0</td>\n",
       "      <td>NaN</td>\n",
       "    </tr>\n",
       "    <tr>\n",
       "      <th>1949-04-01</th>\n",
       "      <td>129</td>\n",
       "      <td>-3.0</td>\n",
       "      <td>-17.0</td>\n",
       "      <td>NaN</td>\n",
       "    </tr>\n",
       "    <tr>\n",
       "      <th>1949-05-01</th>\n",
       "      <td>121</td>\n",
       "      <td>-8.0</td>\n",
       "      <td>-5.0</td>\n",
       "      <td>NaN</td>\n",
       "    </tr>\n",
       "    <tr>\n",
       "      <th>1949-06-01</th>\n",
       "      <td>135</td>\n",
       "      <td>14.0</td>\n",
       "      <td>22.0</td>\n",
       "      <td>NaN</td>\n",
       "    </tr>\n",
       "    <tr>\n",
       "      <th>1949-07-01</th>\n",
       "      <td>148</td>\n",
       "      <td>13.0</td>\n",
       "      <td>-1.0</td>\n",
       "      <td>NaN</td>\n",
       "    </tr>\n",
       "    <tr>\n",
       "      <th>1949-08-01</th>\n",
       "      <td>148</td>\n",
       "      <td>0.0</td>\n",
       "      <td>-13.0</td>\n",
       "      <td>NaN</td>\n",
       "    </tr>\n",
       "    <tr>\n",
       "      <th>1949-09-01</th>\n",
       "      <td>136</td>\n",
       "      <td>-12.0</td>\n",
       "      <td>-12.0</td>\n",
       "      <td>NaN</td>\n",
       "    </tr>\n",
       "    <tr>\n",
       "      <th>1949-10-01</th>\n",
       "      <td>119</td>\n",
       "      <td>-17.0</td>\n",
       "      <td>-5.0</td>\n",
       "      <td>NaN</td>\n",
       "    </tr>\n",
       "    <tr>\n",
       "      <th>1949-11-01</th>\n",
       "      <td>104</td>\n",
       "      <td>-15.0</td>\n",
       "      <td>2.0</td>\n",
       "      <td>NaN</td>\n",
       "    </tr>\n",
       "    <tr>\n",
       "      <th>1949-12-01</th>\n",
       "      <td>118</td>\n",
       "      <td>14.0</td>\n",
       "      <td>29.0</td>\n",
       "      <td>NaN</td>\n",
       "    </tr>\n",
       "    <tr>\n",
       "      <th>1950-01-01</th>\n",
       "      <td>115</td>\n",
       "      <td>-3.0</td>\n",
       "      <td>-17.0</td>\n",
       "      <td>3.0</td>\n",
       "    </tr>\n",
       "    <tr>\n",
       "      <th>1950-02-01</th>\n",
       "      <td>126</td>\n",
       "      <td>11.0</td>\n",
       "      <td>14.0</td>\n",
       "      <td>8.0</td>\n",
       "    </tr>\n",
       "    <tr>\n",
       "      <th>1950-03-01</th>\n",
       "      <td>141</td>\n",
       "      <td>15.0</td>\n",
       "      <td>4.0</td>\n",
       "      <td>9.0</td>\n",
       "    </tr>\n",
       "    <tr>\n",
       "      <th>1950-04-01</th>\n",
       "      <td>135</td>\n",
       "      <td>-6.0</td>\n",
       "      <td>-21.0</td>\n",
       "      <td>6.0</td>\n",
       "    </tr>\n",
       "    <tr>\n",
       "      <th>1950-05-01</th>\n",
       "      <td>125</td>\n",
       "      <td>-10.0</td>\n",
       "      <td>-4.0</td>\n",
       "      <td>4.0</td>\n",
       "    </tr>\n",
       "    <tr>\n",
       "      <th>1950-06-01</th>\n",
       "      <td>149</td>\n",
       "      <td>24.0</td>\n",
       "      <td>34.0</td>\n",
       "      <td>14.0</td>\n",
       "    </tr>\n",
       "    <tr>\n",
       "      <th>1950-07-01</th>\n",
       "      <td>170</td>\n",
       "      <td>21.0</td>\n",
       "      <td>-3.0</td>\n",
       "      <td>22.0</td>\n",
       "    </tr>\n",
       "    <tr>\n",
       "      <th>1950-08-01</th>\n",
       "      <td>170</td>\n",
       "      <td>0.0</td>\n",
       "      <td>-21.0</td>\n",
       "      <td>22.0</td>\n",
       "    </tr>\n",
       "  </tbody>\n",
       "</table>\n",
       "</div>"
      ],
      "text/plain": [
       "            Thousands of Passengers  1st Diff  2nd Diff  Seasonality\n",
       "Month                                                               \n",
       "1949-01-01                      112       NaN       NaN          NaN\n",
       "1949-02-01                      118       6.0       NaN          NaN\n",
       "1949-03-01                      132      14.0       8.0          NaN\n",
       "1949-04-01                      129      -3.0     -17.0          NaN\n",
       "1949-05-01                      121      -8.0      -5.0          NaN\n",
       "1949-06-01                      135      14.0      22.0          NaN\n",
       "1949-07-01                      148      13.0      -1.0          NaN\n",
       "1949-08-01                      148       0.0     -13.0          NaN\n",
       "1949-09-01                      136     -12.0     -12.0          NaN\n",
       "1949-10-01                      119     -17.0      -5.0          NaN\n",
       "1949-11-01                      104     -15.0       2.0          NaN\n",
       "1949-12-01                      118      14.0      29.0          NaN\n",
       "1950-01-01                      115      -3.0     -17.0          3.0\n",
       "1950-02-01                      126      11.0      14.0          8.0\n",
       "1950-03-01                      141      15.0       4.0          9.0\n",
       "1950-04-01                      135      -6.0     -21.0          6.0\n",
       "1950-05-01                      125     -10.0      -4.0          4.0\n",
       "1950-06-01                      149      24.0      34.0         14.0\n",
       "1950-07-01                      170      21.0      -3.0         22.0\n",
       "1950-08-01                      170       0.0     -21.0         22.0"
      ]
     },
     "execution_count": 25,
     "metadata": {},
     "output_type": "execute_result"
    }
   ],
   "source": [
    "dataset.head(20)"
   ]
  },
  {
   "cell_type": "code",
   "execution_count": 26,
   "id": "52a1ec0b",
   "metadata": {},
   "outputs": [
    {
     "name": "stdout",
     "output_type": "stream",
     "text": [
      "Augmented Dickey Fuller Test\n",
      "ADF Test Statistics : -3.3830207264924805\n",
      "p-value : 0.011551493085514982\n",
      "#Lags : 1\n",
      "No. of Observation : 130\n",
      "Strong evidence against null hypothesis and my timeseries is Stationary\n"
     ]
    }
   ],
   "source": [
    "adf_check(dataset['Seasonality'].dropna())"
   ]
  },
  {
   "cell_type": "code",
   "execution_count": 27,
   "id": "40df0b2c",
   "metadata": {},
   "outputs": [],
   "source": [
    "# d = 2\n",
    "# D = 1\n",
    "\n",
    "# p/P and q/Q = ?\n",
    "# p(Trend)/P(Seasonality) - AutoRegressive method (Partial Auto correlation)\n",
    "# q(Trend)/Q(Seasonality) - Moving Avg (AutoCorrelation)"
   ]
  },
  {
   "cell_type": "code",
   "execution_count": 28,
   "id": "5918c350",
   "metadata": {},
   "outputs": [],
   "source": [
    "from statsmodels.graphics.tsaplots import plot_acf, plot_pacf"
   ]
  },
  {
   "cell_type": "code",
   "execution_count": 29,
   "id": "11604b38",
   "metadata": {},
   "outputs": [
    {
     "data": {
      "image/png": "[encoded data removed]",
      "text/plain": [
       "<Figure size 432x288 with 1 Axes>"
      ]
     },
     "metadata": {
      "needs_background": "light"
     },
     "output_type": "display_data"
    }
   ],
   "source": [
    "plot_acf(dataset['2nd Diff'].dropna(), lags=14)\n",
    "plt.show()"
   ]
  },
  {
   "cell_type": "code",
   "execution_count": 30,
   "id": "afad7e79",
   "metadata": {},
   "outputs": [
    {
     "data": {
      "image/png": "[encoded data removed]",
      "text/plain": [
       "<Figure size 432x288 with 1 Axes>"
      ]
     },
     "metadata": {
      "needs_background": "light"
     },
     "output_type": "display_data"
    }
   ],
   "source": [
    "plot_acf(dataset['Seasonality'].dropna(), lags=12)\n",
    "plt.show()"
   ]
  },
  {
   "cell_type": "code",
   "execution_count": 31,
   "id": "ba919535",
   "metadata": {},
   "outputs": [
    {
     "data": {
      "image/png": "[encoded data removed]",
      "text/plain": [
       "<Figure size 432x288 with 1 Axes>"
      ]
     },
     "metadata": {
      "needs_background": "light"
     },
     "output_type": "display_data"
    }
   ],
   "source": [
    "plot_pacf(dataset['2nd Diff'].dropna(), lags=8)\n",
    "plt.show()"
   ]
  },
  {
   "cell_type": "code",
   "execution_count": 32,
   "id": "78ed85e9",
   "metadata": {},
   "outputs": [
    {
     "data": {
      "image/png": "[encoded data removed]",
      "text/plain": [
       "<Figure size 432x288 with 1 Axes>"
      ]
     },
     "metadata": {
      "needs_background": "light"
     },
     "output_type": "display_data"
    }
   ],
   "source": [
    "plot_pacf(dataset['Seasonality'].dropna(), lags=12)\n",
    "plt.show()"
   ]
  },
  {
   "cell_type": "code",
   "execution_count": 33,
   "id": "86c88860",
   "metadata": {},
   "outputs": [],
   "source": [
    "# Trend\n",
    "# p = 4\n",
    "# d = 2\n",
    "# q = 2\n",
    "\n",
    "# Seasonality\n",
    "# P = 2\n",
    "# D = 1\n",
    "# Q = 5"
   ]
  },
  {
   "cell_type": "markdown",
   "id": "627d6390",
   "metadata": {},
   "source": [
    "# Building Time Series Foresting basis ARIMA Model"
   ]
  },
  {
   "cell_type": "code",
   "execution_count": 34,
   "id": "fafe6502",
   "metadata": {},
   "outputs": [],
   "source": [
    "from statsmodels.tsa.arima_model import ARIMA\n",
    "import statsmodels.api as sm"
   ]
  },
  {
   "cell_type": "code",
   "execution_count": 35,
   "id": "908ea1c0",
   "metadata": {},
   "outputs": [
    {
     "name": "stderr",
     "output_type": "stream",
     "text": [
      "C:\\Users\\Lenovo\\anaconda3\\lib\\site-packages\\statsmodels\\tsa\\base\\tsa_model.py:471: ValueWarning: No frequency information was provided, so inferred frequency MS will be used.\n",
      "  self._init_dates(dates, freq)\n",
      "C:\\Users\\Lenovo\\anaconda3\\lib\\site-packages\\statsmodels\\tsa\\base\\tsa_model.py:471: ValueWarning: No frequency information was provided, so inferred frequency MS will be used.\n",
      "  self._init_dates(dates, freq)\n"
     ]
    }
   ],
   "source": [
    "model = sm.tsa.statespace.SARIMAX(dataset['Thousands of Passengers'],order=(4, 2, 2),\n",
    "                                  seasonal_order=(2, 1, 5, 12))"
   ]
  },
  {
   "cell_type": "code",
   "execution_count": 36,
   "id": "3c671cd4",
   "metadata": {},
   "outputs": [
    {
     "name": "stderr",
     "output_type": "stream",
     "text": [
      "C:\\Users\\Lenovo\\anaconda3\\lib\\site-packages\\statsmodels\\base\\model.py:604: ConvergenceWarning: Maximum Likelihood optimization failed to converge. Check mle_retvals\n",
      "  warnings.warn(\"Maximum Likelihood optimization failed to \"\n"
     ]
    }
   ],
   "source": [
    "result = model.fit()"
   ]
  },
  {
   "cell_type": "code",
   "execution_count": 37,
   "id": "7d45fa44",
   "metadata": {},
   "outputs": [
    {
     "name": "stdout",
     "output_type": "stream",
     "text": [
      "                                            SARIMAX Results                                             \n",
      "========================================================================================================\n",
      "Dep. Variable:                          Thousands of Passengers   No. Observations:                  144\n",
      "Model:             SARIMAX(4, 2, 2)x(2, 1, [1, 2, 3, 4, 5], 12)   Log Likelihood                -496.731\n",
      "Date:                                          Mon, 10 Oct 2022   AIC                           1021.461\n",
      "Time:                                                  09:43:42   BIC                           1061.607\n",
      "Sample:                                              01-01-1949   HQIC                          1037.774\n",
      "                                                   - 12-01-1960                                         \n",
      "Covariance Type:                                            opg                                         \n",
      "==============================================================================\n",
      "                 coef    std err          z      P>|z|      [0.025      0.975]\n",
      "------------------------------------------------------------------------------\n",
      "ar.L1         -1.3383      0.089    -15.003      0.000      -1.513      -1.163\n",
      "ar.L2         -0.4564      0.138     -3.300      0.001      -0.727      -0.185\n",
      "ar.L3         -0.1279      0.180     -0.711      0.477      -0.481       0.225\n",
      "ar.L4         -0.0884      0.097     -0.910      0.363      -0.279       0.102\n",
      "ma.L1         -0.0057      7.704     -0.001      0.999     -15.105      15.093\n",
      "ma.L2         -0.9943      7.663     -0.130      0.897     -16.013      14.025\n",
      "ar.S.L12       1.1689      3.595      0.325      0.745      -5.878       8.216\n",
      "ar.S.L24      -0.2605      3.485     -0.075      0.940      -7.091       6.570\n",
      "ma.S.L12      -1.4954      5.308     -0.282      0.778     -11.899       8.909\n",
      "ma.S.L24       0.7312      6.004      0.122      0.903     -11.037      12.499\n",
      "ma.S.L36      -0.2199      1.535     -0.143      0.886      -3.228       2.788\n",
      "ma.S.L48       0.1864      1.107      0.168      0.866      -1.984       2.356\n",
      "ma.S.L60       0.0469      0.645      0.073      0.942      -1.218       1.311\n",
      "sigma2        96.6494    758.467      0.127      0.899   -1389.918    1583.217\n",
      "===================================================================================\n",
      "Ljung-Box (L1) (Q):                   0.06   Jarque-Bera (JB):                11.53\n",
      "Prob(Q):                              0.81   Prob(JB):                         0.00\n",
      "Heteroskedasticity (H):               2.83   Skew:                             0.22\n",
      "Prob(H) (two-sided):                  0.00   Kurtosis:                         4.39\n",
      "===================================================================================\n",
      "\n",
      "Warnings:\n",
      "[1] Covariance matrix calculated using the outer product of gradients (complex-step).\n"
     ]
    }
   ],
   "source": [
    "print(result.summary())"
   ]
  },
  {
   "cell_type": "code",
   "execution_count": 38,
   "id": "5ed2c0c5",
   "metadata": {},
   "outputs": [],
   "source": [
    "# [1, 2, 3, 4, 5]\n",
    "# Q = 5, AIC = 1021.461\n",
    "# Q = 4, AIC = 1020.041\n",
    "# Q = 3, AIC = 1018.484\n",
    "# Q = 2, AIC = 1017.565\n",
    "# Q = 1, AIC = 1015.567"
   ]
  },
  {
   "cell_type": "code",
   "execution_count": 49,
   "id": "b288fdde",
   "metadata": {},
   "outputs": [
    {
     "name": "stderr",
     "output_type": "stream",
     "text": [
      "C:\\Users\\Lenovo\\anaconda3\\lib\\site-packages\\statsmodels\\tsa\\base\\tsa_model.py:471: ValueWarning: No frequency information was provided, so inferred frequency MS will be used.\n",
      "  self._init_dates(dates, freq)\n",
      "C:\\Users\\Lenovo\\anaconda3\\lib\\site-packages\\statsmodels\\tsa\\base\\tsa_model.py:471: ValueWarning: No frequency information was provided, so inferred frequency MS will be used.\n",
      "  self._init_dates(dates, freq)\n"
     ]
    },
    {
     "name": "stdout",
     "output_type": "stream",
     "text": [
      "                                    SARIMAX Results                                     \n",
      "========================================================================================\n",
      "Dep. Variable:          Thousands of Passengers   No. Observations:                  144\n",
      "Model:             SARIMAX(0, 3, [1, 2, 3], 12)   Log Likelihood                -499.803\n",
      "Date:                          Mon, 10 Oct 2022   AIC                           1007.607\n",
      "Time:                                  09:57:17   BIC                           1018.335\n",
      "Sample:                              01-01-1949   HQIC                          1011.957\n",
      "                                   - 12-01-1960                                         \n",
      "Covariance Type:                            opg                                         \n",
      "==============================================================================\n",
      "                 coef    std err          z      P>|z|      [0.025      0.975]\n",
      "------------------------------------------------------------------------------\n",
      "ma.S.L12      -1.5379    183.748     -0.008      0.993    -361.677     358.602\n",
      "ma.S.L24       0.6501     98.783      0.007      0.995    -192.960     194.261\n",
      "ma.S.L36      -0.1118     20.825     -0.005      0.996     -40.928      40.704\n",
      "sigma2       169.1529   3.11e+04      0.005      0.996   -6.07e+04    6.11e+04\n",
      "===================================================================================\n",
      "Ljung-Box (L1) (Q):                  47.34   Jarque-Bera (JB):                 9.57\n",
      "Prob(Q):                              0.00   Prob(JB):                         0.01\n",
      "Heteroskedasticity (H):               2.21   Skew:                            -0.73\n",
      "Prob(H) (two-sided):                  0.02   Kurtosis:                         2.87\n",
      "===================================================================================\n",
      "\n",
      "Warnings:\n",
      "[1] Covariance matrix calculated using the outer product of gradients (complex-step).\n"
     ]
    }
   ],
   "source": [
    "model = sm.tsa.statespace.SARIMAX(dataset['Thousands of Passengers'],order=(0, 0, 0), seasonal_order=(0, 3, 3, 12))\n",
    "result = model.fit()\n",
    "print(result.summary())"
   ]
  },
  {
   "cell_type": "code",
   "execution_count": null,
   "id": "de1bb234",
   "metadata": {},
   "outputs": [],
   "source": []
  },
  {
   "cell_type": "code",
   "execution_count": 40,
   "id": "99145efa",
   "metadata": {},
   "outputs": [],
   "source": [
    "# AutoArima approach - iteration approach"
   ]
  },
  {
   "cell_type": "code",
   "execution_count": null,
   "id": "37e3444d",
   "metadata": {},
   "outputs": [],
   "source": [
    "import itertools\n",
    "p = d = q = range(0,4) # max value would be highest\n",
    "pdq = list(itertools.product(p, d, q))\n",
    "seasonal_pdq = [(x[0], x[1], x[2], 12) for x in pdq]\n",
    "\n",
    "print(\"Check few parameter combination :\")\n",
    "print('{} x {}'.format(pdq[1], seasonal_pdq[1]))\n",
    "\n",
    "print('{} x {}'.format(pdq[2], seasonal_pdq[2]))"
   ]
  },
  {
   "cell_type": "code",
   "execution_count": null,
   "id": "a1ff9d53",
   "metadata": {},
   "outputs": [],
   "source": [
    "for param in pdq:\n",
    "    for param_seasonal in seasonal_pdq:\n",
    "        try:\n",
    "            model = sm.tsa.statespace.SARIMAX(dataset['Thousands of Passengers'],\n",
    "                                              order= param, seasonal_order=param_seasonal,\n",
    "                                             enforce_stationarity=False,\n",
    "                                             enforce_invertibility=False)\n",
    "            results = model.fit()\n",
    "            print('ARIMA{}X{} - AIC:{}'.format(param, param_seasonal, results.aic))\n",
    "        except:\n",
    "            continue            "
   ]
  },
  {
   "cell_type": "code",
   "execution_count": 41,
   "id": "1fafc895",
   "metadata": {},
   "outputs": [],
   "source": [
    "# ARIMA(0, 0, 0)X(0, 3, 3, 12) - AIC:697.8952307840076"
   ]
  },
  {
   "cell_type": "code",
   "execution_count": null,
   "id": "bd52db14",
   "metadata": {},
   "outputs": [],
   "source": []
  },
  {
   "cell_type": "code",
   "execution_count": 42,
   "id": "afaf8c2a",
   "metadata": {},
   "outputs": [],
   "source": [
    "# validate whether your model perform well or not"
   ]
  },
  {
   "cell_type": "code",
   "execution_count": 43,
   "id": "25aa4726",
   "metadata": {},
   "outputs": [
    {
     "data": {
      "text/plain": [
       "144"
      ]
     },
     "execution_count": 43,
     "metadata": {},
     "output_type": "execute_result"
    }
   ],
   "source": [
    "len(dataset)"
   ]
  },
  {
   "cell_type": "code",
   "execution_count": 44,
   "id": "c0efa08d",
   "metadata": {},
   "outputs": [
    {
     "data": {
      "text/html": [
       "<div>\n",
       "<style scoped>\n",
       "    .dataframe tbody tr th:only-of-type {\n",
       "        vertical-align: middle;\n",
       "    }\n",
       "\n",
       "    .dataframe tbody tr th {\n",
       "        vertical-align: top;\n",
       "    }\n",
       "\n",
       "    .dataframe thead th {\n",
       "        text-align: right;\n",
       "    }\n",
       "</style>\n",
       "<table border=\"1\" class=\"dataframe\">\n",
       "  <thead>\n",
       "    <tr style=\"text-align: right;\">\n",
       "      <th></th>\n",
       "      <th>Thousands of Passengers</th>\n",
       "      <th>1st Diff</th>\n",
       "      <th>2nd Diff</th>\n",
       "      <th>Seasonality</th>\n",
       "    </tr>\n",
       "    <tr>\n",
       "      <th>Month</th>\n",
       "      <th></th>\n",
       "      <th></th>\n",
       "      <th></th>\n",
       "      <th></th>\n",
       "    </tr>\n",
       "  </thead>\n",
       "  <tbody>\n",
       "    <tr>\n",
       "      <th>1949-01-01</th>\n",
       "      <td>112</td>\n",
       "      <td>NaN</td>\n",
       "      <td>NaN</td>\n",
       "      <td>NaN</td>\n",
       "    </tr>\n",
       "    <tr>\n",
       "      <th>1949-02-01</th>\n",
       "      <td>118</td>\n",
       "      <td>6.0</td>\n",
       "      <td>NaN</td>\n",
       "      <td>NaN</td>\n",
       "    </tr>\n",
       "    <tr>\n",
       "      <th>1949-03-01</th>\n",
       "      <td>132</td>\n",
       "      <td>14.0</td>\n",
       "      <td>8.0</td>\n",
       "      <td>NaN</td>\n",
       "    </tr>\n",
       "    <tr>\n",
       "      <th>1949-04-01</th>\n",
       "      <td>129</td>\n",
       "      <td>-3.0</td>\n",
       "      <td>-17.0</td>\n",
       "      <td>NaN</td>\n",
       "    </tr>\n",
       "    <tr>\n",
       "      <th>1949-05-01</th>\n",
       "      <td>121</td>\n",
       "      <td>-8.0</td>\n",
       "      <td>-5.0</td>\n",
       "      <td>NaN</td>\n",
       "    </tr>\n",
       "  </tbody>\n",
       "</table>\n",
       "</div>"
      ],
      "text/plain": [
       "            Thousands of Passengers  1st Diff  2nd Diff  Seasonality\n",
       "Month                                                               \n",
       "1949-01-01                      112       NaN       NaN          NaN\n",
       "1949-02-01                      118       6.0       NaN          NaN\n",
       "1949-03-01                      132      14.0       8.0          NaN\n",
       "1949-04-01                      129      -3.0     -17.0          NaN\n",
       "1949-05-01                      121      -8.0      -5.0          NaN"
      ]
     },
     "execution_count": 44,
     "metadata": {},
     "output_type": "execute_result"
    }
   ],
   "source": [
    "dataset.head()"
   ]
  },
  {
   "cell_type": "code",
   "execution_count": 50,
   "id": "71c6a0bf",
   "metadata": {},
   "outputs": [
    {
     "data": {
      "text/plain": [
       "<AxesSubplot:xlabel='Month'>"
      ]
     },
     "execution_count": 50,
     "metadata": {},
     "output_type": "execute_result"
    },
    {
     "data": {
      "image/png": "[encoded data removed]",
      "text/plain": [
       "<Figure size 432x288 with 1 Axes>"
      ]
     },
     "metadata": {
      "needs_background": "light"
     },
     "output_type": "display_data"
    }
   ],
   "source": [
    "dataset['Forecast'] = result.predict(start=130, end=144, dynamic = True)\n",
    "dataset[['Thousands of Passengers','Forecast']].plot()"
   ]
  },
  {
   "cell_type": "code",
   "execution_count": null,
   "id": "3c9b243e",
   "metadata": {},
   "outputs": [],
   "source": [
    "# predict 5 years passengers details\n",
    "# 1961 to 1965"
   ]
  },
  {
   "cell_type": "code",
   "execution_count": null,
   "id": "cb21812f",
   "metadata": {},
   "outputs": [],
   "source": []
  },
  {
   "cell_type": "code",
   "execution_count": null,
   "id": "5528ec9b",
   "metadata": {},
   "outputs": [],
   "source": []
  }
 ],
 "metadata": {
  "kernelspec": {
   "display_name": "Python 3 (ipykernel)",
   "language": "python",
   "name": "python3"
  },
  "language_info": {
   "codemirror_mode": {
    "name": "ipython",
    "version": 3
   },
   "file_extension": ".py",
   "mimetype": "text/x-python",
   "name": "python",
   "nbconvert_exporter": "python",
   "pygments_lexer": "ipython3",
   "version": "3.9.12"
  }
 },
 "nbformat": 4,
 "nbformat_minor": 5
}
